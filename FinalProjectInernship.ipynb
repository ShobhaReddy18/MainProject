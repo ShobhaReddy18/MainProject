{
 "cells": [
  {
   "cell_type": "code",
   "execution_count": 1,
   "metadata": {},
   "outputs": [
    {
     "name": "stdout",
     "output_type": "stream",
     "text": [
      "Defaulting to user installation because normal site-packages is not writeable\n",
      "Requirement already satisfied: wordcloud in c:\\users\\shobha reddy\\appdata\\roaming\\python\\python312\\site-packages (1.9.4)\n",
      "Requirement already satisfied: numpy>=1.6.1 in g:\\project\\lib\\site-packages (from wordcloud) (1.26.4)\n",
      "Requirement already satisfied: pillow in g:\\project\\lib\\site-packages (from wordcloud) (10.4.0)\n",
      "Requirement already satisfied: matplotlib in g:\\project\\lib\\site-packages (from wordcloud) (3.9.2)\n",
      "Requirement already satisfied: contourpy>=1.0.1 in g:\\project\\lib\\site-packages (from matplotlib->wordcloud) (1.2.0)\n",
      "Requirement already satisfied: cycler>=0.10 in g:\\project\\lib\\site-packages (from matplotlib->wordcloud) (0.11.0)\n",
      "Requirement already satisfied: fonttools>=4.22.0 in g:\\project\\lib\\site-packages (from matplotlib->wordcloud) (4.51.0)\n",
      "Requirement already satisfied: kiwisolver>=1.3.1 in g:\\project\\lib\\site-packages (from matplotlib->wordcloud) (1.4.4)\n",
      "Requirement already satisfied: packaging>=20.0 in g:\\project\\lib\\site-packages (from matplotlib->wordcloud) (24.1)\n",
      "Requirement already satisfied: pyparsing>=2.3.1 in g:\\project\\lib\\site-packages (from matplotlib->wordcloud) (3.1.2)\n",
      "Requirement already satisfied: python-dateutil>=2.7 in g:\\project\\lib\\site-packages (from matplotlib->wordcloud) (2.9.0.post0)\n",
      "Requirement already satisfied: six>=1.5 in g:\\project\\lib\\site-packages (from python-dateutil>=2.7->matplotlib->wordcloud) (1.16.0)\n"
     ]
    }
   ],
   "source": [
    "!pip install wordcloud"
   ]
  },
  {
   "cell_type": "code",
   "execution_count": 2,
   "metadata": {
    "id": "MkwOK2siVxkH"
   },
   "outputs": [],
   "source": [
    "import pandas as pd\n",
    "import numpy as np\n",
    "import matplotlib.pyplot as plt\n",
    "import seaborn as sns\n",
    "import random\n",
    "from wordcloud import WordCloud"
   ]
  },
  {
   "cell_type": "markdown",
   "metadata": {
    "id": "n20Ekxr6hTNv"
   },
   "source": [
    "###Loading of the Zomato dataset.\n",
    "\n",
    "##Preprocessing of the data\n",
    "\n",
    "###Exploring the data"
   ]
  },
  {
   "cell_type": "code",
   "execution_count": 3,
   "metadata": {
    "colab": {
     "base_uri": "https://localhost:8080/",
     "height": 1000
    },
    "id": "HPhJf71zZ0G8",
    "outputId": "4b616e19-02bf-4be9-a691-8a0736ebea3f"
   },
   "outputs": [
    {
     "data": {
      "text/html": [
       "<div>\n",
       "<style scoped>\n",
       "    .dataframe tbody tr th:only-of-type {\n",
       "        vertical-align: middle;\n",
       "    }\n",
       "\n",
       "    .dataframe tbody tr th {\n",
       "        vertical-align: top;\n",
       "    }\n",
       "\n",
       "    .dataframe thead th {\n",
       "        text-align: right;\n",
       "    }\n",
       "</style>\n",
       "<table border=\"1\" class=\"dataframe\">\n",
       "  <thead>\n",
       "    <tr style=\"text-align: right;\">\n",
       "      <th></th>\n",
       "      <th>res_id</th>\n",
       "      <th>name</th>\n",
       "      <th>establishment</th>\n",
       "      <th>url</th>\n",
       "      <th>address</th>\n",
       "      <th>city</th>\n",
       "      <th>city_id</th>\n",
       "      <th>locality</th>\n",
       "      <th>latitude</th>\n",
       "      <th>longitude</th>\n",
       "      <th>...</th>\n",
       "      <th>price_range</th>\n",
       "      <th>currency</th>\n",
       "      <th>highlights</th>\n",
       "      <th>aggregate_rating</th>\n",
       "      <th>rating_text</th>\n",
       "      <th>votes</th>\n",
       "      <th>photo_count</th>\n",
       "      <th>opentable_support</th>\n",
       "      <th>delivery</th>\n",
       "      <th>takeaway</th>\n",
       "    </tr>\n",
       "  </thead>\n",
       "  <tbody>\n",
       "    <tr>\n",
       "      <th>0</th>\n",
       "      <td>3400299</td>\n",
       "      <td>Bikanervala</td>\n",
       "      <td>['Quick Bites']</td>\n",
       "      <td>https://www.zomato.com/agra/bikanervala-khanda...</td>\n",
       "      <td>Kalyani Point, Near Tulsi Cinema, Bypass Road,...</td>\n",
       "      <td>Agra</td>\n",
       "      <td>34</td>\n",
       "      <td>Khandari</td>\n",
       "      <td>27.211450</td>\n",
       "      <td>78.002381</td>\n",
       "      <td>...</td>\n",
       "      <td>2</td>\n",
       "      <td>Rs.</td>\n",
       "      <td>['Lunch', 'Takeaway Available', 'Credit Card',...</td>\n",
       "      <td>4.4</td>\n",
       "      <td>Very Good</td>\n",
       "      <td>814</td>\n",
       "      <td>154</td>\n",
       "      <td>0.0</td>\n",
       "      <td>-1</td>\n",
       "      <td>-1</td>\n",
       "    </tr>\n",
       "    <tr>\n",
       "      <th>1</th>\n",
       "      <td>3400005</td>\n",
       "      <td>Mama Chicken Mama Franky House</td>\n",
       "      <td>['Quick Bites']</td>\n",
       "      <td>https://www.zomato.com/agra/mama-chicken-mama-...</td>\n",
       "      <td>Main Market, Sadar Bazaar, Agra Cantt, Agra</td>\n",
       "      <td>Agra</td>\n",
       "      <td>34</td>\n",
       "      <td>Agra Cantt</td>\n",
       "      <td>27.160569</td>\n",
       "      <td>78.011583</td>\n",
       "      <td>...</td>\n",
       "      <td>2</td>\n",
       "      <td>Rs.</td>\n",
       "      <td>['Delivery', 'No Alcohol Available', 'Dinner',...</td>\n",
       "      <td>4.4</td>\n",
       "      <td>Very Good</td>\n",
       "      <td>1203</td>\n",
       "      <td>161</td>\n",
       "      <td>0.0</td>\n",
       "      <td>-1</td>\n",
       "      <td>-1</td>\n",
       "    </tr>\n",
       "    <tr>\n",
       "      <th>2</th>\n",
       "      <td>3401013</td>\n",
       "      <td>Bhagat Halwai</td>\n",
       "      <td>['Quick Bites']</td>\n",
       "      <td>https://www.zomato.com/agra/bhagat-halwai-2-sh...</td>\n",
       "      <td>62/1, Near Easy Day, West Shivaji Nagar, Goalp...</td>\n",
       "      <td>Agra</td>\n",
       "      <td>34</td>\n",
       "      <td>Shahganj</td>\n",
       "      <td>27.182938</td>\n",
       "      <td>77.979684</td>\n",
       "      <td>...</td>\n",
       "      <td>1</td>\n",
       "      <td>Rs.</td>\n",
       "      <td>['No Alcohol Available', 'Dinner', 'Takeaway A...</td>\n",
       "      <td>4.2</td>\n",
       "      <td>Very Good</td>\n",
       "      <td>801</td>\n",
       "      <td>107</td>\n",
       "      <td>0.0</td>\n",
       "      <td>1</td>\n",
       "      <td>-1</td>\n",
       "    </tr>\n",
       "    <tr>\n",
       "      <th>3</th>\n",
       "      <td>3400290</td>\n",
       "      <td>Bhagat Halwai</td>\n",
       "      <td>['Quick Bites']</td>\n",
       "      <td>https://www.zomato.com/agra/bhagat-halwai-civi...</td>\n",
       "      <td>Near Anjana Cinema, Nehru Nagar, Civil Lines, ...</td>\n",
       "      <td>Agra</td>\n",
       "      <td>34</td>\n",
       "      <td>Civil Lines</td>\n",
       "      <td>27.205668</td>\n",
       "      <td>78.004799</td>\n",
       "      <td>...</td>\n",
       "      <td>1</td>\n",
       "      <td>Rs.</td>\n",
       "      <td>['Takeaway Available', 'Credit Card', 'Lunch',...</td>\n",
       "      <td>4.3</td>\n",
       "      <td>Very Good</td>\n",
       "      <td>693</td>\n",
       "      <td>157</td>\n",
       "      <td>0.0</td>\n",
       "      <td>1</td>\n",
       "      <td>-1</td>\n",
       "    </tr>\n",
       "    <tr>\n",
       "      <th>4</th>\n",
       "      <td>3401744</td>\n",
       "      <td>The Salt Cafe Kitchen &amp; Bar</td>\n",
       "      <td>['Casual Dining']</td>\n",
       "      <td>https://www.zomato.com/agra/the-salt-cafe-kitc...</td>\n",
       "      <td>1C,3rd Floor, Fatehabad Road, Tajganj, Agra</td>\n",
       "      <td>Agra</td>\n",
       "      <td>34</td>\n",
       "      <td>Tajganj</td>\n",
       "      <td>27.157709</td>\n",
       "      <td>78.052421</td>\n",
       "      <td>...</td>\n",
       "      <td>3</td>\n",
       "      <td>Rs.</td>\n",
       "      <td>['Lunch', 'Serves Alcohol', 'Cash', 'Credit Ca...</td>\n",
       "      <td>4.9</td>\n",
       "      <td>Excellent</td>\n",
       "      <td>470</td>\n",
       "      <td>291</td>\n",
       "      <td>0.0</td>\n",
       "      <td>1</td>\n",
       "      <td>-1</td>\n",
       "    </tr>\n",
       "    <tr>\n",
       "      <th>...</th>\n",
       "      <td>...</td>\n",
       "      <td>...</td>\n",
       "      <td>...</td>\n",
       "      <td>...</td>\n",
       "      <td>...</td>\n",
       "      <td>...</td>\n",
       "      <td>...</td>\n",
       "      <td>...</td>\n",
       "      <td>...</td>\n",
       "      <td>...</td>\n",
       "      <td>...</td>\n",
       "      <td>...</td>\n",
       "      <td>...</td>\n",
       "      <td>...</td>\n",
       "      <td>...</td>\n",
       "      <td>...</td>\n",
       "      <td>...</td>\n",
       "      <td>...</td>\n",
       "      <td>...</td>\n",
       "      <td>...</td>\n",
       "      <td>...</td>\n",
       "    </tr>\n",
       "    <tr>\n",
       "      <th>211939</th>\n",
       "      <td>3202251</td>\n",
       "      <td>Kali Mirch Cafe And Restaurant</td>\n",
       "      <td>['Casual Dining']</td>\n",
       "      <td>https://www.zomato.com/vadodara/kali-mirch-caf...</td>\n",
       "      <td>Manu Smriti Complex, Near Navrachna School, GI...</td>\n",
       "      <td>Vadodara</td>\n",
       "      <td>32</td>\n",
       "      <td>Fatehgunj</td>\n",
       "      <td>22.336931</td>\n",
       "      <td>73.192356</td>\n",
       "      <td>...</td>\n",
       "      <td>2</td>\n",
       "      <td>Rs.</td>\n",
       "      <td>['Dinner', 'Cash', 'Lunch', 'Delivery', 'Indoo...</td>\n",
       "      <td>4.1</td>\n",
       "      <td>Very Good</td>\n",
       "      <td>243</td>\n",
       "      <td>40</td>\n",
       "      <td>0.0</td>\n",
       "      <td>-1</td>\n",
       "      <td>-1</td>\n",
       "    </tr>\n",
       "    <tr>\n",
       "      <th>211940</th>\n",
       "      <td>3200996</td>\n",
       "      <td>Raju Omlet</td>\n",
       "      <td>['Quick Bites']</td>\n",
       "      <td>https://www.zomato.com/vadodara/raju-omlet-kar...</td>\n",
       "      <td>Mahalaxmi Apartment, Opposite B O B, Karoli Ba...</td>\n",
       "      <td>Vadodara</td>\n",
       "      <td>32</td>\n",
       "      <td>Karelibaug</td>\n",
       "      <td>22.322455</td>\n",
       "      <td>73.197203</td>\n",
       "      <td>...</td>\n",
       "      <td>1</td>\n",
       "      <td>Rs.</td>\n",
       "      <td>['Dinner', 'Cash', 'Takeaway Available', 'Debi...</td>\n",
       "      <td>4.1</td>\n",
       "      <td>Very Good</td>\n",
       "      <td>187</td>\n",
       "      <td>40</td>\n",
       "      <td>0.0</td>\n",
       "      <td>1</td>\n",
       "      <td>-1</td>\n",
       "    </tr>\n",
       "    <tr>\n",
       "      <th>211941</th>\n",
       "      <td>18984164</td>\n",
       "      <td>The Grand Thakar</td>\n",
       "      <td>['Casual Dining']</td>\n",
       "      <td>https://www.zomato.com/vadodara/the-grand-thak...</td>\n",
       "      <td>3rd Floor, Shreem Shalini Mall, Opposite Conqu...</td>\n",
       "      <td>Vadodara</td>\n",
       "      <td>32</td>\n",
       "      <td>Alkapuri</td>\n",
       "      <td>22.310563</td>\n",
       "      <td>73.171163</td>\n",
       "      <td>...</td>\n",
       "      <td>2</td>\n",
       "      <td>Rs.</td>\n",
       "      <td>['Dinner', 'Cash', 'Debit Card', 'Lunch', 'Tak...</td>\n",
       "      <td>4.0</td>\n",
       "      <td>Very Good</td>\n",
       "      <td>111</td>\n",
       "      <td>38</td>\n",
       "      <td>0.0</td>\n",
       "      <td>-1</td>\n",
       "      <td>-1</td>\n",
       "    </tr>\n",
       "    <tr>\n",
       "      <th>211942</th>\n",
       "      <td>3201138</td>\n",
       "      <td>Subway</td>\n",
       "      <td>['Quick Bites']</td>\n",
       "      <td>https://www.zomato.com/vadodara/subway-1-akota...</td>\n",
       "      <td>G-2, Vedant Platina, Near Cosmos, Akota, Vadodara</td>\n",
       "      <td>Vadodara</td>\n",
       "      <td>32</td>\n",
       "      <td>Akota</td>\n",
       "      <td>22.270027</td>\n",
       "      <td>73.143068</td>\n",
       "      <td>...</td>\n",
       "      <td>2</td>\n",
       "      <td>Rs.</td>\n",
       "      <td>['Dinner', 'Delivery', 'Credit Card', 'Lunch',...</td>\n",
       "      <td>3.7</td>\n",
       "      <td>Good</td>\n",
       "      <td>128</td>\n",
       "      <td>34</td>\n",
       "      <td>0.0</td>\n",
       "      <td>1</td>\n",
       "      <td>-1</td>\n",
       "    </tr>\n",
       "    <tr>\n",
       "      <th>211943</th>\n",
       "      <td>18879846</td>\n",
       "      <td>Freshco's - The Health Cafe</td>\n",
       "      <td>['Café']</td>\n",
       "      <td>https://www.zomato.com/vadodara/freshcos-the-h...</td>\n",
       "      <td>Shop 7, Ground Floor, Opposite Natubhai Circle...</td>\n",
       "      <td>Vadodara</td>\n",
       "      <td>32</td>\n",
       "      <td>Vadiwadi</td>\n",
       "      <td>22.309935</td>\n",
       "      <td>73.158768</td>\n",
       "      <td>...</td>\n",
       "      <td>2</td>\n",
       "      <td>Rs.</td>\n",
       "      <td>['Dinner', 'Cash', 'Takeaway Available', 'Debi...</td>\n",
       "      <td>4.0</td>\n",
       "      <td>Very Good</td>\n",
       "      <td>93</td>\n",
       "      <td>53</td>\n",
       "      <td>0.0</td>\n",
       "      <td>1</td>\n",
       "      <td>-1</td>\n",
       "    </tr>\n",
       "  </tbody>\n",
       "</table>\n",
       "<p>211944 rows × 26 columns</p>\n",
       "</div>"
      ],
      "text/plain": [
       "          res_id                            name      establishment  \\\n",
       "0        3400299                     Bikanervala    ['Quick Bites']   \n",
       "1        3400005  Mama Chicken Mama Franky House    ['Quick Bites']   \n",
       "2        3401013                   Bhagat Halwai    ['Quick Bites']   \n",
       "3        3400290                   Bhagat Halwai    ['Quick Bites']   \n",
       "4        3401744     The Salt Cafe Kitchen & Bar  ['Casual Dining']   \n",
       "...          ...                             ...                ...   \n",
       "211939   3202251  Kali Mirch Cafe And Restaurant  ['Casual Dining']   \n",
       "211940   3200996                      Raju Omlet    ['Quick Bites']   \n",
       "211941  18984164                The Grand Thakar  ['Casual Dining']   \n",
       "211942   3201138                          Subway    ['Quick Bites']   \n",
       "211943  18879846     Freshco's - The Health Cafe           ['Café']   \n",
       "\n",
       "                                                      url  \\\n",
       "0       https://www.zomato.com/agra/bikanervala-khanda...   \n",
       "1       https://www.zomato.com/agra/mama-chicken-mama-...   \n",
       "2       https://www.zomato.com/agra/bhagat-halwai-2-sh...   \n",
       "3       https://www.zomato.com/agra/bhagat-halwai-civi...   \n",
       "4       https://www.zomato.com/agra/the-salt-cafe-kitc...   \n",
       "...                                                   ...   \n",
       "211939  https://www.zomato.com/vadodara/kali-mirch-caf...   \n",
       "211940  https://www.zomato.com/vadodara/raju-omlet-kar...   \n",
       "211941  https://www.zomato.com/vadodara/the-grand-thak...   \n",
       "211942  https://www.zomato.com/vadodara/subway-1-akota...   \n",
       "211943  https://www.zomato.com/vadodara/freshcos-the-h...   \n",
       "\n",
       "                                                  address      city  city_id  \\\n",
       "0       Kalyani Point, Near Tulsi Cinema, Bypass Road,...      Agra       34   \n",
       "1             Main Market, Sadar Bazaar, Agra Cantt, Agra      Agra       34   \n",
       "2       62/1, Near Easy Day, West Shivaji Nagar, Goalp...      Agra       34   \n",
       "3       Near Anjana Cinema, Nehru Nagar, Civil Lines, ...      Agra       34   \n",
       "4             1C,3rd Floor, Fatehabad Road, Tajganj, Agra      Agra       34   \n",
       "...                                                   ...       ...      ...   \n",
       "211939  Manu Smriti Complex, Near Navrachna School, GI...  Vadodara       32   \n",
       "211940  Mahalaxmi Apartment, Opposite B O B, Karoli Ba...  Vadodara       32   \n",
       "211941  3rd Floor, Shreem Shalini Mall, Opposite Conqu...  Vadodara       32   \n",
       "211942  G-2, Vedant Platina, Near Cosmos, Akota, Vadodara  Vadodara       32   \n",
       "211943  Shop 7, Ground Floor, Opposite Natubhai Circle...  Vadodara       32   \n",
       "\n",
       "           locality   latitude  longitude  ... price_range  currency  \\\n",
       "0          Khandari  27.211450  78.002381  ...           2       Rs.   \n",
       "1        Agra Cantt  27.160569  78.011583  ...           2       Rs.   \n",
       "2          Shahganj  27.182938  77.979684  ...           1       Rs.   \n",
       "3       Civil Lines  27.205668  78.004799  ...           1       Rs.   \n",
       "4           Tajganj  27.157709  78.052421  ...           3       Rs.   \n",
       "...             ...        ...        ...  ...         ...       ...   \n",
       "211939    Fatehgunj  22.336931  73.192356  ...           2       Rs.   \n",
       "211940   Karelibaug  22.322455  73.197203  ...           1       Rs.   \n",
       "211941     Alkapuri  22.310563  73.171163  ...           2       Rs.   \n",
       "211942        Akota  22.270027  73.143068  ...           2       Rs.   \n",
       "211943     Vadiwadi  22.309935  73.158768  ...           2       Rs.   \n",
       "\n",
       "                                               highlights aggregate_rating  \\\n",
       "0       ['Lunch', 'Takeaway Available', 'Credit Card',...              4.4   \n",
       "1       ['Delivery', 'No Alcohol Available', 'Dinner',...              4.4   \n",
       "2       ['No Alcohol Available', 'Dinner', 'Takeaway A...              4.2   \n",
       "3       ['Takeaway Available', 'Credit Card', 'Lunch',...              4.3   \n",
       "4       ['Lunch', 'Serves Alcohol', 'Cash', 'Credit Ca...              4.9   \n",
       "...                                                   ...              ...   \n",
       "211939  ['Dinner', 'Cash', 'Lunch', 'Delivery', 'Indoo...              4.1   \n",
       "211940  ['Dinner', 'Cash', 'Takeaway Available', 'Debi...              4.1   \n",
       "211941  ['Dinner', 'Cash', 'Debit Card', 'Lunch', 'Tak...              4.0   \n",
       "211942  ['Dinner', 'Delivery', 'Credit Card', 'Lunch',...              3.7   \n",
       "211943  ['Dinner', 'Cash', 'Takeaway Available', 'Debi...              4.0   \n",
       "\n",
       "       rating_text  votes  photo_count opentable_support delivery  takeaway  \n",
       "0        Very Good    814          154               0.0       -1        -1  \n",
       "1        Very Good   1203          161               0.0       -1        -1  \n",
       "2        Very Good    801          107               0.0        1        -1  \n",
       "3        Very Good    693          157               0.0        1        -1  \n",
       "4        Excellent    470          291               0.0        1        -1  \n",
       "...            ...    ...          ...               ...      ...       ...  \n",
       "211939   Very Good    243           40               0.0       -1        -1  \n",
       "211940   Very Good    187           40               0.0        1        -1  \n",
       "211941   Very Good    111           38               0.0       -1        -1  \n",
       "211942        Good    128           34               0.0        1        -1  \n",
       "211943   Very Good     93           53               0.0        1        -1  \n",
       "\n",
       "[211944 rows x 26 columns]"
      ]
     },
     "execution_count": 3,
     "metadata": {},
     "output_type": "execute_result"
    }
   ],
   "source": [
    "pd.read_csv(r\"C:\\Users\\SHOBHA REDDY\\OneDrive\\Desktop\\zomato_restaurants_in_India 2.csv\")"
   ]
  },
  {
   "cell_type": "code",
   "execution_count": 4,
   "metadata": {
    "id": "RaDuyilOZ56N"
   },
   "outputs": [],
   "source": [
    "data  = pd.read_csv(r\"C:\\Users\\SHOBHA REDDY\\OneDrive\\Desktop\\zomato_restaurants_in_India 2.csv\")"
   ]
  },
  {
   "cell_type": "code",
   "execution_count": 5,
   "metadata": {
    "colab": {
     "base_uri": "https://localhost:8080/"
    },
    "id": "KRV9F2-uaNR0",
    "outputId": "a45c61e8-1ede-4356-b9e1-9f2620fa74c5"
   },
   "outputs": [
    {
     "data": {
      "text/plain": [
       "(211944, 26)"
      ]
     },
     "execution_count": 5,
     "metadata": {},
     "output_type": "execute_result"
    }
   ],
   "source": [
    "data.shape"
   ]
  },
  {
   "cell_type": "code",
   "execution_count": 6,
   "metadata": {
    "colab": {
     "base_uri": "https://localhost:8080/",
     "height": 724
    },
    "id": "XbNHquXXaPE2",
    "outputId": "bad0cd40-3c71-40b7-e5d8-6780e1e10007"
   },
   "outputs": [
    {
     "data": {
      "text/html": [
       "<div>\n",
       "<style scoped>\n",
       "    .dataframe tbody tr th:only-of-type {\n",
       "        vertical-align: middle;\n",
       "    }\n",
       "\n",
       "    .dataframe tbody tr th {\n",
       "        vertical-align: top;\n",
       "    }\n",
       "\n",
       "    .dataframe thead th {\n",
       "        text-align: right;\n",
       "    }\n",
       "</style>\n",
       "<table border=\"1\" class=\"dataframe\">\n",
       "  <thead>\n",
       "    <tr style=\"text-align: right;\">\n",
       "      <th></th>\n",
       "      <th>res_id</th>\n",
       "      <th>name</th>\n",
       "      <th>establishment</th>\n",
       "      <th>url</th>\n",
       "      <th>address</th>\n",
       "      <th>city</th>\n",
       "      <th>city_id</th>\n",
       "      <th>locality</th>\n",
       "      <th>latitude</th>\n",
       "      <th>longitude</th>\n",
       "      <th>...</th>\n",
       "      <th>price_range</th>\n",
       "      <th>currency</th>\n",
       "      <th>highlights</th>\n",
       "      <th>aggregate_rating</th>\n",
       "      <th>rating_text</th>\n",
       "      <th>votes</th>\n",
       "      <th>photo_count</th>\n",
       "      <th>opentable_support</th>\n",
       "      <th>delivery</th>\n",
       "      <th>takeaway</th>\n",
       "    </tr>\n",
       "  </thead>\n",
       "  <tbody>\n",
       "    <tr>\n",
       "      <th>211939</th>\n",
       "      <td>3202251</td>\n",
       "      <td>Kali Mirch Cafe And Restaurant</td>\n",
       "      <td>['Casual Dining']</td>\n",
       "      <td>https://www.zomato.com/vadodara/kali-mirch-caf...</td>\n",
       "      <td>Manu Smriti Complex, Near Navrachna School, GI...</td>\n",
       "      <td>Vadodara</td>\n",
       "      <td>32</td>\n",
       "      <td>Fatehgunj</td>\n",
       "      <td>22.336931</td>\n",
       "      <td>73.192356</td>\n",
       "      <td>...</td>\n",
       "      <td>2</td>\n",
       "      <td>Rs.</td>\n",
       "      <td>['Dinner', 'Cash', 'Lunch', 'Delivery', 'Indoo...</td>\n",
       "      <td>4.1</td>\n",
       "      <td>Very Good</td>\n",
       "      <td>243</td>\n",
       "      <td>40</td>\n",
       "      <td>0.0</td>\n",
       "      <td>-1</td>\n",
       "      <td>-1</td>\n",
       "    </tr>\n",
       "    <tr>\n",
       "      <th>211940</th>\n",
       "      <td>3200996</td>\n",
       "      <td>Raju Omlet</td>\n",
       "      <td>['Quick Bites']</td>\n",
       "      <td>https://www.zomato.com/vadodara/raju-omlet-kar...</td>\n",
       "      <td>Mahalaxmi Apartment, Opposite B O B, Karoli Ba...</td>\n",
       "      <td>Vadodara</td>\n",
       "      <td>32</td>\n",
       "      <td>Karelibaug</td>\n",
       "      <td>22.322455</td>\n",
       "      <td>73.197203</td>\n",
       "      <td>...</td>\n",
       "      <td>1</td>\n",
       "      <td>Rs.</td>\n",
       "      <td>['Dinner', 'Cash', 'Takeaway Available', 'Debi...</td>\n",
       "      <td>4.1</td>\n",
       "      <td>Very Good</td>\n",
       "      <td>187</td>\n",
       "      <td>40</td>\n",
       "      <td>0.0</td>\n",
       "      <td>1</td>\n",
       "      <td>-1</td>\n",
       "    </tr>\n",
       "    <tr>\n",
       "      <th>211941</th>\n",
       "      <td>18984164</td>\n",
       "      <td>The Grand Thakar</td>\n",
       "      <td>['Casual Dining']</td>\n",
       "      <td>https://www.zomato.com/vadodara/the-grand-thak...</td>\n",
       "      <td>3rd Floor, Shreem Shalini Mall, Opposite Conqu...</td>\n",
       "      <td>Vadodara</td>\n",
       "      <td>32</td>\n",
       "      <td>Alkapuri</td>\n",
       "      <td>22.310563</td>\n",
       "      <td>73.171163</td>\n",
       "      <td>...</td>\n",
       "      <td>2</td>\n",
       "      <td>Rs.</td>\n",
       "      <td>['Dinner', 'Cash', 'Debit Card', 'Lunch', 'Tak...</td>\n",
       "      <td>4.0</td>\n",
       "      <td>Very Good</td>\n",
       "      <td>111</td>\n",
       "      <td>38</td>\n",
       "      <td>0.0</td>\n",
       "      <td>-1</td>\n",
       "      <td>-1</td>\n",
       "    </tr>\n",
       "    <tr>\n",
       "      <th>211942</th>\n",
       "      <td>3201138</td>\n",
       "      <td>Subway</td>\n",
       "      <td>['Quick Bites']</td>\n",
       "      <td>https://www.zomato.com/vadodara/subway-1-akota...</td>\n",
       "      <td>G-2, Vedant Platina, Near Cosmos, Akota, Vadodara</td>\n",
       "      <td>Vadodara</td>\n",
       "      <td>32</td>\n",
       "      <td>Akota</td>\n",
       "      <td>22.270027</td>\n",
       "      <td>73.143068</td>\n",
       "      <td>...</td>\n",
       "      <td>2</td>\n",
       "      <td>Rs.</td>\n",
       "      <td>['Dinner', 'Delivery', 'Credit Card', 'Lunch',...</td>\n",
       "      <td>3.7</td>\n",
       "      <td>Good</td>\n",
       "      <td>128</td>\n",
       "      <td>34</td>\n",
       "      <td>0.0</td>\n",
       "      <td>1</td>\n",
       "      <td>-1</td>\n",
       "    </tr>\n",
       "    <tr>\n",
       "      <th>211943</th>\n",
       "      <td>18879846</td>\n",
       "      <td>Freshco's - The Health Cafe</td>\n",
       "      <td>['Café']</td>\n",
       "      <td>https://www.zomato.com/vadodara/freshcos-the-h...</td>\n",
       "      <td>Shop 7, Ground Floor, Opposite Natubhai Circle...</td>\n",
       "      <td>Vadodara</td>\n",
       "      <td>32</td>\n",
       "      <td>Vadiwadi</td>\n",
       "      <td>22.309935</td>\n",
       "      <td>73.158768</td>\n",
       "      <td>...</td>\n",
       "      <td>2</td>\n",
       "      <td>Rs.</td>\n",
       "      <td>['Dinner', 'Cash', 'Takeaway Available', 'Debi...</td>\n",
       "      <td>4.0</td>\n",
       "      <td>Very Good</td>\n",
       "      <td>93</td>\n",
       "      <td>53</td>\n",
       "      <td>0.0</td>\n",
       "      <td>1</td>\n",
       "      <td>-1</td>\n",
       "    </tr>\n",
       "  </tbody>\n",
       "</table>\n",
       "<p>5 rows × 26 columns</p>\n",
       "</div>"
      ],
      "text/plain": [
       "          res_id                            name      establishment  \\\n",
       "211939   3202251  Kali Mirch Cafe And Restaurant  ['Casual Dining']   \n",
       "211940   3200996                      Raju Omlet    ['Quick Bites']   \n",
       "211941  18984164                The Grand Thakar  ['Casual Dining']   \n",
       "211942   3201138                          Subway    ['Quick Bites']   \n",
       "211943  18879846     Freshco's - The Health Cafe           ['Café']   \n",
       "\n",
       "                                                      url  \\\n",
       "211939  https://www.zomato.com/vadodara/kali-mirch-caf...   \n",
       "211940  https://www.zomato.com/vadodara/raju-omlet-kar...   \n",
       "211941  https://www.zomato.com/vadodara/the-grand-thak...   \n",
       "211942  https://www.zomato.com/vadodara/subway-1-akota...   \n",
       "211943  https://www.zomato.com/vadodara/freshcos-the-h...   \n",
       "\n",
       "                                                  address      city  city_id  \\\n",
       "211939  Manu Smriti Complex, Near Navrachna School, GI...  Vadodara       32   \n",
       "211940  Mahalaxmi Apartment, Opposite B O B, Karoli Ba...  Vadodara       32   \n",
       "211941  3rd Floor, Shreem Shalini Mall, Opposite Conqu...  Vadodara       32   \n",
       "211942  G-2, Vedant Platina, Near Cosmos, Akota, Vadodara  Vadodara       32   \n",
       "211943  Shop 7, Ground Floor, Opposite Natubhai Circle...  Vadodara       32   \n",
       "\n",
       "          locality   latitude  longitude  ... price_range  currency  \\\n",
       "211939   Fatehgunj  22.336931  73.192356  ...           2       Rs.   \n",
       "211940  Karelibaug  22.322455  73.197203  ...           1       Rs.   \n",
       "211941    Alkapuri  22.310563  73.171163  ...           2       Rs.   \n",
       "211942       Akota  22.270027  73.143068  ...           2       Rs.   \n",
       "211943    Vadiwadi  22.309935  73.158768  ...           2       Rs.   \n",
       "\n",
       "                                               highlights aggregate_rating  \\\n",
       "211939  ['Dinner', 'Cash', 'Lunch', 'Delivery', 'Indoo...              4.1   \n",
       "211940  ['Dinner', 'Cash', 'Takeaway Available', 'Debi...              4.1   \n",
       "211941  ['Dinner', 'Cash', 'Debit Card', 'Lunch', 'Tak...              4.0   \n",
       "211942  ['Dinner', 'Delivery', 'Credit Card', 'Lunch',...              3.7   \n",
       "211943  ['Dinner', 'Cash', 'Takeaway Available', 'Debi...              4.0   \n",
       "\n",
       "       rating_text  votes  photo_count opentable_support delivery  takeaway  \n",
       "211939   Very Good    243           40               0.0       -1        -1  \n",
       "211940   Very Good    187           40               0.0        1        -1  \n",
       "211941   Very Good    111           38               0.0       -1        -1  \n",
       "211942        Good    128           34               0.0        1        -1  \n",
       "211943   Very Good     93           53               0.0        1        -1  \n",
       "\n",
       "[5 rows x 26 columns]"
      ]
     },
     "execution_count": 6,
     "metadata": {},
     "output_type": "execute_result"
    }
   ],
   "source": [
    "data.tail()"
   ]
  },
  {
   "cell_type": "code",
   "execution_count": 7,
   "metadata": {
    "colab": {
     "base_uri": "https://localhost:8080/",
     "height": 724
    },
    "id": "lt92U2HbaWQW",
    "outputId": "e9974462-6e81-4b04-e727-dd974f2de9a2"
   },
   "outputs": [
    {
     "data": {
      "text/html": [
       "<div>\n",
       "<style scoped>\n",
       "    .dataframe tbody tr th:only-of-type {\n",
       "        vertical-align: middle;\n",
       "    }\n",
       "\n",
       "    .dataframe tbody tr th {\n",
       "        vertical-align: top;\n",
       "    }\n",
       "\n",
       "    .dataframe thead th {\n",
       "        text-align: right;\n",
       "    }\n",
       "</style>\n",
       "<table border=\"1\" class=\"dataframe\">\n",
       "  <thead>\n",
       "    <tr style=\"text-align: right;\">\n",
       "      <th></th>\n",
       "      <th>res_id</th>\n",
       "      <th>name</th>\n",
       "      <th>establishment</th>\n",
       "      <th>url</th>\n",
       "      <th>address</th>\n",
       "      <th>city</th>\n",
       "      <th>city_id</th>\n",
       "      <th>locality</th>\n",
       "      <th>latitude</th>\n",
       "      <th>longitude</th>\n",
       "      <th>...</th>\n",
       "      <th>price_range</th>\n",
       "      <th>currency</th>\n",
       "      <th>highlights</th>\n",
       "      <th>aggregate_rating</th>\n",
       "      <th>rating_text</th>\n",
       "      <th>votes</th>\n",
       "      <th>photo_count</th>\n",
       "      <th>opentable_support</th>\n",
       "      <th>delivery</th>\n",
       "      <th>takeaway</th>\n",
       "    </tr>\n",
       "  </thead>\n",
       "  <tbody>\n",
       "    <tr>\n",
       "      <th>0</th>\n",
       "      <td>3400299</td>\n",
       "      <td>Bikanervala</td>\n",
       "      <td>['Quick Bites']</td>\n",
       "      <td>https://www.zomato.com/agra/bikanervala-khanda...</td>\n",
       "      <td>Kalyani Point, Near Tulsi Cinema, Bypass Road,...</td>\n",
       "      <td>Agra</td>\n",
       "      <td>34</td>\n",
       "      <td>Khandari</td>\n",
       "      <td>27.211450</td>\n",
       "      <td>78.002381</td>\n",
       "      <td>...</td>\n",
       "      <td>2</td>\n",
       "      <td>Rs.</td>\n",
       "      <td>['Lunch', 'Takeaway Available', 'Credit Card',...</td>\n",
       "      <td>4.4</td>\n",
       "      <td>Very Good</td>\n",
       "      <td>814</td>\n",
       "      <td>154</td>\n",
       "      <td>0.0</td>\n",
       "      <td>-1</td>\n",
       "      <td>-1</td>\n",
       "    </tr>\n",
       "    <tr>\n",
       "      <th>1</th>\n",
       "      <td>3400005</td>\n",
       "      <td>Mama Chicken Mama Franky House</td>\n",
       "      <td>['Quick Bites']</td>\n",
       "      <td>https://www.zomato.com/agra/mama-chicken-mama-...</td>\n",
       "      <td>Main Market, Sadar Bazaar, Agra Cantt, Agra</td>\n",
       "      <td>Agra</td>\n",
       "      <td>34</td>\n",
       "      <td>Agra Cantt</td>\n",
       "      <td>27.160569</td>\n",
       "      <td>78.011583</td>\n",
       "      <td>...</td>\n",
       "      <td>2</td>\n",
       "      <td>Rs.</td>\n",
       "      <td>['Delivery', 'No Alcohol Available', 'Dinner',...</td>\n",
       "      <td>4.4</td>\n",
       "      <td>Very Good</td>\n",
       "      <td>1203</td>\n",
       "      <td>161</td>\n",
       "      <td>0.0</td>\n",
       "      <td>-1</td>\n",
       "      <td>-1</td>\n",
       "    </tr>\n",
       "    <tr>\n",
       "      <th>2</th>\n",
       "      <td>3401013</td>\n",
       "      <td>Bhagat Halwai</td>\n",
       "      <td>['Quick Bites']</td>\n",
       "      <td>https://www.zomato.com/agra/bhagat-halwai-2-sh...</td>\n",
       "      <td>62/1, Near Easy Day, West Shivaji Nagar, Goalp...</td>\n",
       "      <td>Agra</td>\n",
       "      <td>34</td>\n",
       "      <td>Shahganj</td>\n",
       "      <td>27.182938</td>\n",
       "      <td>77.979684</td>\n",
       "      <td>...</td>\n",
       "      <td>1</td>\n",
       "      <td>Rs.</td>\n",
       "      <td>['No Alcohol Available', 'Dinner', 'Takeaway A...</td>\n",
       "      <td>4.2</td>\n",
       "      <td>Very Good</td>\n",
       "      <td>801</td>\n",
       "      <td>107</td>\n",
       "      <td>0.0</td>\n",
       "      <td>1</td>\n",
       "      <td>-1</td>\n",
       "    </tr>\n",
       "    <tr>\n",
       "      <th>3</th>\n",
       "      <td>3400290</td>\n",
       "      <td>Bhagat Halwai</td>\n",
       "      <td>['Quick Bites']</td>\n",
       "      <td>https://www.zomato.com/agra/bhagat-halwai-civi...</td>\n",
       "      <td>Near Anjana Cinema, Nehru Nagar, Civil Lines, ...</td>\n",
       "      <td>Agra</td>\n",
       "      <td>34</td>\n",
       "      <td>Civil Lines</td>\n",
       "      <td>27.205668</td>\n",
       "      <td>78.004799</td>\n",
       "      <td>...</td>\n",
       "      <td>1</td>\n",
       "      <td>Rs.</td>\n",
       "      <td>['Takeaway Available', 'Credit Card', 'Lunch',...</td>\n",
       "      <td>4.3</td>\n",
       "      <td>Very Good</td>\n",
       "      <td>693</td>\n",
       "      <td>157</td>\n",
       "      <td>0.0</td>\n",
       "      <td>1</td>\n",
       "      <td>-1</td>\n",
       "    </tr>\n",
       "    <tr>\n",
       "      <th>4</th>\n",
       "      <td>3401744</td>\n",
       "      <td>The Salt Cafe Kitchen &amp; Bar</td>\n",
       "      <td>['Casual Dining']</td>\n",
       "      <td>https://www.zomato.com/agra/the-salt-cafe-kitc...</td>\n",
       "      <td>1C,3rd Floor, Fatehabad Road, Tajganj, Agra</td>\n",
       "      <td>Agra</td>\n",
       "      <td>34</td>\n",
       "      <td>Tajganj</td>\n",
       "      <td>27.157709</td>\n",
       "      <td>78.052421</td>\n",
       "      <td>...</td>\n",
       "      <td>3</td>\n",
       "      <td>Rs.</td>\n",
       "      <td>['Lunch', 'Serves Alcohol', 'Cash', 'Credit Ca...</td>\n",
       "      <td>4.9</td>\n",
       "      <td>Excellent</td>\n",
       "      <td>470</td>\n",
       "      <td>291</td>\n",
       "      <td>0.0</td>\n",
       "      <td>1</td>\n",
       "      <td>-1</td>\n",
       "    </tr>\n",
       "  </tbody>\n",
       "</table>\n",
       "<p>5 rows × 26 columns</p>\n",
       "</div>"
      ],
      "text/plain": [
       "    res_id                            name      establishment  \\\n",
       "0  3400299                     Bikanervala    ['Quick Bites']   \n",
       "1  3400005  Mama Chicken Mama Franky House    ['Quick Bites']   \n",
       "2  3401013                   Bhagat Halwai    ['Quick Bites']   \n",
       "3  3400290                   Bhagat Halwai    ['Quick Bites']   \n",
       "4  3401744     The Salt Cafe Kitchen & Bar  ['Casual Dining']   \n",
       "\n",
       "                                                 url  \\\n",
       "0  https://www.zomato.com/agra/bikanervala-khanda...   \n",
       "1  https://www.zomato.com/agra/mama-chicken-mama-...   \n",
       "2  https://www.zomato.com/agra/bhagat-halwai-2-sh...   \n",
       "3  https://www.zomato.com/agra/bhagat-halwai-civi...   \n",
       "4  https://www.zomato.com/agra/the-salt-cafe-kitc...   \n",
       "\n",
       "                                             address  city  city_id  \\\n",
       "0  Kalyani Point, Near Tulsi Cinema, Bypass Road,...  Agra       34   \n",
       "1        Main Market, Sadar Bazaar, Agra Cantt, Agra  Agra       34   \n",
       "2  62/1, Near Easy Day, West Shivaji Nagar, Goalp...  Agra       34   \n",
       "3  Near Anjana Cinema, Nehru Nagar, Civil Lines, ...  Agra       34   \n",
       "4        1C,3rd Floor, Fatehabad Road, Tajganj, Agra  Agra       34   \n",
       "\n",
       "      locality   latitude  longitude  ... price_range  currency  \\\n",
       "0     Khandari  27.211450  78.002381  ...           2       Rs.   \n",
       "1   Agra Cantt  27.160569  78.011583  ...           2       Rs.   \n",
       "2     Shahganj  27.182938  77.979684  ...           1       Rs.   \n",
       "3  Civil Lines  27.205668  78.004799  ...           1       Rs.   \n",
       "4      Tajganj  27.157709  78.052421  ...           3       Rs.   \n",
       "\n",
       "                                          highlights aggregate_rating  \\\n",
       "0  ['Lunch', 'Takeaway Available', 'Credit Card',...              4.4   \n",
       "1  ['Delivery', 'No Alcohol Available', 'Dinner',...              4.4   \n",
       "2  ['No Alcohol Available', 'Dinner', 'Takeaway A...              4.2   \n",
       "3  ['Takeaway Available', 'Credit Card', 'Lunch',...              4.3   \n",
       "4  ['Lunch', 'Serves Alcohol', 'Cash', 'Credit Ca...              4.9   \n",
       "\n",
       "  rating_text  votes  photo_count opentable_support delivery  takeaway  \n",
       "0   Very Good    814          154               0.0       -1        -1  \n",
       "1   Very Good   1203          161               0.0       -1        -1  \n",
       "2   Very Good    801          107               0.0        1        -1  \n",
       "3   Very Good    693          157               0.0        1        -1  \n",
       "4   Excellent    470          291               0.0        1        -1  \n",
       "\n",
       "[5 rows x 26 columns]"
      ]
     },
     "execution_count": 7,
     "metadata": {},
     "output_type": "execute_result"
    }
   ],
   "source": [
    "data.head()"
   ]
  },
  {
   "cell_type": "code",
   "execution_count": 8,
   "metadata": {
    "colab": {
     "base_uri": "https://localhost:8080/"
    },
    "id": "sMIcVTutabL1",
    "outputId": "caf57dd6-3536-435c-d93d-6b98520e5e86"
   },
   "outputs": [
    {
     "data": {
      "text/plain": [
       "array(['Agra', 'Ahmedabad', 'Gandhinagar', 'Ajmer', 'Alappuzha',\n",
       "       'Allahabad', 'Amravati', 'Amritsar', 'Aurangabad', 'Bangalore',\n",
       "       'Bhopal', 'Bhubaneshwar', 'Chandigarh', 'Mohali', 'Panchkula',\n",
       "       'Zirakpur', 'Nayagaon', 'Chennai', 'Coimbatore', 'Cuttack',\n",
       "       'Darjeeling', 'Dehradun', 'New Delhi', 'Gurgaon', 'Noida',\n",
       "       'Faridabad', 'Ghaziabad', 'Greater Noida', 'Dharamshala',\n",
       "       'Gangtok', 'Goa', 'Gorakhpur', 'Guntur', 'Guwahati', 'Gwalior',\n",
       "       'Haridwar', 'Hyderabad', 'Secunderabad', 'Indore', 'Jabalpur',\n",
       "       'Jaipur', 'Jalandhar', 'Jammu', 'Jamnagar', 'Jamshedpur', 'Jhansi',\n",
       "       'Jodhpur', 'Junagadh', 'Kanpur', 'Kharagpur', 'Kochi', 'Kolhapur',\n",
       "       'Kolkata', 'Howrah', 'Kota', 'Lucknow', 'Ludhiana', 'Madurai',\n",
       "       'Manali', 'Mangalore', 'Manipal', 'Udupi', 'Meerut', 'Mumbai',\n",
       "       'Thane', 'Navi Mumbai', 'Mussoorie', 'Mysore', 'Nagpur',\n",
       "       'Nainital', 'Nasik', 'Nashik', 'Neemrana', 'Ooty', 'Palakkad',\n",
       "       'Patiala', 'Patna', 'Puducherry', 'Pune', 'Pushkar', 'Raipur',\n",
       "       'Rajkot', 'Ranchi', 'Rishikesh', 'Salem', 'Shimla', 'Siliguri',\n",
       "       'Srinagar', 'Surat', 'Thrissur', 'Tirupati', 'Trichy',\n",
       "       'Trivandrum', 'Udaipur', 'Varanasi', 'Vellore', 'Vijayawada',\n",
       "       'Vizag', 'Vadodara'], dtype=object)"
      ]
     },
     "execution_count": 8,
     "metadata": {},
     "output_type": "execute_result"
    }
   ],
   "source": [
    "data.city.unique()"
   ]
  },
  {
   "cell_type": "code",
   "execution_count": 9,
   "metadata": {
    "colab": {
     "base_uri": "https://localhost:8080/"
    },
    "id": "p4Rj6yxVafzQ",
    "outputId": "38a27984-c254-4b53-cb64-d71c9576ec0a"
   },
   "outputs": [
    {
     "data": {
      "text/plain": [
       "99"
      ]
     },
     "execution_count": 9,
     "metadata": {},
     "output_type": "execute_result"
    }
   ],
   "source": [
    "data.city.nunique()"
   ]
  },
  {
   "cell_type": "code",
   "execution_count": 10,
   "metadata": {
    "colab": {
     "base_uri": "https://localhost:8080/",
     "height": 1000
    },
    "id": "zgDG1sCqai2Q",
    "outputId": "8a80ac76-c47f-47cc-a79e-9cbc7abd639e"
   },
   "outputs": [
    {
     "data": {
      "text/html": [
       "<div>\n",
       "<style scoped>\n",
       "    .dataframe tbody tr th:only-of-type {\n",
       "        vertical-align: middle;\n",
       "    }\n",
       "\n",
       "    .dataframe tbody tr th {\n",
       "        vertical-align: top;\n",
       "    }\n",
       "\n",
       "    .dataframe thead th {\n",
       "        text-align: right;\n",
       "    }\n",
       "</style>\n",
       "<table border=\"1\" class=\"dataframe\">\n",
       "  <thead>\n",
       "    <tr style=\"text-align: right;\">\n",
       "      <th></th>\n",
       "      <th>res_id</th>\n",
       "      <th>name</th>\n",
       "      <th>establishment</th>\n",
       "      <th>url</th>\n",
       "      <th>address</th>\n",
       "      <th>city</th>\n",
       "      <th>city_id</th>\n",
       "      <th>locality</th>\n",
       "      <th>latitude</th>\n",
       "      <th>longitude</th>\n",
       "      <th>...</th>\n",
       "      <th>price_range</th>\n",
       "      <th>currency</th>\n",
       "      <th>highlights</th>\n",
       "      <th>aggregate_rating</th>\n",
       "      <th>rating_text</th>\n",
       "      <th>votes</th>\n",
       "      <th>photo_count</th>\n",
       "      <th>opentable_support</th>\n",
       "      <th>delivery</th>\n",
       "      <th>takeaway</th>\n",
       "    </tr>\n",
       "  </thead>\n",
       "  <tbody>\n",
       "    <tr>\n",
       "      <th>134852</th>\n",
       "      <td>18562340</td>\n",
       "      <td>Drinkery 51</td>\n",
       "      <td>['Casual Dining']</td>\n",
       "      <td>https://www.zomato.com/mumbai/drinkery-51-band...</td>\n",
       "      <td>1st Floor, Vibgyor Towers, Bandra Kurla Comple...</td>\n",
       "      <td>Mumbai</td>\n",
       "      <td>3</td>\n",
       "      <td>Bandra Kurla Complex</td>\n",
       "      <td>19.067176</td>\n",
       "      <td>72.867493</td>\n",
       "      <td>...</td>\n",
       "      <td>4</td>\n",
       "      <td>Rs.</td>\n",
       "      <td>['Dinner', 'Debit Card', 'Lunch', 'Serves Alco...</td>\n",
       "      <td>4.4</td>\n",
       "      <td>Very Good</td>\n",
       "      <td>3796</td>\n",
       "      <td>1897</td>\n",
       "      <td>0.0</td>\n",
       "      <td>1</td>\n",
       "      <td>-1</td>\n",
       "    </tr>\n",
       "    <tr>\n",
       "      <th>134853</th>\n",
       "      <td>34757</td>\n",
       "      <td>Joey's Pizza</td>\n",
       "      <td>['Quick Bites']</td>\n",
       "      <td>https://www.zomato.com/mumbai/joeys-pizza-mala...</td>\n",
       "      <td>Shop 1, Plot D, Samruddhi Complex, Chincholi B...</td>\n",
       "      <td>Mumbai</td>\n",
       "      <td>3</td>\n",
       "      <td>Malad West</td>\n",
       "      <td>19.178188</td>\n",
       "      <td>72.834666</td>\n",
       "      <td>...</td>\n",
       "      <td>2</td>\n",
       "      <td>Rs.</td>\n",
       "      <td>['Lunch', 'Cash', 'Takeaway Available', 'Debit...</td>\n",
       "      <td>4.5</td>\n",
       "      <td>Excellent</td>\n",
       "      <td>7932</td>\n",
       "      <td>4960</td>\n",
       "      <td>0.0</td>\n",
       "      <td>-1</td>\n",
       "      <td>-1</td>\n",
       "    </tr>\n",
       "    <tr>\n",
       "      <th>134854</th>\n",
       "      <td>18548172</td>\n",
       "      <td>Hitchki</td>\n",
       "      <td>['Bar']</td>\n",
       "      <td>https://www.zomato.com/mumbai/hitchki-powai?ut...</td>\n",
       "      <td>5, Transocean, Hiranandani Business Park, Lake...</td>\n",
       "      <td>Mumbai</td>\n",
       "      <td>3</td>\n",
       "      <td>Powai</td>\n",
       "      <td>19.119930</td>\n",
       "      <td>72.907331</td>\n",
       "      <td>...</td>\n",
       "      <td>3</td>\n",
       "      <td>Rs.</td>\n",
       "      <td>['Lunch', 'Serves Alcohol', 'Cash', 'Credit Ca...</td>\n",
       "      <td>4.7</td>\n",
       "      <td>Excellent</td>\n",
       "      <td>3762</td>\n",
       "      <td>12979</td>\n",
       "      <td>0.0</td>\n",
       "      <td>1</td>\n",
       "      <td>-1</td>\n",
       "    </tr>\n",
       "    <tr>\n",
       "      <th>134855</th>\n",
       "      <td>18392725</td>\n",
       "      <td>Tamasha</td>\n",
       "      <td>['Lounge']</td>\n",
       "      <td>https://www.zomato.com/mumbai/tamasha-lower-pa...</td>\n",
       "      <td>Ground Floor, Victoria House, E.B Marg, Lower ...</td>\n",
       "      <td>Mumbai</td>\n",
       "      <td>3</td>\n",
       "      <td>Lower Parel</td>\n",
       "      <td>19.006060</td>\n",
       "      <td>72.827496</td>\n",
       "      <td>...</td>\n",
       "      <td>4</td>\n",
       "      <td>Rs.</td>\n",
       "      <td>['Dinner', 'Cash', 'Takeaway Available', 'Cred...</td>\n",
       "      <td>4.7</td>\n",
       "      <td>Excellent</td>\n",
       "      <td>4979</td>\n",
       "      <td>16595</td>\n",
       "      <td>0.0</td>\n",
       "      <td>-1</td>\n",
       "      <td>-1</td>\n",
       "    </tr>\n",
       "    <tr>\n",
       "      <th>134856</th>\n",
       "      <td>18962112</td>\n",
       "      <td>Bayroute</td>\n",
       "      <td>['Fine Dining']</td>\n",
       "      <td>https://www.zomato.com/mumbai/bayroute-juhu?ut...</td>\n",
       "      <td>14, Silver Beach Estate, A.B. Nair Road, Oppos...</td>\n",
       "      <td>Mumbai</td>\n",
       "      <td>3</td>\n",
       "      <td>Juhu</td>\n",
       "      <td>19.110684</td>\n",
       "      <td>72.825368</td>\n",
       "      <td>...</td>\n",
       "      <td>4</td>\n",
       "      <td>Rs.</td>\n",
       "      <td>['Dinner', 'Cash', 'Takeaway Available', 'Debi...</td>\n",
       "      <td>4.9</td>\n",
       "      <td>Excellent</td>\n",
       "      <td>706</td>\n",
       "      <td>2484</td>\n",
       "      <td>0.0</td>\n",
       "      <td>-1</td>\n",
       "      <td>-1</td>\n",
       "    </tr>\n",
       "    <tr>\n",
       "      <th>...</th>\n",
       "      <td>...</td>\n",
       "      <td>...</td>\n",
       "      <td>...</td>\n",
       "      <td>...</td>\n",
       "      <td>...</td>\n",
       "      <td>...</td>\n",
       "      <td>...</td>\n",
       "      <td>...</td>\n",
       "      <td>...</td>\n",
       "      <td>...</td>\n",
       "      <td>...</td>\n",
       "      <td>...</td>\n",
       "      <td>...</td>\n",
       "      <td>...</td>\n",
       "      <td>...</td>\n",
       "      <td>...</td>\n",
       "      <td>...</td>\n",
       "      <td>...</td>\n",
       "      <td>...</td>\n",
       "      <td>...</td>\n",
       "      <td>...</td>\n",
       "    </tr>\n",
       "    <tr>\n",
       "      <th>142348</th>\n",
       "      <td>46792</td>\n",
       "      <td>BOX8- Desi Meals</td>\n",
       "      <td>[]</td>\n",
       "      <td>https://www.zomato.com/mumbai/box8-desi-meals-...</td>\n",
       "      <td>102, Bhavani Industrial Estate, Opposite IIT B...</td>\n",
       "      <td>Mumbai</td>\n",
       "      <td>3</td>\n",
       "      <td>Powai</td>\n",
       "      <td>19.124284</td>\n",
       "      <td>72.914877</td>\n",
       "      <td>...</td>\n",
       "      <td>1</td>\n",
       "      <td>Rs.</td>\n",
       "      <td>['Cash', 'Debit Card', 'Takeaway Available', '...</td>\n",
       "      <td>4.0</td>\n",
       "      <td>Very Good</td>\n",
       "      <td>726</td>\n",
       "      <td>703</td>\n",
       "      <td>0.0</td>\n",
       "      <td>1</td>\n",
       "      <td>-1</td>\n",
       "    </tr>\n",
       "    <tr>\n",
       "      <th>142349</th>\n",
       "      <td>37750</td>\n",
       "      <td>Faasos</td>\n",
       "      <td>['Quick Bites']</td>\n",
       "      <td>https://www.zomato.com/mumbai/faasos-veera-des...</td>\n",
       "      <td>Shop 06, Building 2, Pramukh Park Rehab CHS Li...</td>\n",
       "      <td>Mumbai</td>\n",
       "      <td>3</td>\n",
       "      <td>Veera Desai Area</td>\n",
       "      <td>19.139601</td>\n",
       "      <td>72.833119</td>\n",
       "      <td>...</td>\n",
       "      <td>1</td>\n",
       "      <td>Rs.</td>\n",
       "      <td>['Dinner', 'Cash', 'Takeaway Available', 'Debi...</td>\n",
       "      <td>3.9</td>\n",
       "      <td>Good</td>\n",
       "      <td>510</td>\n",
       "      <td>251</td>\n",
       "      <td>0.0</td>\n",
       "      <td>1</td>\n",
       "      <td>-1</td>\n",
       "    </tr>\n",
       "    <tr>\n",
       "      <th>142350</th>\n",
       "      <td>18165909</td>\n",
       "      <td>Charcoal Eats Express</td>\n",
       "      <td>['Quick Bites']</td>\n",
       "      <td>https://www.zomato.com/mumbai/charcoal-eats-ex...</td>\n",
       "      <td>Opposite Kamala Mills, Lower Parel, Mumbai</td>\n",
       "      <td>Mumbai</td>\n",
       "      <td>3</td>\n",
       "      <td>Lower Parel</td>\n",
       "      <td>19.002537</td>\n",
       "      <td>72.829391</td>\n",
       "      <td>...</td>\n",
       "      <td>2</td>\n",
       "      <td>Rs.</td>\n",
       "      <td>['Lunch', 'Cash', 'Credit Card', 'Dinner', 'St...</td>\n",
       "      <td>4.0</td>\n",
       "      <td>Very Good</td>\n",
       "      <td>491</td>\n",
       "      <td>344</td>\n",
       "      <td>0.0</td>\n",
       "      <td>-1</td>\n",
       "      <td>-1</td>\n",
       "    </tr>\n",
       "    <tr>\n",
       "      <th>142351</th>\n",
       "      <td>18306481</td>\n",
       "      <td>Wok Express</td>\n",
       "      <td>['Food Court']</td>\n",
       "      <td>https://www.zomato.com/mumbai/wok-express-1-an...</td>\n",
       "      <td>Food Court, 2nd Floor, Infinity Mall, Unit 215...</td>\n",
       "      <td>Mumbai</td>\n",
       "      <td>3</td>\n",
       "      <td>Infiniti Mall, Andheri Lokhandwala, Andheri West</td>\n",
       "      <td>19.141117</td>\n",
       "      <td>72.831181</td>\n",
       "      <td>...</td>\n",
       "      <td>2</td>\n",
       "      <td>Rs.</td>\n",
       "      <td>['No Alcohol Available', 'Dinner', 'Mall Parki...</td>\n",
       "      <td>3.7</td>\n",
       "      <td>Good</td>\n",
       "      <td>515</td>\n",
       "      <td>490</td>\n",
       "      <td>0.0</td>\n",
       "      <td>-1</td>\n",
       "      <td>-1</td>\n",
       "    </tr>\n",
       "    <tr>\n",
       "      <th>142352</th>\n",
       "      <td>18140577</td>\n",
       "      <td>Rasoi Thali</td>\n",
       "      <td>['Quick Bites']</td>\n",
       "      <td>https://www.zomato.com/mumbai/rasoi-thali-mulu...</td>\n",
       "      <td>Shop 5, Bhodke Building, Near Hanuman Mandir, ...</td>\n",
       "      <td>Mumbai</td>\n",
       "      <td>3</td>\n",
       "      <td>Mulund West</td>\n",
       "      <td>19.172657</td>\n",
       "      <td>72.956466</td>\n",
       "      <td>...</td>\n",
       "      <td>1</td>\n",
       "      <td>Rs.</td>\n",
       "      <td>['Lunch', 'Cash', 'Debit Card', 'Dinner', 'Tak...</td>\n",
       "      <td>3.9</td>\n",
       "      <td>Good</td>\n",
       "      <td>142</td>\n",
       "      <td>34</td>\n",
       "      <td>0.0</td>\n",
       "      <td>-1</td>\n",
       "      <td>-1</td>\n",
       "    </tr>\n",
       "  </tbody>\n",
       "</table>\n",
       "<p>6497 rows × 26 columns</p>\n",
       "</div>"
      ],
      "text/plain": [
       "          res_id                   name      establishment  \\\n",
       "134852  18562340            Drinkery 51  ['Casual Dining']   \n",
       "134853     34757           Joey's Pizza    ['Quick Bites']   \n",
       "134854  18548172                Hitchki            ['Bar']   \n",
       "134855  18392725                Tamasha         ['Lounge']   \n",
       "134856  18962112               Bayroute    ['Fine Dining']   \n",
       "...          ...                    ...                ...   \n",
       "142348     46792       BOX8- Desi Meals                 []   \n",
       "142349     37750                 Faasos    ['Quick Bites']   \n",
       "142350  18165909  Charcoal Eats Express    ['Quick Bites']   \n",
       "142351  18306481            Wok Express     ['Food Court']   \n",
       "142352  18140577            Rasoi Thali    ['Quick Bites']   \n",
       "\n",
       "                                                      url  \\\n",
       "134852  https://www.zomato.com/mumbai/drinkery-51-band...   \n",
       "134853  https://www.zomato.com/mumbai/joeys-pizza-mala...   \n",
       "134854  https://www.zomato.com/mumbai/hitchki-powai?ut...   \n",
       "134855  https://www.zomato.com/mumbai/tamasha-lower-pa...   \n",
       "134856  https://www.zomato.com/mumbai/bayroute-juhu?ut...   \n",
       "...                                                   ...   \n",
       "142348  https://www.zomato.com/mumbai/box8-desi-meals-...   \n",
       "142349  https://www.zomato.com/mumbai/faasos-veera-des...   \n",
       "142350  https://www.zomato.com/mumbai/charcoal-eats-ex...   \n",
       "142351  https://www.zomato.com/mumbai/wok-express-1-an...   \n",
       "142352  https://www.zomato.com/mumbai/rasoi-thali-mulu...   \n",
       "\n",
       "                                                  address    city  city_id  \\\n",
       "134852  1st Floor, Vibgyor Towers, Bandra Kurla Comple...  Mumbai        3   \n",
       "134853  Shop 1, Plot D, Samruddhi Complex, Chincholi B...  Mumbai        3   \n",
       "134854  5, Transocean, Hiranandani Business Park, Lake...  Mumbai        3   \n",
       "134855  Ground Floor, Victoria House, E.B Marg, Lower ...  Mumbai        3   \n",
       "134856  14, Silver Beach Estate, A.B. Nair Road, Oppos...  Mumbai        3   \n",
       "...                                                   ...     ...      ...   \n",
       "142348  102, Bhavani Industrial Estate, Opposite IIT B...  Mumbai        3   \n",
       "142349  Shop 06, Building 2, Pramukh Park Rehab CHS Li...  Mumbai        3   \n",
       "142350         Opposite Kamala Mills, Lower Parel, Mumbai  Mumbai        3   \n",
       "142351  Food Court, 2nd Floor, Infinity Mall, Unit 215...  Mumbai        3   \n",
       "142352  Shop 5, Bhodke Building, Near Hanuman Mandir, ...  Mumbai        3   \n",
       "\n",
       "                                                locality   latitude  \\\n",
       "134852                              Bandra Kurla Complex  19.067176   \n",
       "134853                                        Malad West  19.178188   \n",
       "134854                                             Powai  19.119930   \n",
       "134855                                       Lower Parel  19.006060   \n",
       "134856                                              Juhu  19.110684   \n",
       "...                                                  ...        ...   \n",
       "142348                                             Powai  19.124284   \n",
       "142349                                  Veera Desai Area  19.139601   \n",
       "142350                                       Lower Parel  19.002537   \n",
       "142351  Infiniti Mall, Andheri Lokhandwala, Andheri West  19.141117   \n",
       "142352                                       Mulund West  19.172657   \n",
       "\n",
       "        longitude  ... price_range  currency  \\\n",
       "134852  72.867493  ...           4       Rs.   \n",
       "134853  72.834666  ...           2       Rs.   \n",
       "134854  72.907331  ...           3       Rs.   \n",
       "134855  72.827496  ...           4       Rs.   \n",
       "134856  72.825368  ...           4       Rs.   \n",
       "...           ...  ...         ...       ...   \n",
       "142348  72.914877  ...           1       Rs.   \n",
       "142349  72.833119  ...           1       Rs.   \n",
       "142350  72.829391  ...           2       Rs.   \n",
       "142351  72.831181  ...           2       Rs.   \n",
       "142352  72.956466  ...           1       Rs.   \n",
       "\n",
       "                                               highlights aggregate_rating  \\\n",
       "134852  ['Dinner', 'Debit Card', 'Lunch', 'Serves Alco...              4.4   \n",
       "134853  ['Lunch', 'Cash', 'Takeaway Available', 'Debit...              4.5   \n",
       "134854  ['Lunch', 'Serves Alcohol', 'Cash', 'Credit Ca...              4.7   \n",
       "134855  ['Dinner', 'Cash', 'Takeaway Available', 'Cred...              4.7   \n",
       "134856  ['Dinner', 'Cash', 'Takeaway Available', 'Debi...              4.9   \n",
       "...                                                   ...              ...   \n",
       "142348  ['Cash', 'Debit Card', 'Takeaway Available', '...              4.0   \n",
       "142349  ['Dinner', 'Cash', 'Takeaway Available', 'Debi...              3.9   \n",
       "142350  ['Lunch', 'Cash', 'Credit Card', 'Dinner', 'St...              4.0   \n",
       "142351  ['No Alcohol Available', 'Dinner', 'Mall Parki...              3.7   \n",
       "142352  ['Lunch', 'Cash', 'Debit Card', 'Dinner', 'Tak...              3.9   \n",
       "\n",
       "       rating_text  votes  photo_count opentable_support delivery  takeaway  \n",
       "134852   Very Good   3796         1897               0.0        1        -1  \n",
       "134853   Excellent   7932         4960               0.0       -1        -1  \n",
       "134854   Excellent   3762        12979               0.0        1        -1  \n",
       "134855   Excellent   4979        16595               0.0       -1        -1  \n",
       "134856   Excellent    706         2484               0.0       -1        -1  \n",
       "...            ...    ...          ...               ...      ...       ...  \n",
       "142348   Very Good    726          703               0.0        1        -1  \n",
       "142349        Good    510          251               0.0        1        -1  \n",
       "142350   Very Good    491          344               0.0       -1        -1  \n",
       "142351        Good    515          490               0.0       -1        -1  \n",
       "142352        Good    142           34               0.0       -1        -1  \n",
       "\n",
       "[6497 rows x 26 columns]"
      ]
     },
     "execution_count": 10,
     "metadata": {},
     "output_type": "execute_result"
    }
   ],
   "source": [
    "data[data['city'] == \"Mumbai\"]"
   ]
  },
  {
   "cell_type": "code",
   "execution_count": 11,
   "metadata": {
    "colab": {
     "base_uri": "https://localhost:8080/",
     "height": 1000
    },
    "id": "COf4oOFxapPT",
    "outputId": "4da19d3e-2dce-4d02-f4dc-d28b58358b6d"
   },
   "outputs": [
    {
     "data": {
      "text/html": [
       "<div>\n",
       "<style scoped>\n",
       "    .dataframe tbody tr th:only-of-type {\n",
       "        vertical-align: middle;\n",
       "    }\n",
       "\n",
       "    .dataframe tbody tr th {\n",
       "        vertical-align: top;\n",
       "    }\n",
       "\n",
       "    .dataframe thead th {\n",
       "        text-align: right;\n",
       "    }\n",
       "</style>\n",
       "<table border=\"1\" class=\"dataframe\">\n",
       "  <thead>\n",
       "    <tr style=\"text-align: right;\">\n",
       "      <th></th>\n",
       "      <th>res_id</th>\n",
       "      <th>name</th>\n",
       "      <th>establishment</th>\n",
       "      <th>url</th>\n",
       "      <th>address</th>\n",
       "      <th>city</th>\n",
       "      <th>city_id</th>\n",
       "      <th>locality</th>\n",
       "      <th>latitude</th>\n",
       "      <th>longitude</th>\n",
       "      <th>...</th>\n",
       "      <th>price_range</th>\n",
       "      <th>currency</th>\n",
       "      <th>highlights</th>\n",
       "      <th>aggregate_rating</th>\n",
       "      <th>rating_text</th>\n",
       "      <th>votes</th>\n",
       "      <th>photo_count</th>\n",
       "      <th>opentable_support</th>\n",
       "      <th>delivery</th>\n",
       "      <th>takeaway</th>\n",
       "    </tr>\n",
       "  </thead>\n",
       "  <tbody>\n",
       "    <tr>\n",
       "      <th>77501</th>\n",
       "      <td>18392031</td>\n",
       "      <td>Gol Bungalow - Taj Falaknuma Palace</td>\n",
       "      <td>['Fine Dining']</td>\n",
       "      <td>https://www.zomato.com/hyderabad/gol-bungalow-...</td>\n",
       "      <td>Taj Falaknuma Palace, Falaknuma, Hyderabad</td>\n",
       "      <td>Hyderabad</td>\n",
       "      <td>6</td>\n",
       "      <td>Taj Falaknuma, Falaknuma</td>\n",
       "      <td>17.334338</td>\n",
       "      <td>78.467603</td>\n",
       "      <td>...</td>\n",
       "      <td>4</td>\n",
       "      <td>Rs.</td>\n",
       "      <td>['Cash', 'Dinner', 'Credit Card', 'No Alcohol ...</td>\n",
       "      <td>3.9</td>\n",
       "      <td>Good</td>\n",
       "      <td>38</td>\n",
       "      <td>20</td>\n",
       "      <td>0.0</td>\n",
       "      <td>-1</td>\n",
       "      <td>-1</td>\n",
       "    </tr>\n",
       "    <tr>\n",
       "      <th>77502</th>\n",
       "      <td>91817</td>\n",
       "      <td>Adaa - Taj Falaknuma Palace</td>\n",
       "      <td>['Fine Dining']</td>\n",
       "      <td>https://www.zomato.com/hyderabad/adaa-taj-fala...</td>\n",
       "      <td>Taj Falaknuma Palace, Falaknuma, Hyderabad</td>\n",
       "      <td>Hyderabad</td>\n",
       "      <td>6</td>\n",
       "      <td>Taj Falaknuma, Falaknuma</td>\n",
       "      <td>17.334283</td>\n",
       "      <td>78.467568</td>\n",
       "      <td>...</td>\n",
       "      <td>4</td>\n",
       "      <td>Rs.</td>\n",
       "      <td>['Lunch', 'Cash', 'Credit Card', 'Dinner', 'De...</td>\n",
       "      <td>4.5</td>\n",
       "      <td>Excellent</td>\n",
       "      <td>1087</td>\n",
       "      <td>627</td>\n",
       "      <td>0.0</td>\n",
       "      <td>-1</td>\n",
       "      <td>-1</td>\n",
       "    </tr>\n",
       "    <tr>\n",
       "      <th>77503</th>\n",
       "      <td>91818</td>\n",
       "      <td>Celeste - Taj Falaknuma Palace</td>\n",
       "      <td>['Fine Dining']</td>\n",
       "      <td>https://www.zomato.com/hyderabad/celeste-taj-f...</td>\n",
       "      <td>Taj Falaknuma Palace, Falaknuma, Hyderabad</td>\n",
       "      <td>Hyderabad</td>\n",
       "      <td>6</td>\n",
       "      <td>Taj Falaknuma, Falaknuma</td>\n",
       "      <td>17.334312</td>\n",
       "      <td>78.467562</td>\n",
       "      <td>...</td>\n",
       "      <td>4</td>\n",
       "      <td>Rs.</td>\n",
       "      <td>['Breakfast', 'Lunch', 'Cash', 'Debit Card', '...</td>\n",
       "      <td>4.4</td>\n",
       "      <td>Very Good</td>\n",
       "      <td>316</td>\n",
       "      <td>356</td>\n",
       "      <td>0.0</td>\n",
       "      <td>-1</td>\n",
       "      <td>-1</td>\n",
       "    </tr>\n",
       "    <tr>\n",
       "      <th>77504</th>\n",
       "      <td>18908475</td>\n",
       "      <td>Vineela Yadlapalli Cakes</td>\n",
       "      <td>['Bakery']</td>\n",
       "      <td>https://www.zomato.com/hyderabad/vineela-yadla...</td>\n",
       "      <td>Plot 805, Behind B-DUBS, Road Number 36, CBI C...</td>\n",
       "      <td>Hyderabad</td>\n",
       "      <td>6</td>\n",
       "      <td>Jubilee Hills</td>\n",
       "      <td>17.433280</td>\n",
       "      <td>78.404894</td>\n",
       "      <td>...</td>\n",
       "      <td>4</td>\n",
       "      <td>Rs.</td>\n",
       "      <td>['Cash', 'Takeaway Available', 'Debit Card', '...</td>\n",
       "      <td>3.5</td>\n",
       "      <td>Good</td>\n",
       "      <td>29</td>\n",
       "      <td>22</td>\n",
       "      <td>0.0</td>\n",
       "      <td>-1</td>\n",
       "      <td>-1</td>\n",
       "    </tr>\n",
       "    <tr>\n",
       "      <th>77505</th>\n",
       "      <td>92745</td>\n",
       "      <td>Thai Pavilion - Vivanta By Taj</td>\n",
       "      <td>['Fine Dining']</td>\n",
       "      <td>https://www.zomato.com/hyderabad/thai-pavilion...</td>\n",
       "      <td>Vivanta By Taj, 1-10-147 &amp; 148, Mayuri Marg, B...</td>\n",
       "      <td>Hyderabad</td>\n",
       "      <td>6</td>\n",
       "      <td>Vivanta By Taj, Begumpet</td>\n",
       "      <td>17.443687</td>\n",
       "      <td>78.460743</td>\n",
       "      <td>...</td>\n",
       "      <td>4</td>\n",
       "      <td>Rs.</td>\n",
       "      <td>['Lunch', 'Cash', 'Debit Card', 'Dinner', 'Cre...</td>\n",
       "      <td>4.3</td>\n",
       "      <td>Very Good</td>\n",
       "      <td>233</td>\n",
       "      <td>226</td>\n",
       "      <td>0.0</td>\n",
       "      <td>-1</td>\n",
       "      <td>-1</td>\n",
       "    </tr>\n",
       "    <tr>\n",
       "      <th>...</th>\n",
       "      <td>...</td>\n",
       "      <td>...</td>\n",
       "      <td>...</td>\n",
       "      <td>...</td>\n",
       "      <td>...</td>\n",
       "      <td>...</td>\n",
       "      <td>...</td>\n",
       "      <td>...</td>\n",
       "      <td>...</td>\n",
       "      <td>...</td>\n",
       "      <td>...</td>\n",
       "      <td>...</td>\n",
       "      <td>...</td>\n",
       "      <td>...</td>\n",
       "      <td>...</td>\n",
       "      <td>...</td>\n",
       "      <td>...</td>\n",
       "      <td>...</td>\n",
       "      <td>...</td>\n",
       "      <td>...</td>\n",
       "      <td>...</td>\n",
       "    </tr>\n",
       "    <tr>\n",
       "      <th>79616</th>\n",
       "      <td>18402110</td>\n",
       "      <td>The Lal Street - Bar Exchange</td>\n",
       "      <td>['Bar']</td>\n",
       "      <td>https://www.zomato.com/hyderabad/the-lal-stree...</td>\n",
       "      <td>Level 2, SLN Terminus Mall, Gachibowli, Hyderabad</td>\n",
       "      <td>Hyderabad</td>\n",
       "      <td>6</td>\n",
       "      <td>SLN Terminus,Gachibowli</td>\n",
       "      <td>17.452475</td>\n",
       "      <td>78.363198</td>\n",
       "      <td>...</td>\n",
       "      <td>3</td>\n",
       "      <td>Rs.</td>\n",
       "      <td>['Lunch', 'Debit Card', 'Cash', 'Credit Card',...</td>\n",
       "      <td>4.0</td>\n",
       "      <td>Very Good</td>\n",
       "      <td>2066</td>\n",
       "      <td>1251</td>\n",
       "      <td>0.0</td>\n",
       "      <td>1</td>\n",
       "      <td>-1</td>\n",
       "    </tr>\n",
       "    <tr>\n",
       "      <th>79617</th>\n",
       "      <td>18649306</td>\n",
       "      <td>Paradise</td>\n",
       "      <td>['Casual Dining']</td>\n",
       "      <td>https://www.zomato.com/hyderabad/paradise-2-li...</td>\n",
       "      <td>23-19 &amp; 23-20, Survey 204/2, Near BHEL, Near J...</td>\n",
       "      <td>Hyderabad</td>\n",
       "      <td>6</td>\n",
       "      <td>Lingampally</td>\n",
       "      <td>17.502396</td>\n",
       "      <td>78.312111</td>\n",
       "      <td>...</td>\n",
       "      <td>2</td>\n",
       "      <td>Rs.</td>\n",
       "      <td>['Dinner', 'Delivery', 'Lunch', 'Cash', 'Takea...</td>\n",
       "      <td>3.9</td>\n",
       "      <td>Good</td>\n",
       "      <td>1987</td>\n",
       "      <td>88</td>\n",
       "      <td>0.0</td>\n",
       "      <td>1</td>\n",
       "      <td>-1</td>\n",
       "    </tr>\n",
       "    <tr>\n",
       "      <th>79618</th>\n",
       "      <td>18459130</td>\n",
       "      <td>Fat Pigeon - Bar Hop</td>\n",
       "      <td>['Bar']</td>\n",
       "      <td>https://www.zomato.com/hyderabad/fat-pigeon-ba...</td>\n",
       "      <td>Plot 1335/A, Road 45, Jubilee Hills, Hyderabad</td>\n",
       "      <td>Hyderabad</td>\n",
       "      <td>6</td>\n",
       "      <td>Jubilee Hills</td>\n",
       "      <td>17.425610</td>\n",
       "      <td>78.408536</td>\n",
       "      <td>...</td>\n",
       "      <td>3</td>\n",
       "      <td>Rs.</td>\n",
       "      <td>['Cash', 'Debit Card', 'Takeaway Available', '...</td>\n",
       "      <td>4.5</td>\n",
       "      <td>Excellent</td>\n",
       "      <td>2085</td>\n",
       "      <td>1560</td>\n",
       "      <td>0.0</td>\n",
       "      <td>-1</td>\n",
       "      <td>-1</td>\n",
       "    </tr>\n",
       "    <tr>\n",
       "      <th>79619</th>\n",
       "      <td>93008</td>\n",
       "      <td>Pride of Hyderabad Restaurant</td>\n",
       "      <td>['Casual Dining']</td>\n",
       "      <td>https://www.zomato.com/hyderabad/pride-of-hyde...</td>\n",
       "      <td>Bharat Nagar, Moosapet, Hyderabad</td>\n",
       "      <td>Hyderabad</td>\n",
       "      <td>6</td>\n",
       "      <td>Moosapet</td>\n",
       "      <td>17.467529</td>\n",
       "      <td>78.429099</td>\n",
       "      <td>...</td>\n",
       "      <td>2</td>\n",
       "      <td>Rs.</td>\n",
       "      <td>['Dinner', 'Takeaway Available', 'Lunch', 'Cas...</td>\n",
       "      <td>3.2</td>\n",
       "      <td>Average</td>\n",
       "      <td>2264</td>\n",
       "      <td>49</td>\n",
       "      <td>0.0</td>\n",
       "      <td>1</td>\n",
       "      <td>-1</td>\n",
       "    </tr>\n",
       "    <tr>\n",
       "      <th>79620</th>\n",
       "      <td>18097695</td>\n",
       "      <td>Paradise</td>\n",
       "      <td>['Casual Dining']</td>\n",
       "      <td>https://www.zomato.com/hyderabad/paradise-hima...</td>\n",
       "      <td>Ground Floor, Lingapur Building, Next to Almon...</td>\n",
       "      <td>Hyderabad</td>\n",
       "      <td>6</td>\n",
       "      <td>Himayath Nagar</td>\n",
       "      <td>17.401393</td>\n",
       "      <td>78.485650</td>\n",
       "      <td>...</td>\n",
       "      <td>2</td>\n",
       "      <td>Rs.</td>\n",
       "      <td>['Cash', 'Lunch', 'No Alcohol Available', 'Tak...</td>\n",
       "      <td>4.2</td>\n",
       "      <td>Very Good</td>\n",
       "      <td>3892</td>\n",
       "      <td>293</td>\n",
       "      <td>0.0</td>\n",
       "      <td>1</td>\n",
       "      <td>-1</td>\n",
       "    </tr>\n",
       "  </tbody>\n",
       "</table>\n",
       "<p>1937 rows × 26 columns</p>\n",
       "</div>"
      ],
      "text/plain": [
       "         res_id                                 name      establishment  \\\n",
       "77501  18392031  Gol Bungalow - Taj Falaknuma Palace    ['Fine Dining']   \n",
       "77502     91817          Adaa - Taj Falaknuma Palace    ['Fine Dining']   \n",
       "77503     91818       Celeste - Taj Falaknuma Palace    ['Fine Dining']   \n",
       "77504  18908475             Vineela Yadlapalli Cakes         ['Bakery']   \n",
       "77505     92745       Thai Pavilion - Vivanta By Taj    ['Fine Dining']   \n",
       "...         ...                                  ...                ...   \n",
       "79616  18402110        The Lal Street - Bar Exchange            ['Bar']   \n",
       "79617  18649306                             Paradise  ['Casual Dining']   \n",
       "79618  18459130                 Fat Pigeon - Bar Hop            ['Bar']   \n",
       "79619     93008        Pride of Hyderabad Restaurant  ['Casual Dining']   \n",
       "79620  18097695                             Paradise  ['Casual Dining']   \n",
       "\n",
       "                                                     url  \\\n",
       "77501  https://www.zomato.com/hyderabad/gol-bungalow-...   \n",
       "77502  https://www.zomato.com/hyderabad/adaa-taj-fala...   \n",
       "77503  https://www.zomato.com/hyderabad/celeste-taj-f...   \n",
       "77504  https://www.zomato.com/hyderabad/vineela-yadla...   \n",
       "77505  https://www.zomato.com/hyderabad/thai-pavilion...   \n",
       "...                                                  ...   \n",
       "79616  https://www.zomato.com/hyderabad/the-lal-stree...   \n",
       "79617  https://www.zomato.com/hyderabad/paradise-2-li...   \n",
       "79618  https://www.zomato.com/hyderabad/fat-pigeon-ba...   \n",
       "79619  https://www.zomato.com/hyderabad/pride-of-hyde...   \n",
       "79620  https://www.zomato.com/hyderabad/paradise-hima...   \n",
       "\n",
       "                                                 address       city  city_id  \\\n",
       "77501         Taj Falaknuma Palace, Falaknuma, Hyderabad  Hyderabad        6   \n",
       "77502         Taj Falaknuma Palace, Falaknuma, Hyderabad  Hyderabad        6   \n",
       "77503         Taj Falaknuma Palace, Falaknuma, Hyderabad  Hyderabad        6   \n",
       "77504  Plot 805, Behind B-DUBS, Road Number 36, CBI C...  Hyderabad        6   \n",
       "77505  Vivanta By Taj, 1-10-147 & 148, Mayuri Marg, B...  Hyderabad        6   \n",
       "...                                                  ...        ...      ...   \n",
       "79616  Level 2, SLN Terminus Mall, Gachibowli, Hyderabad  Hyderabad        6   \n",
       "79617  23-19 & 23-20, Survey 204/2, Near BHEL, Near J...  Hyderabad        6   \n",
       "79618     Plot 1335/A, Road 45, Jubilee Hills, Hyderabad  Hyderabad        6   \n",
       "79619                  Bharat Nagar, Moosapet, Hyderabad  Hyderabad        6   \n",
       "79620  Ground Floor, Lingapur Building, Next to Almon...  Hyderabad        6   \n",
       "\n",
       "                       locality   latitude  longitude  ... price_range  \\\n",
       "77501  Taj Falaknuma, Falaknuma  17.334338  78.467603  ...           4   \n",
       "77502  Taj Falaknuma, Falaknuma  17.334283  78.467568  ...           4   \n",
       "77503  Taj Falaknuma, Falaknuma  17.334312  78.467562  ...           4   \n",
       "77504             Jubilee Hills  17.433280  78.404894  ...           4   \n",
       "77505  Vivanta By Taj, Begumpet  17.443687  78.460743  ...           4   \n",
       "...                         ...        ...        ...  ...         ...   \n",
       "79616   SLN Terminus,Gachibowli  17.452475  78.363198  ...           3   \n",
       "79617               Lingampally  17.502396  78.312111  ...           2   \n",
       "79618             Jubilee Hills  17.425610  78.408536  ...           3   \n",
       "79619                  Moosapet  17.467529  78.429099  ...           2   \n",
       "79620            Himayath Nagar  17.401393  78.485650  ...           2   \n",
       "\n",
       "       currency                                         highlights  \\\n",
       "77501       Rs.  ['Cash', 'Dinner', 'Credit Card', 'No Alcohol ...   \n",
       "77502       Rs.  ['Lunch', 'Cash', 'Credit Card', 'Dinner', 'De...   \n",
       "77503       Rs.  ['Breakfast', 'Lunch', 'Cash', 'Debit Card', '...   \n",
       "77504       Rs.  ['Cash', 'Takeaway Available', 'Debit Card', '...   \n",
       "77505       Rs.  ['Lunch', 'Cash', 'Debit Card', 'Dinner', 'Cre...   \n",
       "...         ...                                                ...   \n",
       "79616       Rs.  ['Lunch', 'Debit Card', 'Cash', 'Credit Card',...   \n",
       "79617       Rs.  ['Dinner', 'Delivery', 'Lunch', 'Cash', 'Takea...   \n",
       "79618       Rs.  ['Cash', 'Debit Card', 'Takeaway Available', '...   \n",
       "79619       Rs.  ['Dinner', 'Takeaway Available', 'Lunch', 'Cas...   \n",
       "79620       Rs.  ['Cash', 'Lunch', 'No Alcohol Available', 'Tak...   \n",
       "\n",
       "      aggregate_rating rating_text  votes  photo_count opentable_support  \\\n",
       "77501              3.9        Good     38           20               0.0   \n",
       "77502              4.5   Excellent   1087          627               0.0   \n",
       "77503              4.4   Very Good    316          356               0.0   \n",
       "77504              3.5        Good     29           22               0.0   \n",
       "77505              4.3   Very Good    233          226               0.0   \n",
       "...                ...         ...    ...          ...               ...   \n",
       "79616              4.0   Very Good   2066         1251               0.0   \n",
       "79617              3.9        Good   1987           88               0.0   \n",
       "79618              4.5   Excellent   2085         1560               0.0   \n",
       "79619              3.2     Average   2264           49               0.0   \n",
       "79620              4.2   Very Good   3892          293               0.0   \n",
       "\n",
       "      delivery  takeaway  \n",
       "77501       -1        -1  \n",
       "77502       -1        -1  \n",
       "77503       -1        -1  \n",
       "77504       -1        -1  \n",
       "77505       -1        -1  \n",
       "...        ...       ...  \n",
       "79616        1        -1  \n",
       "79617        1        -1  \n",
       "79618       -1        -1  \n",
       "79619        1        -1  \n",
       "79620        1        -1  \n",
       "\n",
       "[1937 rows x 26 columns]"
      ]
     },
     "execution_count": 11,
     "metadata": {},
     "output_type": "execute_result"
    }
   ],
   "source": [
    "data[data['city'] == \"Hyderabad\"]"
   ]
  },
  {
   "cell_type": "code",
   "execution_count": 12,
   "metadata": {
    "colab": {
     "base_uri": "https://localhost:8080/"
    },
    "id": "LBS_MLVda8Dg",
    "outputId": "d2301bf2-789b-41eb-eda2-cbedede3ab00"
   },
   "outputs": [
    {
     "data": {
      "text/plain": [
       "(211944, 26)"
      ]
     },
     "execution_count": 12,
     "metadata": {},
     "output_type": "execute_result"
    }
   ],
   "source": [
    "data.shape"
   ]
  },
  {
   "cell_type": "markdown",
   "metadata": {
    "id": "m2cw3_x6bAOD"
   },
   "source": [
    "our data has 2 million plus rows and 26 columns.\n",
    "\n",
    "Let us go and understand what are all there in these rows and columns"
   ]
  },
  {
   "cell_type": "code",
   "execution_count": 13,
   "metadata": {
    "colab": {
     "base_uri": "https://localhost:8080/"
    },
    "id": "1W2XbvyVbLiv",
    "outputId": "671248d5-9268-4d3f-ba12-6a1dfdb61aa9"
   },
   "outputs": [
    {
     "name": "stdout",
     "output_type": "stream",
     "text": [
      "<class 'pandas.core.frame.DataFrame'>\n",
      "RangeIndex: 211944 entries, 0 to 211943\n",
      "Data columns (total 26 columns):\n",
      " #   Column                Non-Null Count   Dtype  \n",
      "---  ------                --------------   -----  \n",
      " 0   res_id                211944 non-null  int64  \n",
      " 1   name                  211944 non-null  object \n",
      " 2   establishment         211944 non-null  object \n",
      " 3   url                   211944 non-null  object \n",
      " 4   address               211810 non-null  object \n",
      " 5   city                  211944 non-null  object \n",
      " 6   city_id               211944 non-null  int64  \n",
      " 7   locality              211944 non-null  object \n",
      " 8   latitude              211944 non-null  float64\n",
      " 9   longitude             211944 non-null  float64\n",
      " 10  zipcode               48757 non-null   object \n",
      " 11  country_id            211944 non-null  int64  \n",
      " 12  locality_verbose      211944 non-null  object \n",
      " 13  cuisines              210553 non-null  object \n",
      " 14  timings               208070 non-null  object \n",
      " 15  average_cost_for_two  211944 non-null  int64  \n",
      " 16  price_range           211944 non-null  int64  \n",
      " 17  currency              211944 non-null  object \n",
      " 18  highlights            211944 non-null  object \n",
      " 19  aggregate_rating      211944 non-null  float64\n",
      " 20  rating_text           211944 non-null  object \n",
      " 21  votes                 211944 non-null  int64  \n",
      " 22  photo_count           211944 non-null  int64  \n",
      " 23  opentable_support     211896 non-null  float64\n",
      " 24  delivery              211944 non-null  int64  \n",
      " 25  takeaway              211944 non-null  int64  \n",
      "dtypes: float64(4), int64(9), object(13)\n",
      "memory usage: 42.0+ MB\n"
     ]
    }
   ],
   "source": [
    "data.info()"
   ]
  },
  {
   "cell_type": "markdown",
   "metadata": {
    "id": "-LSyQzrvbZ8K"
   },
   "source": [
    "Here, we are dealing with the large amount of the data, so it is better to find out what is the count, null and type properties of the columns with the help of info()"
   ]
  },
  {
   "cell_type": "code",
   "execution_count": 14,
   "metadata": {
    "colab": {
     "base_uri": "https://localhost:8080/",
     "height": 320
    },
    "id": "hs-RKDZrbO4S",
    "outputId": "21253823-127b-4d1e-fae4-3611003c0919"
   },
   "outputs": [
    {
     "data": {
      "text/html": [
       "<div>\n",
       "<style scoped>\n",
       "    .dataframe tbody tr th:only-of-type {\n",
       "        vertical-align: middle;\n",
       "    }\n",
       "\n",
       "    .dataframe tbody tr th {\n",
       "        vertical-align: top;\n",
       "    }\n",
       "\n",
       "    .dataframe thead th {\n",
       "        text-align: right;\n",
       "    }\n",
       "</style>\n",
       "<table border=\"1\" class=\"dataframe\">\n",
       "  <thead>\n",
       "    <tr style=\"text-align: right;\">\n",
       "      <th></th>\n",
       "      <th>res_id</th>\n",
       "      <th>city_id</th>\n",
       "      <th>latitude</th>\n",
       "      <th>longitude</th>\n",
       "      <th>country_id</th>\n",
       "      <th>average_cost_for_two</th>\n",
       "      <th>price_range</th>\n",
       "      <th>aggregate_rating</th>\n",
       "      <th>votes</th>\n",
       "      <th>photo_count</th>\n",
       "      <th>opentable_support</th>\n",
       "      <th>delivery</th>\n",
       "      <th>takeaway</th>\n",
       "    </tr>\n",
       "  </thead>\n",
       "  <tbody>\n",
       "    <tr>\n",
       "      <th>count</th>\n",
       "      <td>2.119440e+05</td>\n",
       "      <td>211944.000000</td>\n",
       "      <td>211944.000000</td>\n",
       "      <td>211944.000000</td>\n",
       "      <td>211944.0</td>\n",
       "      <td>211944.000000</td>\n",
       "      <td>211944.000000</td>\n",
       "      <td>211944.000000</td>\n",
       "      <td>211944.000000</td>\n",
       "      <td>211944.000000</td>\n",
       "      <td>211896.0</td>\n",
       "      <td>211944.000000</td>\n",
       "      <td>211944.0</td>\n",
       "    </tr>\n",
       "    <tr>\n",
       "      <th>mean</th>\n",
       "      <td>1.349411e+07</td>\n",
       "      <td>4746.785434</td>\n",
       "      <td>21.499758</td>\n",
       "      <td>77.615276</td>\n",
       "      <td>1.0</td>\n",
       "      <td>595.812229</td>\n",
       "      <td>1.882535</td>\n",
       "      <td>3.395937</td>\n",
       "      <td>378.001864</td>\n",
       "      <td>256.971224</td>\n",
       "      <td>0.0</td>\n",
       "      <td>-0.255907</td>\n",
       "      <td>-1.0</td>\n",
       "    </tr>\n",
       "    <tr>\n",
       "      <th>std</th>\n",
       "      <td>7.883722e+06</td>\n",
       "      <td>5568.766386</td>\n",
       "      <td>22.781331</td>\n",
       "      <td>7.500104</td>\n",
       "      <td>0.0</td>\n",
       "      <td>606.239363</td>\n",
       "      <td>0.892989</td>\n",
       "      <td>1.283642</td>\n",
       "      <td>925.333370</td>\n",
       "      <td>867.668940</td>\n",
       "      <td>0.0</td>\n",
       "      <td>0.964172</td>\n",
       "      <td>0.0</td>\n",
       "    </tr>\n",
       "    <tr>\n",
       "      <th>min</th>\n",
       "      <td>5.000000e+01</td>\n",
       "      <td>1.000000</td>\n",
       "      <td>0.000000</td>\n",
       "      <td>0.000000</td>\n",
       "      <td>1.0</td>\n",
       "      <td>0.000000</td>\n",
       "      <td>1.000000</td>\n",
       "      <td>0.000000</td>\n",
       "      <td>-18.000000</td>\n",
       "      <td>0.000000</td>\n",
       "      <td>0.0</td>\n",
       "      <td>-1.000000</td>\n",
       "      <td>-1.0</td>\n",
       "    </tr>\n",
       "    <tr>\n",
       "      <th>25%</th>\n",
       "      <td>3.301027e+06</td>\n",
       "      <td>11.000000</td>\n",
       "      <td>15.496071</td>\n",
       "      <td>74.877961</td>\n",
       "      <td>1.0</td>\n",
       "      <td>250.000000</td>\n",
       "      <td>1.000000</td>\n",
       "      <td>3.300000</td>\n",
       "      <td>16.000000</td>\n",
       "      <td>3.000000</td>\n",
       "      <td>0.0</td>\n",
       "      <td>-1.000000</td>\n",
       "      <td>-1.0</td>\n",
       "    </tr>\n",
       "    <tr>\n",
       "      <th>50%</th>\n",
       "      <td>1.869573e+07</td>\n",
       "      <td>34.000000</td>\n",
       "      <td>22.514494</td>\n",
       "      <td>77.425971</td>\n",
       "      <td>1.0</td>\n",
       "      <td>400.000000</td>\n",
       "      <td>2.000000</td>\n",
       "      <td>3.800000</td>\n",
       "      <td>100.000000</td>\n",
       "      <td>18.000000</td>\n",
       "      <td>0.0</td>\n",
       "      <td>-1.000000</td>\n",
       "      <td>-1.0</td>\n",
       "    </tr>\n",
       "    <tr>\n",
       "      <th>75%</th>\n",
       "      <td>1.881297e+07</td>\n",
       "      <td>11306.000000</td>\n",
       "      <td>26.841667</td>\n",
       "      <td>80.219323</td>\n",
       "      <td>1.0</td>\n",
       "      <td>700.000000</td>\n",
       "      <td>2.000000</td>\n",
       "      <td>4.100000</td>\n",
       "      <td>362.000000</td>\n",
       "      <td>128.000000</td>\n",
       "      <td>0.0</td>\n",
       "      <td>1.000000</td>\n",
       "      <td>-1.0</td>\n",
       "    </tr>\n",
       "    <tr>\n",
       "      <th>max</th>\n",
       "      <td>1.915979e+07</td>\n",
       "      <td>11354.000000</td>\n",
       "      <td>10000.000000</td>\n",
       "      <td>91.832769</td>\n",
       "      <td>1.0</td>\n",
       "      <td>30000.000000</td>\n",
       "      <td>4.000000</td>\n",
       "      <td>4.900000</td>\n",
       "      <td>42539.000000</td>\n",
       "      <td>17702.000000</td>\n",
       "      <td>0.0</td>\n",
       "      <td>1.000000</td>\n",
       "      <td>-1.0</td>\n",
       "    </tr>\n",
       "  </tbody>\n",
       "</table>\n",
       "</div>"
      ],
      "text/plain": [
       "             res_id        city_id       latitude      longitude  country_id  \\\n",
       "count  2.119440e+05  211944.000000  211944.000000  211944.000000    211944.0   \n",
       "mean   1.349411e+07    4746.785434      21.499758      77.615276         1.0   \n",
       "std    7.883722e+06    5568.766386      22.781331       7.500104         0.0   \n",
       "min    5.000000e+01       1.000000       0.000000       0.000000         1.0   \n",
       "25%    3.301027e+06      11.000000      15.496071      74.877961         1.0   \n",
       "50%    1.869573e+07      34.000000      22.514494      77.425971         1.0   \n",
       "75%    1.881297e+07   11306.000000      26.841667      80.219323         1.0   \n",
       "max    1.915979e+07   11354.000000   10000.000000      91.832769         1.0   \n",
       "\n",
       "       average_cost_for_two    price_range  aggregate_rating          votes  \\\n",
       "count         211944.000000  211944.000000     211944.000000  211944.000000   \n",
       "mean             595.812229       1.882535          3.395937     378.001864   \n",
       "std              606.239363       0.892989          1.283642     925.333370   \n",
       "min                0.000000       1.000000          0.000000     -18.000000   \n",
       "25%              250.000000       1.000000          3.300000      16.000000   \n",
       "50%              400.000000       2.000000          3.800000     100.000000   \n",
       "75%              700.000000       2.000000          4.100000     362.000000   \n",
       "max            30000.000000       4.000000          4.900000   42539.000000   \n",
       "\n",
       "         photo_count  opentable_support       delivery  takeaway  \n",
       "count  211944.000000           211896.0  211944.000000  211944.0  \n",
       "mean      256.971224                0.0      -0.255907      -1.0  \n",
       "std       867.668940                0.0       0.964172       0.0  \n",
       "min         0.000000                0.0      -1.000000      -1.0  \n",
       "25%         3.000000                0.0      -1.000000      -1.0  \n",
       "50%        18.000000                0.0      -1.000000      -1.0  \n",
       "75%       128.000000                0.0       1.000000      -1.0  \n",
       "max     17702.000000                0.0       1.000000      -1.0  "
      ]
     },
     "execution_count": 14,
     "metadata": {},
     "output_type": "execute_result"
    }
   ],
   "source": [
    "##statistical analysis can be done with the help of describe()\n",
    "\n",
    "data.describe()"
   ]
  },
  {
   "cell_type": "markdown",
   "metadata": {
    "id": "RWZty6oGb94_"
   },
   "source": [
    "As the dataset that we have taken may be having duplicate values, try to understand this : when we are filling out the form we may fill one or more times and ending up increase the amount of responses.  So it is better to remove all the duplicates before getting in to the analysis part."
   ]
  },
  {
   "cell_type": "code",
   "execution_count": 15,
   "metadata": {
    "id": "yGF1AqwFb31e"
   },
   "outputs": [],
   "source": [
    "data.drop_duplicates(['res_id'],keep = 'first', inplace = True)"
   ]
  },
  {
   "cell_type": "code",
   "execution_count": 16,
   "metadata": {
    "colab": {
     "base_uri": "https://localhost:8080/"
    },
    "id": "sn9CV7HnmF8G",
    "outputId": "efedb4fe-a35b-4989-a92e-364992b9e696"
   },
   "outputs": [
    {
     "data": {
      "text/plain": [
       "(55568, 26)"
      ]
     },
     "execution_count": 16,
     "metadata": {},
     "output_type": "execute_result"
    }
   ],
   "source": [
    "data.shape"
   ]
  },
  {
   "cell_type": "markdown",
   "metadata": {
    "id": "RxeJLtwqmJGB"
   },
   "source": [
    "It is crazy that the dataset that we have taken has so many dupliactes, it is good that we had removed duplicates before performing the analysis. And now we are left with one fourh of the data. It is good enough to perform analysis on 50k+ rows."
   ]
  },
  {
   "cell_type": "markdown",
   "metadata": {
    "id": "DA6DsVSYmsP8"
   },
   "source": [
    "# Dealing with the missing values.\n",
    "\n"
   ]
  },
  {
   "cell_type": "code",
   "execution_count": 17,
   "metadata": {
    "colab": {
     "base_uri": "https://localhost:8080/",
     "height": 444
    },
    "id": "CNsWd-73mxzg",
    "outputId": "36d71387-b4ed-4670-96df-2a48e1a7edef"
   },
   "outputs": [
    {
     "data": {
      "text/html": [
       "<div>\n",
       "<style scoped>\n",
       "    .dataframe tbody tr th:only-of-type {\n",
       "        vertical-align: middle;\n",
       "    }\n",
       "\n",
       "    .dataframe tbody tr th {\n",
       "        vertical-align: top;\n",
       "    }\n",
       "\n",
       "    .dataframe thead th {\n",
       "        text-align: right;\n",
       "    }\n",
       "</style>\n",
       "<table border=\"1\" class=\"dataframe\">\n",
       "  <thead>\n",
       "    <tr style=\"text-align: right;\">\n",
       "      <th></th>\n",
       "      <th>res_id</th>\n",
       "      <th>name</th>\n",
       "      <th>establishment</th>\n",
       "      <th>url</th>\n",
       "      <th>address</th>\n",
       "      <th>city</th>\n",
       "      <th>city_id</th>\n",
       "      <th>locality</th>\n",
       "      <th>latitude</th>\n",
       "      <th>longitude</th>\n",
       "      <th>...</th>\n",
       "      <th>price_range</th>\n",
       "      <th>currency</th>\n",
       "      <th>highlights</th>\n",
       "      <th>aggregate_rating</th>\n",
       "      <th>rating_text</th>\n",
       "      <th>votes</th>\n",
       "      <th>photo_count</th>\n",
       "      <th>opentable_support</th>\n",
       "      <th>delivery</th>\n",
       "      <th>takeaway</th>\n",
       "    </tr>\n",
       "  </thead>\n",
       "  <tbody>\n",
       "    <tr>\n",
       "      <th>0</th>\n",
       "      <td>False</td>\n",
       "      <td>False</td>\n",
       "      <td>False</td>\n",
       "      <td>False</td>\n",
       "      <td>False</td>\n",
       "      <td>False</td>\n",
       "      <td>False</td>\n",
       "      <td>False</td>\n",
       "      <td>False</td>\n",
       "      <td>False</td>\n",
       "      <td>...</td>\n",
       "      <td>False</td>\n",
       "      <td>False</td>\n",
       "      <td>False</td>\n",
       "      <td>False</td>\n",
       "      <td>False</td>\n",
       "      <td>False</td>\n",
       "      <td>False</td>\n",
       "      <td>False</td>\n",
       "      <td>False</td>\n",
       "      <td>False</td>\n",
       "    </tr>\n",
       "    <tr>\n",
       "      <th>1</th>\n",
       "      <td>False</td>\n",
       "      <td>False</td>\n",
       "      <td>False</td>\n",
       "      <td>False</td>\n",
       "      <td>False</td>\n",
       "      <td>False</td>\n",
       "      <td>False</td>\n",
       "      <td>False</td>\n",
       "      <td>False</td>\n",
       "      <td>False</td>\n",
       "      <td>...</td>\n",
       "      <td>False</td>\n",
       "      <td>False</td>\n",
       "      <td>False</td>\n",
       "      <td>False</td>\n",
       "      <td>False</td>\n",
       "      <td>False</td>\n",
       "      <td>False</td>\n",
       "      <td>False</td>\n",
       "      <td>False</td>\n",
       "      <td>False</td>\n",
       "    </tr>\n",
       "    <tr>\n",
       "      <th>2</th>\n",
       "      <td>False</td>\n",
       "      <td>False</td>\n",
       "      <td>False</td>\n",
       "      <td>False</td>\n",
       "      <td>False</td>\n",
       "      <td>False</td>\n",
       "      <td>False</td>\n",
       "      <td>False</td>\n",
       "      <td>False</td>\n",
       "      <td>False</td>\n",
       "      <td>...</td>\n",
       "      <td>False</td>\n",
       "      <td>False</td>\n",
       "      <td>False</td>\n",
       "      <td>False</td>\n",
       "      <td>False</td>\n",
       "      <td>False</td>\n",
       "      <td>False</td>\n",
       "      <td>False</td>\n",
       "      <td>False</td>\n",
       "      <td>False</td>\n",
       "    </tr>\n",
       "    <tr>\n",
       "      <th>3</th>\n",
       "      <td>False</td>\n",
       "      <td>False</td>\n",
       "      <td>False</td>\n",
       "      <td>False</td>\n",
       "      <td>False</td>\n",
       "      <td>False</td>\n",
       "      <td>False</td>\n",
       "      <td>False</td>\n",
       "      <td>False</td>\n",
       "      <td>False</td>\n",
       "      <td>...</td>\n",
       "      <td>False</td>\n",
       "      <td>False</td>\n",
       "      <td>False</td>\n",
       "      <td>False</td>\n",
       "      <td>False</td>\n",
       "      <td>False</td>\n",
       "      <td>False</td>\n",
       "      <td>False</td>\n",
       "      <td>False</td>\n",
       "      <td>False</td>\n",
       "    </tr>\n",
       "    <tr>\n",
       "      <th>4</th>\n",
       "      <td>False</td>\n",
       "      <td>False</td>\n",
       "      <td>False</td>\n",
       "      <td>False</td>\n",
       "      <td>False</td>\n",
       "      <td>False</td>\n",
       "      <td>False</td>\n",
       "      <td>False</td>\n",
       "      <td>False</td>\n",
       "      <td>False</td>\n",
       "      <td>...</td>\n",
       "      <td>False</td>\n",
       "      <td>False</td>\n",
       "      <td>False</td>\n",
       "      <td>False</td>\n",
       "      <td>False</td>\n",
       "      <td>False</td>\n",
       "      <td>False</td>\n",
       "      <td>False</td>\n",
       "      <td>False</td>\n",
       "      <td>False</td>\n",
       "    </tr>\n",
       "    <tr>\n",
       "      <th>...</th>\n",
       "      <td>...</td>\n",
       "      <td>...</td>\n",
       "      <td>...</td>\n",
       "      <td>...</td>\n",
       "      <td>...</td>\n",
       "      <td>...</td>\n",
       "      <td>...</td>\n",
       "      <td>...</td>\n",
       "      <td>...</td>\n",
       "      <td>...</td>\n",
       "      <td>...</td>\n",
       "      <td>...</td>\n",
       "      <td>...</td>\n",
       "      <td>...</td>\n",
       "      <td>...</td>\n",
       "      <td>...</td>\n",
       "      <td>...</td>\n",
       "      <td>...</td>\n",
       "      <td>...</td>\n",
       "      <td>...</td>\n",
       "      <td>...</td>\n",
       "    </tr>\n",
       "    <tr>\n",
       "      <th>211882</th>\n",
       "      <td>False</td>\n",
       "      <td>False</td>\n",
       "      <td>False</td>\n",
       "      <td>False</td>\n",
       "      <td>False</td>\n",
       "      <td>False</td>\n",
       "      <td>False</td>\n",
       "      <td>False</td>\n",
       "      <td>False</td>\n",
       "      <td>False</td>\n",
       "      <td>...</td>\n",
       "      <td>False</td>\n",
       "      <td>False</td>\n",
       "      <td>False</td>\n",
       "      <td>False</td>\n",
       "      <td>False</td>\n",
       "      <td>False</td>\n",
       "      <td>False</td>\n",
       "      <td>False</td>\n",
       "      <td>False</td>\n",
       "      <td>False</td>\n",
       "    </tr>\n",
       "    <tr>\n",
       "      <th>211925</th>\n",
       "      <td>False</td>\n",
       "      <td>False</td>\n",
       "      <td>False</td>\n",
       "      <td>False</td>\n",
       "      <td>False</td>\n",
       "      <td>False</td>\n",
       "      <td>False</td>\n",
       "      <td>False</td>\n",
       "      <td>False</td>\n",
       "      <td>False</td>\n",
       "      <td>...</td>\n",
       "      <td>False</td>\n",
       "      <td>False</td>\n",
       "      <td>False</td>\n",
       "      <td>False</td>\n",
       "      <td>False</td>\n",
       "      <td>False</td>\n",
       "      <td>False</td>\n",
       "      <td>False</td>\n",
       "      <td>False</td>\n",
       "      <td>False</td>\n",
       "    </tr>\n",
       "    <tr>\n",
       "      <th>211926</th>\n",
       "      <td>False</td>\n",
       "      <td>False</td>\n",
       "      <td>False</td>\n",
       "      <td>False</td>\n",
       "      <td>False</td>\n",
       "      <td>False</td>\n",
       "      <td>False</td>\n",
       "      <td>False</td>\n",
       "      <td>False</td>\n",
       "      <td>False</td>\n",
       "      <td>...</td>\n",
       "      <td>False</td>\n",
       "      <td>False</td>\n",
       "      <td>False</td>\n",
       "      <td>False</td>\n",
       "      <td>False</td>\n",
       "      <td>False</td>\n",
       "      <td>False</td>\n",
       "      <td>False</td>\n",
       "      <td>False</td>\n",
       "      <td>False</td>\n",
       "    </tr>\n",
       "    <tr>\n",
       "      <th>211940</th>\n",
       "      <td>False</td>\n",
       "      <td>False</td>\n",
       "      <td>False</td>\n",
       "      <td>False</td>\n",
       "      <td>False</td>\n",
       "      <td>False</td>\n",
       "      <td>False</td>\n",
       "      <td>False</td>\n",
       "      <td>False</td>\n",
       "      <td>False</td>\n",
       "      <td>...</td>\n",
       "      <td>False</td>\n",
       "      <td>False</td>\n",
       "      <td>False</td>\n",
       "      <td>False</td>\n",
       "      <td>False</td>\n",
       "      <td>False</td>\n",
       "      <td>False</td>\n",
       "      <td>False</td>\n",
       "      <td>False</td>\n",
       "      <td>False</td>\n",
       "    </tr>\n",
       "    <tr>\n",
       "      <th>211942</th>\n",
       "      <td>False</td>\n",
       "      <td>False</td>\n",
       "      <td>False</td>\n",
       "      <td>False</td>\n",
       "      <td>False</td>\n",
       "      <td>False</td>\n",
       "      <td>False</td>\n",
       "      <td>False</td>\n",
       "      <td>False</td>\n",
       "      <td>False</td>\n",
       "      <td>...</td>\n",
       "      <td>False</td>\n",
       "      <td>False</td>\n",
       "      <td>False</td>\n",
       "      <td>False</td>\n",
       "      <td>False</td>\n",
       "      <td>False</td>\n",
       "      <td>False</td>\n",
       "      <td>False</td>\n",
       "      <td>False</td>\n",
       "      <td>False</td>\n",
       "    </tr>\n",
       "  </tbody>\n",
       "</table>\n",
       "<p>55568 rows × 26 columns</p>\n",
       "</div>"
      ],
      "text/plain": [
       "        res_id   name  establishment    url  address   city  city_id  \\\n",
       "0        False  False          False  False    False  False    False   \n",
       "1        False  False          False  False    False  False    False   \n",
       "2        False  False          False  False    False  False    False   \n",
       "3        False  False          False  False    False  False    False   \n",
       "4        False  False          False  False    False  False    False   \n",
       "...        ...    ...            ...    ...      ...    ...      ...   \n",
       "211882   False  False          False  False    False  False    False   \n",
       "211925   False  False          False  False    False  False    False   \n",
       "211926   False  False          False  False    False  False    False   \n",
       "211940   False  False          False  False    False  False    False   \n",
       "211942   False  False          False  False    False  False    False   \n",
       "\n",
       "        locality  latitude  longitude  ...  price_range  currency  highlights  \\\n",
       "0          False     False      False  ...        False     False       False   \n",
       "1          False     False      False  ...        False     False       False   \n",
       "2          False     False      False  ...        False     False       False   \n",
       "3          False     False      False  ...        False     False       False   \n",
       "4          False     False      False  ...        False     False       False   \n",
       "...          ...       ...        ...  ...          ...       ...         ...   \n",
       "211882     False     False      False  ...        False     False       False   \n",
       "211925     False     False      False  ...        False     False       False   \n",
       "211926     False     False      False  ...        False     False       False   \n",
       "211940     False     False      False  ...        False     False       False   \n",
       "211942     False     False      False  ...        False     False       False   \n",
       "\n",
       "        aggregate_rating  rating_text  votes  photo_count  opentable_support  \\\n",
       "0                  False        False  False        False              False   \n",
       "1                  False        False  False        False              False   \n",
       "2                  False        False  False        False              False   \n",
       "3                  False        False  False        False              False   \n",
       "4                  False        False  False        False              False   \n",
       "...                  ...          ...    ...          ...                ...   \n",
       "211882             False        False  False        False              False   \n",
       "211925             False        False  False        False              False   \n",
       "211926             False        False  False        False              False   \n",
       "211940             False        False  False        False              False   \n",
       "211942             False        False  False        False              False   \n",
       "\n",
       "        delivery  takeaway  \n",
       "0          False     False  \n",
       "1          False     False  \n",
       "2          False     False  \n",
       "3          False     False  \n",
       "4          False     False  \n",
       "...          ...       ...  \n",
       "211882     False     False  \n",
       "211925     False     False  \n",
       "211926     False     False  \n",
       "211940     False     False  \n",
       "211942     False     False  \n",
       "\n",
       "[55568 rows x 26 columns]"
      ]
     },
     "execution_count": 17,
     "metadata": {},
     "output_type": "execute_result"
    }
   ],
   "source": [
    "data.isnull()"
   ]
  },
  {
   "cell_type": "code",
   "execution_count": 18,
   "metadata": {
    "colab": {
     "base_uri": "https://localhost:8080/",
     "height": 899
    },
    "id": "Y08ftF3Jm0Gc",
    "outputId": "3b912101-d806-4ddf-a72a-80f85b368869"
   },
   "outputs": [
    {
     "data": {
      "text/plain": [
       "res_id                      0\n",
       "name                        0\n",
       "establishment               0\n",
       "url                         0\n",
       "address                    18\n",
       "city                        0\n",
       "city_id                     0\n",
       "locality                    0\n",
       "latitude                    0\n",
       "longitude                   0\n",
       "zipcode                 44623\n",
       "country_id                  0\n",
       "locality_verbose            0\n",
       "cuisines                  470\n",
       "timings                  1003\n",
       "average_cost_for_two        0\n",
       "price_range                 0\n",
       "currency                    0\n",
       "highlights                  0\n",
       "aggregate_rating            0\n",
       "rating_text                 0\n",
       "votes                       0\n",
       "photo_count                 0\n",
       "opentable_support          12\n",
       "delivery                    0\n",
       "takeaway                    0\n",
       "dtype: int64"
      ]
     },
     "execution_count": 18,
     "metadata": {},
     "output_type": "execute_result"
    }
   ],
   "source": [
    "data.isnull().sum()"
   ]
  },
  {
   "cell_type": "markdown",
   "metadata": {
    "id": "38tX5Mcjm7I6"
   },
   "source": [
    "We are having 5 features that has missingvalues, since the zipcode has more number of missing values(75%), so we can simply ignore that featurein our analysis."
   ]
  },
  {
   "cell_type": "markdown",
   "metadata": {
    "id": "fgqLx55bnNdt"
   },
   "source": [
    "**Omitting or not considering the useful features**\n",
    "\n",
    "Now, we need to look at each and every feature and has to decide whether they are useful for our analysis or not.\n",
    "\n",
    "\n",
    "1. res_id - Unique id for each restuarant, so need to worry about this column\n",
    "\n",
    "2. name - Name is useful in our analysis to find the best and top restaurants\n",
    "\n",
    "3. establishment - let us see what this feature actually represents"
   ]
  },
  {
   "cell_type": "code",
   "execution_count": 19,
   "metadata": {
    "colab": {
     "base_uri": "https://localhost:8080/",
     "height": 458
    },
    "id": "ysuHfbIvm2tG",
    "outputId": "7c172446-85dd-4a1b-b547-98beaec2b835"
   },
   "outputs": [
    {
     "data": {
      "text/plain": [
       "0             ['Quick Bites']\n",
       "1             ['Quick Bites']\n",
       "2             ['Quick Bites']\n",
       "3             ['Quick Bites']\n",
       "4           ['Casual Dining']\n",
       "                 ...         \n",
       "211882    ['Dessert Parlour']\n",
       "211925      ['Casual Dining']\n",
       "211926      ['Casual Dining']\n",
       "211940        ['Quick Bites']\n",
       "211942        ['Quick Bites']\n",
       "Name: establishment, Length: 55568, dtype: object"
      ]
     },
     "execution_count": 19,
     "metadata": {},
     "output_type": "execute_result"
    }
   ],
   "source": [
    "data['establishment']"
   ]
  },
  {
   "cell_type": "code",
   "execution_count": 20,
   "metadata": {
    "colab": {
     "base_uri": "https://localhost:8080/"
    },
    "id": "3-Emr5Bzm6kS",
    "outputId": "6d5240c0-4b11-4481-8aea-8165c079cb21"
   },
   "outputs": [
    {
     "data": {
      "text/plain": [
       "array([\"['Quick Bites']\", \"['Casual Dining']\", \"['Bakery']\", \"['Café']\",\n",
       "       \"['Dhaba']\", \"['Bhojanalya']\", \"['Bar']\", \"['Sweet Shop']\",\n",
       "       \"['Fine Dining']\", \"['Food Truck']\", \"['Dessert Parlour']\",\n",
       "       \"['Lounge']\", \"['Pub']\", \"['Beverage Shop']\", \"['Kiosk']\",\n",
       "       \"['Paan Shop']\", \"['Confectionery']\", '[]', \"['Shack']\",\n",
       "       \"['Club']\", \"['Food Court']\", \"['Mess']\", \"['Butcher Shop']\",\n",
       "       \"['Microbrewery']\", \"['Cocktail Bar']\", \"['Pop up']\",\n",
       "       \"['Irani Cafe']\"], dtype=object)"
      ]
     },
     "execution_count": 20,
     "metadata": {},
     "output_type": "execute_result"
    }
   ],
   "source": [
    "#checking out the unique values\n",
    "\n",
    "data['establishment'].unique()"
   ]
  },
  {
   "cell_type": "code",
   "execution_count": 21,
   "metadata": {
    "colab": {
     "base_uri": "https://localhost:8080/"
    },
    "id": "HndlVSdOn_2e",
    "outputId": "a3ec8717-35e0-4823-ed2c-08d80f3ca5ba"
   },
   "outputs": [
    {
     "data": {
      "text/plain": [
       "27"
      ]
     },
     "execution_count": 21,
     "metadata": {},
     "output_type": "execute_result"
    }
   ],
   "source": [
    "data['establishment'].nunique()"
   ]
  },
  {
   "cell_type": "code",
   "execution_count": 22,
   "metadata": {
    "colab": {
     "base_uri": "https://localhost:8080/"
    },
    "id": "dOU16K54oKD5",
    "outputId": "b96f825e-7c40-4a18-de5f-554cb1bb2c06"
   },
   "outputs": [
    {
     "name": "stdout",
     "output_type": "stream",
     "text": [
      "['Quick Bites']\n"
     ]
    }
   ],
   "source": [
    "print(data['establishment'].unique()[0])"
   ]
  },
  {
   "cell_type": "code",
   "execution_count": 23,
   "metadata": {
    "colab": {
     "base_uri": "https://localhost:8080/"
    },
    "id": "8QYTqrSqoT4F",
    "outputId": "16e312e2-6304-427d-cac9-b70eaab0bf0e"
   },
   "outputs": [
    {
     "data": {
      "text/plain": [
       "str"
      ]
     },
     "execution_count": 23,
     "metadata": {},
     "output_type": "execute_result"
    }
   ],
   "source": [
    "type(data['establishment'].unique()[0])"
   ]
  },
  {
   "cell_type": "markdown",
   "metadata": {
    "id": "zcITuVYDoeuw"
   },
   "source": [
    "Here, establishment looks like an interesting feature to perform the analysis, it is sad that we are finding out the unnecessary brackets for the values in feature establishment.\n",
    "\n",
    "Our main task is to remove those unwanted brackets ([''])from the values"
   ]
  },
  {
   "cell_type": "code",
   "execution_count": 24,
   "metadata": {
    "colab": {
     "base_uri": "https://localhost:8080/"
    },
    "id": "y1DLQ2L9oYFf",
    "outputId": "58e1da65-5b30-4f4a-b39a-a33923c51e23"
   },
   "outputs": [
    {
     "name": "stdout",
     "output_type": "stream",
     "text": [
      "['Quick Bites' 'Casual Dining' 'Bakery' 'Café' 'Dhaba' 'Bhojanalya' 'Bar'\n",
      " 'Sweet Shop' 'Fine Dining' 'Food Truck' 'Dessert Parlour' 'Lounge' 'Pub'\n",
      " 'Beverage Shop' 'Kiosk' 'Paan Shop' 'Confectionery' '' 'Shack' 'Club'\n",
      " 'Food Court' 'Mess' 'Butcher Shop' 'Microbrewery' 'Cocktail Bar' 'Pop up'\n",
      " 'Irani Cafe']\n"
     ]
    }
   ],
   "source": [
    "#Removing [' '] from the each value\n",
    "\n",
    "data['establishment'] = data['establishment'].apply(lambda x:x[2:-2])\n",
    "print(data['establishment'].unique())"
   ]
  },
  {
   "cell_type": "markdown",
   "metadata": {
    "id": "IxY__Ob3pUro"
   },
   "source": [
    "Yeahh we had removed the unnecessary brackets from the values, now its our turn to replace the \" \" empty values with NA"
   ]
  },
  {
   "cell_type": "code",
   "execution_count": 25,
   "metadata": {
    "colab": {
     "base_uri": "https://localhost:8080/"
    },
    "id": "vh5kXHTgpRpA",
    "outputId": "1eae9c14-177a-4eed-87cf-47316d4e5aac"
   },
   "outputs": [
    {
     "name": "stdout",
     "output_type": "stream",
     "text": [
      "['Quick Bites' 'Casual Dining' 'Bakery' 'Café' 'Dhaba' 'Bhojanalya' 'Bar'\n",
      " 'Sweet Shop' 'Fine Dining' 'Food Truck' 'Dessert Parlour' 'Lounge' 'Pub'\n",
      " 'Beverage Shop' 'Kiosk' 'Paan Shop' 'Confectionery' 'NA' 'Shack' 'Club'\n",
      " 'Food Court' 'Mess' 'Butcher Shop' 'Microbrewery' 'Cocktail Bar' 'Pop up'\n",
      " 'Irani Cafe']\n"
     ]
    }
   ],
   "source": [
    "#Changing ' ' to NA\n",
    "\n",
    "data['establishment'] = data['establishment'].apply(lambda x: np.where(x == \"\",\"NA\",x))\n",
    "print(data['establishment'].unique())"
   ]
  },
  {
   "cell_type": "markdown",
   "metadata": {
    "id": "HDsGCghLqBpM"
   },
   "source": [
    "### We are done with the establishment feature\n",
    "Now, let's move forward for another features\n",
    "\n",
    "4. url - URL is the link for the restaurant which is not useful in our analysis\n",
    "\n",
    "5. address - not useful for us and it is containing long strings, which is difficult for use and analyse.\n",
    "\n",
    "6. city - let's check what are the unique vales in city"
   ]
  },
  {
   "cell_type": "code",
   "execution_count": 26,
   "metadata": {
    "colab": {
     "base_uri": "https://localhost:8080/"
    },
    "id": "XuNKJC6dp4Dc",
    "outputId": "c88ea246-fa9d-4993-aa26-a102616b7c41"
   },
   "outputs": [
    {
     "data": {
      "text/plain": [
       "array(['Agra', 'Ahmedabad', 'Gandhinagar', 'Ajmer', 'Alappuzha',\n",
       "       'Allahabad', 'Amravati', 'Amritsar', 'Aurangabad', 'Bangalore',\n",
       "       'Bhopal', 'Bhubaneshwar', 'Chandigarh', 'Mohali', 'Panchkula',\n",
       "       'Zirakpur', 'Nayagaon', 'Chennai', 'Coimbatore', 'Cuttack',\n",
       "       'Darjeeling', 'Dehradun', 'New Delhi', 'Gurgaon', 'Noida',\n",
       "       'Faridabad', 'Ghaziabad', 'Greater Noida', 'Dharamshala',\n",
       "       'Gangtok', 'Goa', 'Gorakhpur', 'Guntur', 'Guwahati', 'Gwalior',\n",
       "       'Haridwar', 'Hyderabad', 'Secunderabad', 'Indore', 'Jabalpur',\n",
       "       'Jaipur', 'Jalandhar', 'Jammu', 'Jamnagar', 'Jamshedpur', 'Jhansi',\n",
       "       'Jodhpur', 'Junagadh', 'Kanpur', 'Kharagpur', 'Kochi', 'Kolhapur',\n",
       "       'Kolkata', 'Howrah', 'Kota', 'Lucknow', 'Ludhiana', 'Madurai',\n",
       "       'Manali', 'Mangalore', 'Manipal', 'Udupi', 'Meerut', 'Mumbai',\n",
       "       'Thane', 'Navi Mumbai', 'Mussoorie', 'Mysore', 'Nagpur',\n",
       "       'Nainital', 'Nasik', 'Nashik', 'Neemrana', 'Ooty', 'Palakkad',\n",
       "       'Patiala', 'Patna', 'Puducherry', 'Pune', 'Pushkar', 'Raipur',\n",
       "       'Rajkot', 'Ranchi', 'Rishikesh', 'Salem', 'Shimla', 'Siliguri',\n",
       "       'Srinagar', 'Surat', 'Thrissur', 'Tirupati', 'Trichy',\n",
       "       'Trivandrum', 'Udaipur', 'Varanasi', 'Vellore', 'Vijayawada',\n",
       "       'Vizag', 'Vadodara'], dtype=object)"
      ]
     },
     "execution_count": 26,
     "metadata": {},
     "output_type": "execute_result"
    }
   ],
   "source": [
    "data['city'].unique()"
   ]
  },
  {
   "cell_type": "code",
   "execution_count": 27,
   "metadata": {
    "colab": {
     "base_uri": "https://localhost:8080/"
    },
    "id": "JAtK9YzeqzhN",
    "outputId": "98ca006b-6316-4be8-9c7f-cf05b25e3f22"
   },
   "outputs": [
    {
     "data": {
      "text/plain": [
       "99"
      ]
     },
     "execution_count": 27,
     "metadata": {},
     "output_type": "execute_result"
    }
   ],
   "source": [
    "len(data['city'].unique())"
   ]
  },
  {
   "cell_type": "code",
   "execution_count": 28,
   "metadata": {
    "colab": {
     "base_uri": "https://localhost:8080/",
     "height": 1000
    },
    "id": "xSXQDI2iq933",
    "outputId": "7f147610-d965-4418-e09e-a9e8fdbcae1f"
   },
   "outputs": [
    {
     "data": {
      "text/html": [
       "<div>\n",
       "<style scoped>\n",
       "    .dataframe tbody tr th:only-of-type {\n",
       "        vertical-align: middle;\n",
       "    }\n",
       "\n",
       "    .dataframe tbody tr th {\n",
       "        vertical-align: top;\n",
       "    }\n",
       "\n",
       "    .dataframe thead th {\n",
       "        text-align: right;\n",
       "    }\n",
       "</style>\n",
       "<table border=\"1\" class=\"dataframe\">\n",
       "  <thead>\n",
       "    <tr style=\"text-align: right;\">\n",
       "      <th></th>\n",
       "      <th>res_id</th>\n",
       "      <th>name</th>\n",
       "      <th>establishment</th>\n",
       "      <th>url</th>\n",
       "      <th>address</th>\n",
       "      <th>city</th>\n",
       "      <th>city_id</th>\n",
       "      <th>locality</th>\n",
       "      <th>latitude</th>\n",
       "      <th>longitude</th>\n",
       "      <th>...</th>\n",
       "      <th>price_range</th>\n",
       "      <th>currency</th>\n",
       "      <th>highlights</th>\n",
       "      <th>aggregate_rating</th>\n",
       "      <th>rating_text</th>\n",
       "      <th>votes</th>\n",
       "      <th>photo_count</th>\n",
       "      <th>opentable_support</th>\n",
       "      <th>delivery</th>\n",
       "      <th>takeaway</th>\n",
       "    </tr>\n",
       "  </thead>\n",
       "  <tbody>\n",
       "    <tr>\n",
       "      <th>63394</th>\n",
       "      <td>16512333</td>\n",
       "      <td>Britto's Bar &amp; Restaurant</td>\n",
       "      <td>Casual Dining</td>\n",
       "      <td>https://www.zomato.com/goa/brittos-bar-restaur...</td>\n",
       "      <td>Baga Calangute, Bardez, Baga, Goa</td>\n",
       "      <td>Goa</td>\n",
       "      <td>13</td>\n",
       "      <td>Baga</td>\n",
       "      <td>15.560983</td>\n",
       "      <td>73.749268</td>\n",
       "      <td>...</td>\n",
       "      <td>4</td>\n",
       "      <td>Rs.</td>\n",
       "      <td>['Takeaway Available', 'Credit Card', 'Serves ...</td>\n",
       "      <td>4.4</td>\n",
       "      <td>Very Good</td>\n",
       "      <td>4118</td>\n",
       "      <td>4783</td>\n",
       "      <td>0.0</td>\n",
       "      <td>-1</td>\n",
       "      <td>-1</td>\n",
       "    </tr>\n",
       "    <tr>\n",
       "      <th>63395</th>\n",
       "      <td>130274</td>\n",
       "      <td>Thalassa</td>\n",
       "      <td>Casual Dining</td>\n",
       "      <td>https://www.zomato.com/goa/thalassa-siolim?utm...</td>\n",
       "      <td>Near Teso Waterfront, Plot 301, 1, Vaddy, Siol...</td>\n",
       "      <td>Goa</td>\n",
       "      <td>13</td>\n",
       "      <td>Siolim</td>\n",
       "      <td>15.616222</td>\n",
       "      <td>73.755632</td>\n",
       "      <td>...</td>\n",
       "      <td>4</td>\n",
       "      <td>Rs.</td>\n",
       "      <td>['Debit Card', 'Dinner', 'Credit Card', 'Lunch...</td>\n",
       "      <td>4.4</td>\n",
       "      <td>Very Good</td>\n",
       "      <td>3606</td>\n",
       "      <td>3555</td>\n",
       "      <td>0.0</td>\n",
       "      <td>-1</td>\n",
       "      <td>-1</td>\n",
       "    </tr>\n",
       "    <tr>\n",
       "      <th>63396</th>\n",
       "      <td>130535</td>\n",
       "      <td>The Fisherman's Wharf</td>\n",
       "      <td>Casual Dining</td>\n",
       "      <td>https://www.zomato.com/goa/the-fishermans-whar...</td>\n",
       "      <td>Before The Leela, Mobor, Cavelossim, Goa</td>\n",
       "      <td>Goa</td>\n",
       "      <td>13</td>\n",
       "      <td>Cavelossim</td>\n",
       "      <td>15.157532</td>\n",
       "      <td>73.952245</td>\n",
       "      <td>...</td>\n",
       "      <td>4</td>\n",
       "      <td>Rs.</td>\n",
       "      <td>['Dinner', 'Debit Card', 'Serves Alcohol', 'Cr...</td>\n",
       "      <td>4.8</td>\n",
       "      <td>Excellent</td>\n",
       "      <td>1562</td>\n",
       "      <td>1826</td>\n",
       "      <td>0.0</td>\n",
       "      <td>-1</td>\n",
       "      <td>-1</td>\n",
       "    </tr>\n",
       "    <tr>\n",
       "      <th>63397</th>\n",
       "      <td>130309</td>\n",
       "      <td>Purple Martini</td>\n",
       "      <td>Casual Dining</td>\n",
       "      <td>https://www.zomato.com/goa/purple-martini-anju...</td>\n",
       "      <td>Anjuna Beach, Anjuna, Goa</td>\n",
       "      <td>Goa</td>\n",
       "      <td>13</td>\n",
       "      <td>Anjuna Beach, Anjuna</td>\n",
       "      <td>15.583275</td>\n",
       "      <td>73.737320</td>\n",
       "      <td>...</td>\n",
       "      <td>4</td>\n",
       "      <td>Rs.</td>\n",
       "      <td>['Dinner', 'Credit Card', 'Lunch', 'Cash', 'Ta...</td>\n",
       "      <td>4.9</td>\n",
       "      <td>Excellent</td>\n",
       "      <td>2253</td>\n",
       "      <td>787</td>\n",
       "      <td>0.0</td>\n",
       "      <td>-1</td>\n",
       "      <td>-1</td>\n",
       "    </tr>\n",
       "    <tr>\n",
       "      <th>63398</th>\n",
       "      <td>130409</td>\n",
       "      <td>Baba Au Rhum</td>\n",
       "      <td>Casual Dining</td>\n",
       "      <td>https://www.zomato.com/goa/baba-au-rhum-1-anju...</td>\n",
       "      <td>1054, Sim Vaddo, Anjuna, Goa</td>\n",
       "      <td>Goa</td>\n",
       "      <td>13</td>\n",
       "      <td>Anjuna</td>\n",
       "      <td>15.576377</td>\n",
       "      <td>73.755765</td>\n",
       "      <td>...</td>\n",
       "      <td>4</td>\n",
       "      <td>Rs.</td>\n",
       "      <td>['Dinner', 'Cash', 'Credit Card', 'Debit Card'...</td>\n",
       "      <td>4.7</td>\n",
       "      <td>Excellent</td>\n",
       "      <td>1412</td>\n",
       "      <td>1697</td>\n",
       "      <td>0.0</td>\n",
       "      <td>-1</td>\n",
       "      <td>-1</td>\n",
       "    </tr>\n",
       "    <tr>\n",
       "      <th>...</th>\n",
       "      <td>...</td>\n",
       "      <td>...</td>\n",
       "      <td>...</td>\n",
       "      <td>...</td>\n",
       "      <td>...</td>\n",
       "      <td>...</td>\n",
       "      <td>...</td>\n",
       "      <td>...</td>\n",
       "      <td>...</td>\n",
       "      <td>...</td>\n",
       "      <td>...</td>\n",
       "      <td>...</td>\n",
       "      <td>...</td>\n",
       "      <td>...</td>\n",
       "      <td>...</td>\n",
       "      <td>...</td>\n",
       "      <td>...</td>\n",
       "      <td>...</td>\n",
       "      <td>...</td>\n",
       "      <td>...</td>\n",
       "      <td>...</td>\n",
       "    </tr>\n",
       "    <tr>\n",
       "      <th>66370</th>\n",
       "      <td>18577432</td>\n",
       "      <td>304 Kitchen And Tavern</td>\n",
       "      <td>Casual Dining</td>\n",
       "      <td>https://www.zomato.com/goa/304-kitchen-and-tav...</td>\n",
       "      <td>Opposite Casa Menezes - The Goan Heritage Home...</td>\n",
       "      <td>Goa</td>\n",
       "      <td>13</td>\n",
       "      <td>Bambolim</td>\n",
       "      <td>15.449189</td>\n",
       "      <td>73.886606</td>\n",
       "      <td>...</td>\n",
       "      <td>4</td>\n",
       "      <td>Rs.</td>\n",
       "      <td>['Serves Alcohol', 'Breakfast', 'Dinner', 'Cas...</td>\n",
       "      <td>3.7</td>\n",
       "      <td>Good</td>\n",
       "      <td>21</td>\n",
       "      <td>53</td>\n",
       "      <td>0.0</td>\n",
       "      <td>-1</td>\n",
       "      <td>-1</td>\n",
       "    </tr>\n",
       "    <tr>\n",
       "      <th>66371</th>\n",
       "      <td>130442</td>\n",
       "      <td>Avalon Sunset</td>\n",
       "      <td>Casual Dining</td>\n",
       "      <td>https://www.zomato.com/goa/avalon-sunset-anjun...</td>\n",
       "      <td>Anjuna Beach, Anjuna, Goa</td>\n",
       "      <td>Goa</td>\n",
       "      <td>13</td>\n",
       "      <td>Anjuna Beach, Anjuna</td>\n",
       "      <td>15.581365</td>\n",
       "      <td>73.737981</td>\n",
       "      <td>...</td>\n",
       "      <td>3</td>\n",
       "      <td>Rs.</td>\n",
       "      <td>['Lunch', 'Cash', 'Breakfast', 'Dinner', 'Full...</td>\n",
       "      <td>3.6</td>\n",
       "      <td>Good</td>\n",
       "      <td>17</td>\n",
       "      <td>29</td>\n",
       "      <td>0.0</td>\n",
       "      <td>-1</td>\n",
       "      <td>-1</td>\n",
       "    </tr>\n",
       "    <tr>\n",
       "      <th>66372</th>\n",
       "      <td>18805479</td>\n",
       "      <td>Flamingo</td>\n",
       "      <td>Casual Dining</td>\n",
       "      <td>https://www.zomato.com/goa/flamingo-panaji?utm...</td>\n",
       "      <td>Miramar, Panaji, Goa</td>\n",
       "      <td>Goa</td>\n",
       "      <td>13</td>\n",
       "      <td>Panaji</td>\n",
       "      <td>15.464708</td>\n",
       "      <td>73.807543</td>\n",
       "      <td>...</td>\n",
       "      <td>3</td>\n",
       "      <td>Rs.</td>\n",
       "      <td>['Credit Card', 'Lunch', 'Takeaway Available',...</td>\n",
       "      <td>3.2</td>\n",
       "      <td>Average</td>\n",
       "      <td>22</td>\n",
       "      <td>60</td>\n",
       "      <td>0.0</td>\n",
       "      <td>-1</td>\n",
       "      <td>-1</td>\n",
       "    </tr>\n",
       "    <tr>\n",
       "      <th>66376</th>\n",
       "      <td>18964410</td>\n",
       "      <td>Chilli n Spice</td>\n",
       "      <td>Quick Bites</td>\n",
       "      <td>https://www.zomato.com/goa/chilli-n-spice-anju...</td>\n",
       "      <td>H 211/D 3, Chivar, Bardez, Anjuna, Goa</td>\n",
       "      <td>Goa</td>\n",
       "      <td>13</td>\n",
       "      <td>Anjuna</td>\n",
       "      <td>15.600046</td>\n",
       "      <td>73.751396</td>\n",
       "      <td>...</td>\n",
       "      <td>1</td>\n",
       "      <td>Rs.</td>\n",
       "      <td>['Dinner', 'Cash', 'Debit Card', 'Lunch', 'Tak...</td>\n",
       "      <td>0.0</td>\n",
       "      <td>Not rated</td>\n",
       "      <td>0</td>\n",
       "      <td>12</td>\n",
       "      <td>0.0</td>\n",
       "      <td>-1</td>\n",
       "      <td>-1</td>\n",
       "    </tr>\n",
       "    <tr>\n",
       "      <th>66377</th>\n",
       "      <td>18233522</td>\n",
       "      <td>Darbar</td>\n",
       "      <td>Casual Dining</td>\n",
       "      <td>https://www.zomato.com/goa/darbar-panaji?utm_s...</td>\n",
       "      <td>Hotel Goa International, D.B Marg,Near Miramar...</td>\n",
       "      <td>Goa</td>\n",
       "      <td>13</td>\n",
       "      <td>Panaji</td>\n",
       "      <td>15.482725</td>\n",
       "      <td>73.811701</td>\n",
       "      <td>...</td>\n",
       "      <td>4</td>\n",
       "      <td>Rs.</td>\n",
       "      <td>['Breakfast', 'Dinner', 'Lunch', 'Serves Alcoh...</td>\n",
       "      <td>0.0</td>\n",
       "      <td>Not rated</td>\n",
       "      <td>0</td>\n",
       "      <td>0</td>\n",
       "      <td>0.0</td>\n",
       "      <td>-1</td>\n",
       "      <td>-1</td>\n",
       "    </tr>\n",
       "  </tbody>\n",
       "</table>\n",
       "<p>1150 rows × 26 columns</p>\n",
       "</div>"
      ],
      "text/plain": [
       "         res_id                       name  establishment  \\\n",
       "63394  16512333  Britto's Bar & Restaurant  Casual Dining   \n",
       "63395    130274                   Thalassa  Casual Dining   \n",
       "63396    130535      The Fisherman's Wharf  Casual Dining   \n",
       "63397    130309             Purple Martini  Casual Dining   \n",
       "63398    130409               Baba Au Rhum  Casual Dining   \n",
       "...         ...                        ...            ...   \n",
       "66370  18577432     304 Kitchen And Tavern  Casual Dining   \n",
       "66371    130442              Avalon Sunset  Casual Dining   \n",
       "66372  18805479                   Flamingo  Casual Dining   \n",
       "66376  18964410             Chilli n Spice    Quick Bites   \n",
       "66377  18233522                     Darbar  Casual Dining   \n",
       "\n",
       "                                                     url  \\\n",
       "63394  https://www.zomato.com/goa/brittos-bar-restaur...   \n",
       "63395  https://www.zomato.com/goa/thalassa-siolim?utm...   \n",
       "63396  https://www.zomato.com/goa/the-fishermans-whar...   \n",
       "63397  https://www.zomato.com/goa/purple-martini-anju...   \n",
       "63398  https://www.zomato.com/goa/baba-au-rhum-1-anju...   \n",
       "...                                                  ...   \n",
       "66370  https://www.zomato.com/goa/304-kitchen-and-tav...   \n",
       "66371  https://www.zomato.com/goa/avalon-sunset-anjun...   \n",
       "66372  https://www.zomato.com/goa/flamingo-panaji?utm...   \n",
       "66376  https://www.zomato.com/goa/chilli-n-spice-anju...   \n",
       "66377  https://www.zomato.com/goa/darbar-panaji?utm_s...   \n",
       "\n",
       "                                                 address city  city_id  \\\n",
       "63394                  Baga Calangute, Bardez, Baga, Goa  Goa       13   \n",
       "63395  Near Teso Waterfront, Plot 301, 1, Vaddy, Siol...  Goa       13   \n",
       "63396           Before The Leela, Mobor, Cavelossim, Goa  Goa       13   \n",
       "63397                          Anjuna Beach, Anjuna, Goa  Goa       13   \n",
       "63398                       1054, Sim Vaddo, Anjuna, Goa  Goa       13   \n",
       "...                                                  ...  ...      ...   \n",
       "66370  Opposite Casa Menezes - The Goan Heritage Home...  Goa       13   \n",
       "66371                          Anjuna Beach, Anjuna, Goa  Goa       13   \n",
       "66372                               Miramar, Panaji, Goa  Goa       13   \n",
       "66376             H 211/D 3, Chivar, Bardez, Anjuna, Goa  Goa       13   \n",
       "66377  Hotel Goa International, D.B Marg,Near Miramar...  Goa       13   \n",
       "\n",
       "                   locality   latitude  longitude  ... price_range  currency  \\\n",
       "63394                  Baga  15.560983  73.749268  ...           4       Rs.   \n",
       "63395                Siolim  15.616222  73.755632  ...           4       Rs.   \n",
       "63396            Cavelossim  15.157532  73.952245  ...           4       Rs.   \n",
       "63397  Anjuna Beach, Anjuna  15.583275  73.737320  ...           4       Rs.   \n",
       "63398                Anjuna  15.576377  73.755765  ...           4       Rs.   \n",
       "...                     ...        ...        ...  ...         ...       ...   \n",
       "66370              Bambolim  15.449189  73.886606  ...           4       Rs.   \n",
       "66371  Anjuna Beach, Anjuna  15.581365  73.737981  ...           3       Rs.   \n",
       "66372                Panaji  15.464708  73.807543  ...           3       Rs.   \n",
       "66376                Anjuna  15.600046  73.751396  ...           1       Rs.   \n",
       "66377                Panaji  15.482725  73.811701  ...           4       Rs.   \n",
       "\n",
       "                                              highlights aggregate_rating  \\\n",
       "63394  ['Takeaway Available', 'Credit Card', 'Serves ...              4.4   \n",
       "63395  ['Debit Card', 'Dinner', 'Credit Card', 'Lunch...              4.4   \n",
       "63396  ['Dinner', 'Debit Card', 'Serves Alcohol', 'Cr...              4.8   \n",
       "63397  ['Dinner', 'Credit Card', 'Lunch', 'Cash', 'Ta...              4.9   \n",
       "63398  ['Dinner', 'Cash', 'Credit Card', 'Debit Card'...              4.7   \n",
       "...                                                  ...              ...   \n",
       "66370  ['Serves Alcohol', 'Breakfast', 'Dinner', 'Cas...              3.7   \n",
       "66371  ['Lunch', 'Cash', 'Breakfast', 'Dinner', 'Full...              3.6   \n",
       "66372  ['Credit Card', 'Lunch', 'Takeaway Available',...              3.2   \n",
       "66376  ['Dinner', 'Cash', 'Debit Card', 'Lunch', 'Tak...              0.0   \n",
       "66377  ['Breakfast', 'Dinner', 'Lunch', 'Serves Alcoh...              0.0   \n",
       "\n",
       "      rating_text  votes  photo_count opentable_support delivery  takeaway  \n",
       "63394   Very Good   4118         4783               0.0       -1        -1  \n",
       "63395   Very Good   3606         3555               0.0       -1        -1  \n",
       "63396   Excellent   1562         1826               0.0       -1        -1  \n",
       "63397   Excellent   2253          787               0.0       -1        -1  \n",
       "63398   Excellent   1412         1697               0.0       -1        -1  \n",
       "...           ...    ...          ...               ...      ...       ...  \n",
       "66370        Good     21           53               0.0       -1        -1  \n",
       "66371        Good     17           29               0.0       -1        -1  \n",
       "66372     Average     22           60               0.0       -1        -1  \n",
       "66376   Not rated      0           12               0.0       -1        -1  \n",
       "66377   Not rated      0            0               0.0       -1        -1  \n",
       "\n",
       "[1150 rows x 26 columns]"
      ]
     },
     "execution_count": 28,
     "metadata": {},
     "output_type": "execute_result"
    }
   ],
   "source": [
    "data[data['city'] ==  \"Goa\"]"
   ]
  },
  {
   "cell_type": "markdown",
   "metadata": {
    "id": "zP7qU3PorNG4"
   },
   "source": [
    "7. city_id - We can either use city id or cityname so one feature is enough\n",
    "\n",
    "8. locality - Locality and city sounds like same, but lets us see what is there in locality feature"
   ]
  },
  {
   "cell_type": "code",
   "execution_count": 29,
   "metadata": {
    "colab": {
     "base_uri": "https://localhost:8080/",
     "height": 241
    },
    "id": "EvXZxcVArGLh",
    "outputId": "72e81e58-83ba-4301-b994-dc138ce65cd3"
   },
   "outputs": [
    {
     "data": {
      "text/plain": [
       "0       Khandari\n",
       "1     Agra Cantt\n",
       "2       Shahganj\n",
       "3    Civil Lines\n",
       "4        Tajganj\n",
       "Name: locality, dtype: object"
      ]
     },
     "execution_count": 29,
     "metadata": {},
     "output_type": "execute_result"
    }
   ],
   "source": [
    "data['locality'].head()"
   ]
  },
  {
   "cell_type": "code",
   "execution_count": 30,
   "metadata": {
    "colab": {
     "base_uri": "https://localhost:8080/"
    },
    "id": "2Lkqdja8rjeD",
    "outputId": "d40b04d2-cf2b-47c3-b047-9de16e82bac5"
   },
   "outputs": [
    {
     "data": {
      "text/plain": [
       "array(['Khandari', 'Agra Cantt', 'Shahganj', ..., 'Navapura',\n",
       "       'L&T Knowledge City', 'Danteshwar'], dtype=object)"
      ]
     },
     "execution_count": 30,
     "metadata": {},
     "output_type": "execute_result"
    }
   ],
   "source": [
    "#checking out the unique values\n",
    "\n",
    "data['locality'].unique()"
   ]
  },
  {
   "cell_type": "code",
   "execution_count": 31,
   "metadata": {
    "colab": {
     "base_uri": "https://localhost:8080/"
    },
    "id": "CGen00kTrqkH",
    "outputId": "6e2252ea-d8c7-4e5d-d3c5-230eafd21721"
   },
   "outputs": [
    {
     "data": {
      "text/plain": [
       "3731"
      ]
     },
     "execution_count": 31,
     "metadata": {},
     "output_type": "execute_result"
    }
   ],
   "source": [
    "data['locality'].nunique()"
   ]
  },
  {
   "cell_type": "markdown",
   "metadata": {
    "id": "PF_upHy3rxkn"
   },
   "source": [
    "We are having so many unique values, we can avoid it besides it is an interesting feature for our analysis."
   ]
  },
  {
   "cell_type": "markdown",
   "metadata": {
    "id": "pTldJap5sAHR"
   },
   "source": [
    "9. latitude - useful for geographical analysis, we won't be doing that here.\n",
    "\n",
    "10. longitude - same as above\n",
    "\n",
    "11. zipcode - approx 75% of the missing values are present\n",
    "\n",
    "12. country_id - As this dataset that we have taken is only for the indian restaurants. There should be only one country code. Let us check"
   ]
  },
  {
   "cell_type": "code",
   "execution_count": 32,
   "metadata": {
    "colab": {
     "base_uri": "https://localhost:8080/"
    },
    "id": "ZJS2lH2pshLl",
    "outputId": "5e1e951f-833c-4737-ba6a-b2933eb83d7a"
   },
   "outputs": [
    {
     "data": {
      "text/plain": [
       "array([1], dtype=int64)"
      ]
     },
     "execution_count": 32,
     "metadata": {},
     "output_type": "execute_result"
    }
   ],
   "source": [
    "data['country_id'].unique()"
   ]
  },
  {
   "cell_type": "markdown",
   "metadata": {
    "id": "gU42PO9PsyPe"
   },
   "source": [
    "13. locality_verbose - let's check this feature"
   ]
  },
  {
   "cell_type": "code",
   "execution_count": 33,
   "metadata": {
    "colab": {
     "base_uri": "https://localhost:8080/",
     "height": 241
    },
    "id": "hbPOAECWsjSl",
    "outputId": "75364ba8-dd0e-4ab4-d717-a2d0be2eea44"
   },
   "outputs": [
    {
     "data": {
      "text/plain": [
       "0       Khandari, Agra\n",
       "1     Agra Cantt, Agra\n",
       "2       Shahganj, Agra\n",
       "3    Civil Lines, Agra\n",
       "4        Tajganj, Agra\n",
       "Name: locality_verbose, dtype: object"
      ]
     },
     "execution_count": 33,
     "metadata": {},
     "output_type": "execute_result"
    }
   ],
   "source": [
    "data['locality_verbose'].head()"
   ]
  },
  {
   "cell_type": "code",
   "execution_count": 34,
   "metadata": {
    "colab": {
     "base_uri": "https://localhost:8080/",
     "height": 241
    },
    "id": "Q5R3J0SPs7Dk",
    "outputId": "5d341608-2167-4098-a996-7592fdabf065"
   },
   "outputs": [
    {
     "data": {
      "text/plain": [
       "211882     Manjalpur, Vadodara\n",
       "211925      Alkapuri, Vadodara\n",
       "211926      Alkapuri, Vadodara\n",
       "211940    Karelibaug, Vadodara\n",
       "211942         Akota, Vadodara\n",
       "Name: locality_verbose, dtype: object"
      ]
     },
     "execution_count": 34,
     "metadata": {},
     "output_type": "execute_result"
    }
   ],
   "source": [
    "data['locality_verbose'].tail()"
   ]
  },
  {
   "cell_type": "markdown",
   "metadata": {
    "id": "llTBP0KXtDCq"
   },
   "source": [
    "### Here locality and locality verbose looks same"
   ]
  },
  {
   "cell_type": "code",
   "execution_count": 35,
   "metadata": {
    "colab": {
     "base_uri": "https://localhost:8080/"
    },
    "id": "zz1dbbQNtB6r",
    "outputId": "7094c5a8-dafb-45f4-ab85-695fbb5d6447"
   },
   "outputs": [
    {
     "data": {
      "text/plain": [
       "3910"
      ]
     },
     "execution_count": 35,
     "metadata": {},
     "output_type": "execute_result"
    }
   ],
   "source": [
    "data['locality_verbose'].nunique()"
   ]
  },
  {
   "cell_type": "code",
   "execution_count": 36,
   "metadata": {
    "colab": {
     "base_uri": "https://localhost:8080/",
     "height": 458
    },
    "id": "Z9lljaJhtNRg",
    "outputId": "39375345-6324-419b-e9ce-f4bcdd05007d"
   },
   "outputs": [
    {
     "data": {
      "text/plain": [
       "0         North Indian, South Indian, Mithai, Street Foo...\n",
       "1         North Indian, Mughlai, Rolls, Chinese, Fast Fo...\n",
       "2                                         Fast Food, Mithai\n",
       "3                 Desserts, Bakery, Fast Food, South Indian\n",
       "4                        North Indian, Continental, Italian\n",
       "                                ...                        \n",
       "211882                                            Ice Cream\n",
       "211925                      Gujarati, North Indian, Chinese\n",
       "211926                                Gujarati, Street Food\n",
       "211940                                            Fast Food\n",
       "211942                           Fast Food, Sandwich, Salad\n",
       "Name: cuisines, Length: 55568, dtype: object"
      ]
     },
     "execution_count": 36,
     "metadata": {},
     "output_type": "execute_result"
    }
   ],
   "source": [
    "data['cuisines']"
   ]
  },
  {
   "cell_type": "code",
   "execution_count": 37,
   "metadata": {
    "colab": {
     "base_uri": "https://localhost:8080/"
    },
    "id": "jOI_5aPVtotK",
    "outputId": "7dcc145f-ebbf-4de1-9cae-d97188b567ed"
   },
   "outputs": [
    {
     "data": {
      "text/plain": [
       "array(['North Indian, South Indian, Mithai, Street Food, Desserts',\n",
       "       'North Indian, Mughlai, Rolls, Chinese, Fast Food, Street Food',\n",
       "       'Fast Food, Mithai', ...,\n",
       "       'Street Food, Biryani, Chinese, Fast Food, North Indian, Mughlai',\n",
       "       'North Indian, Chinese, Mexican, Italian, Thai, Continental',\n",
       "       'North Indian, Lucknowi, Chinese'], dtype=object)"
      ]
     },
     "execution_count": 37,
     "metadata": {},
     "output_type": "execute_result"
    }
   ],
   "source": [
    "data['cuisines'].unique()"
   ]
  },
  {
   "cell_type": "code",
   "execution_count": 38,
   "metadata": {
    "colab": {
     "base_uri": "https://localhost:8080/"
    },
    "id": "R2l2hnMdttHM",
    "outputId": "79de47fe-4aa6-4435-bcc9-dd0b58a8dbeb"
   },
   "outputs": [
    {
     "data": {
      "text/plain": [
       "9382"
      ]
     },
     "execution_count": 38,
     "metadata": {},
     "output_type": "execute_result"
    }
   ],
   "source": [
    "data['cuisines'].nunique()"
   ]
  },
  {
   "cell_type": "markdown",
   "metadata": {
    "id": "OIlLChittkW0"
   },
   "source": [
    "14. cuisines - This feature is having some missing values. But we are having 9382 unique values. the reason for this is that each restaurant has a list of cuisines and the addition of all those is resulting in the huge number of unique values.\n",
    "\n",
    "a) fill the null values\n",
    "\n",
    "b) check number of unique cuisines"
   ]
  },
  {
   "cell_type": "code",
   "execution_count": 39,
   "metadata": {
    "id": "Vuj5kkBgtv4q"
   },
   "outputs": [],
   "source": [
    "data['cuisines'] = data['cuisines'].fillna(\"No cuisine\")"
   ]
  },
  {
   "cell_type": "code",
   "execution_count": 40,
   "metadata": {
    "colab": {
     "base_uri": "https://localhost:8080/"
    },
    "id": "avQcj4-tu4pJ",
    "outputId": "18d9868e-e2f4-4d93-a2e8-856037cbfd35"
   },
   "outputs": [
    {
     "data": {
      "text/plain": [
       "0"
      ]
     },
     "execution_count": 40,
     "metadata": {},
     "output_type": "execute_result"
    }
   ],
   "source": [
    "data['cuisines'].isnull().sum()"
   ]
  },
  {
   "cell_type": "code",
   "execution_count": 41,
   "metadata": {
    "colab": {
     "base_uri": "https://localhost:8080/"
    },
    "id": "uupvsB-3u-Ga",
    "outputId": "0a81b054-f63e-4e06-db0b-4764709e3d2f"
   },
   "outputs": [
    {
     "name": "stdout",
     "output_type": "stream",
     "text": [
      "Total unique cuisines =   249\n"
     ]
    }
   ],
   "source": [
    "cuisines = []\n",
    "data['cuisines'].apply(lambda x:cuisines.extend(x.split(\",\")))\n",
    "cuisines = pd.Series(cuisines)\n",
    "print(\"Total unique cuisines =  \", cuisines.nunique())"
   ]
  },
  {
   "cell_type": "code",
   "execution_count": 42,
   "metadata": {
    "colab": {
     "base_uri": "https://localhost:8080/",
     "height": 458
    },
    "id": "CwE74l3wvWnu",
    "outputId": "e9ca6751-44c6-46a9-ff7b-c6657e2eb5df"
   },
   "outputs": [
    {
     "data": {
      "text/plain": [
       "0         North Indian, South Indian, Mithai, Street Foo...\n",
       "1         North Indian, Mughlai, Rolls, Chinese, Fast Fo...\n",
       "2                                         Fast Food, Mithai\n",
       "3                 Desserts, Bakery, Fast Food, South Indian\n",
       "4                        North Indian, Continental, Italian\n",
       "                                ...                        \n",
       "211882                                            Ice Cream\n",
       "211925                      Gujarati, North Indian, Chinese\n",
       "211926                                Gujarati, Street Food\n",
       "211940                                            Fast Food\n",
       "211942                           Fast Food, Sandwich, Salad\n",
       "Name: cuisines, Length: 55568, dtype: object"
      ]
     },
     "execution_count": 42,
     "metadata": {},
     "output_type": "execute_result"
    }
   ],
   "source": [
    "data['cuisines']"
   ]
  },
  {
   "cell_type": "code",
   "execution_count": 43,
   "metadata": {
    "colab": {
     "base_uri": "https://localhost:8080/",
     "height": 458
    },
    "id": "I06oCV4PvYrS",
    "outputId": "2b8403f5-6e82-49d7-b759-bd2bbea76fe3"
   },
   "outputs": [
    {
     "data": {
      "text/plain": [
       "0                                8:30am – 10:30pm (Mon-Sun)\n",
       "1         12:30PM to 12Midnight (Mon, Wed, Thu, Fri, Sat...\n",
       "2                                          9:30 AM to 11 PM\n",
       "3                                      8am – 11pm (Mon-Sun)\n",
       "4                                      11:30 AM to 11:30 PM\n",
       "                                ...                        \n",
       "211882                                 11 AM to 12 Midnight\n",
       "211925                11:30 AM to 3:30 PM, 7:30 PM to 11 PM\n",
       "211926                   11 AM to 3:30 PM, 7 PM to 10:30 PM\n",
       "211940    4pm – 11pm (Mon, Tue, Wed, Fri, Sat, Sun), 4pm...\n",
       "211942                                         8 AM to 1 AM\n",
       "Name: timings, Length: 55568, dtype: object"
      ]
     },
     "execution_count": 43,
     "metadata": {},
     "output_type": "execute_result"
    }
   ],
   "source": [
    "data['timings']"
   ]
  },
  {
   "cell_type": "code",
   "execution_count": 44,
   "metadata": {
    "colab": {
     "base_uri": "https://localhost:8080/"
    },
    "id": "7N8zi215wYAK",
    "outputId": "b1ba3f4f-479b-4162-cfd5-22425bb2dc0e"
   },
   "outputs": [
    {
     "data": {
      "text/plain": [
       "array(['8:30am – 10:30pm (Mon-Sun)',\n",
       "       '12:30PM to 12Midnight (Mon, Wed, Thu, Fri, Sat, Sun), 1PM to 12Midnight (Tue)',\n",
       "       '9:30 AM to 11 PM', ..., '8am – 2:30pm, 5pm – 10pm (Mon-Sun)',\n",
       "       '8am – 3pm, 6:30pm – 11pm (Mon-Sun)',\n",
       "       '4pm – 11pm (Mon, Tue, Wed, Fri, Sat, Sun), 4pm – 11:30pm (Thu)'],\n",
       "      dtype=object)"
      ]
     },
     "execution_count": 44,
     "metadata": {},
     "output_type": "execute_result"
    }
   ],
   "source": [
    "data['timings'].unique()"
   ]
  },
  {
   "cell_type": "code",
   "execution_count": 45,
   "metadata": {
    "colab": {
     "base_uri": "https://localhost:8080/"
    },
    "id": "nMzURGo8wdZt",
    "outputId": "eaa748ee-ad28-4a23-b3a3-33336402afe2"
   },
   "outputs": [
    {
     "data": {
      "text/plain": [
       "7740"
      ]
     },
     "execution_count": 45,
     "metadata": {},
     "output_type": "execute_result"
    }
   ],
   "source": [
    "data['timings'].nunique()"
   ]
  },
  {
   "cell_type": "markdown",
   "metadata": {
    "id": "BD06ye3iwH7V"
   },
   "source": [
    "15. Timings - This feature is also having the missing values, but we are having large number of unique classes. and it is not even structured properly. better we avoid this feature\n",
    "\n",
    "16. average_cost_of_two - this is an excellent feature, we are having value \"0\", this should be an outlier."
   ]
  },
  {
   "cell_type": "code",
   "execution_count": 46,
   "metadata": {
    "colab": {
     "base_uri": "https://localhost:8080/"
    },
    "id": "uCP2MMfnwiGw",
    "outputId": "e6f6c140-99a7-469a-9117-101bcd4e5f04"
   },
   "outputs": [
    {
     "data": {
      "text/plain": [
       "145"
      ]
     },
     "execution_count": 46,
     "metadata": {},
     "output_type": "execute_result"
    }
   ],
   "source": [
    "data['average_cost_for_two'].nunique()"
   ]
  },
  {
   "cell_type": "markdown",
   "metadata": {
    "id": "8KQvjaSNx8gx"
   },
   "source": [
    "17. price_range - let us know more about this."
   ]
  },
  {
   "cell_type": "code",
   "execution_count": 47,
   "metadata": {
    "colab": {
     "base_uri": "https://localhost:8080/",
     "height": 458
    },
    "id": "J9FqDfM_x6hj",
    "outputId": "5a2cb1e2-5ff7-4574-8482-e9af97ce95b6"
   },
   "outputs": [
    {
     "data": {
      "text/plain": [
       "0         2\n",
       "1         2\n",
       "2         1\n",
       "3         1\n",
       "4         3\n",
       "         ..\n",
       "211882    1\n",
       "211925    2\n",
       "211926    1\n",
       "211940    1\n",
       "211942    2\n",
       "Name: price_range, Length: 55568, dtype: int64"
      ]
     },
     "execution_count": 47,
     "metadata": {},
     "output_type": "execute_result"
    }
   ],
   "source": [
    "data['price_range']"
   ]
  },
  {
   "cell_type": "code",
   "execution_count": 48,
   "metadata": {
    "colab": {
     "base_uri": "https://localhost:8080/"
    },
    "id": "0Btk3u_RyD2Z",
    "outputId": "1d74e18e-b68f-4570-f8b6-be6551fbd01e"
   },
   "outputs": [
    {
     "data": {
      "text/plain": [
       "array([2, 1, 3, 4], dtype=int64)"
      ]
     },
     "execution_count": 48,
     "metadata": {},
     "output_type": "execute_result"
    }
   ],
   "source": [
    "data['price_range'].unique()"
   ]
  },
  {
   "cell_type": "code",
   "execution_count": 49,
   "metadata": {
    "colab": {
     "base_uri": "https://localhost:8080/"
    },
    "id": "JzLihR8PyMOm",
    "outputId": "edbed6eb-5bdd-4133-e491-b60f5c3115d6"
   },
   "outputs": [
    {
     "data": {
      "text/plain": [
       "4"
      ]
     },
     "execution_count": 49,
     "metadata": {},
     "output_type": "execute_result"
    }
   ],
   "source": [
    "data['price_range'].nunique()"
   ]
  },
  {
   "cell_type": "markdown",
   "metadata": {
    "id": "bl3NVuLcyU1B"
   },
   "source": [
    "18. currency - As we are dealing with the indian restuarant, currency should be only one unique value"
   ]
  },
  {
   "cell_type": "code",
   "execution_count": 50,
   "metadata": {
    "colab": {
     "base_uri": "https://localhost:8080/",
     "height": 458
    },
    "id": "_1C3PMw8yQ_f",
    "outputId": "35b352dd-63db-491c-c09c-d29a5b05b5c7"
   },
   "outputs": [
    {
     "data": {
      "text/plain": [
       "0         Rs.\n",
       "1         Rs.\n",
       "2         Rs.\n",
       "3         Rs.\n",
       "4         Rs.\n",
       "         ... \n",
       "211882    Rs.\n",
       "211925    Rs.\n",
       "211926    Rs.\n",
       "211940    Rs.\n",
       "211942    Rs.\n",
       "Name: currency, Length: 55568, dtype: object"
      ]
     },
     "execution_count": 50,
     "metadata": {},
     "output_type": "execute_result"
    }
   ],
   "source": [
    "data['currency']"
   ]
  },
  {
   "cell_type": "code",
   "execution_count": 51,
   "metadata": {
    "colab": {
     "base_uri": "https://localhost:8080/"
    },
    "id": "e9uuheC2ygDO",
    "outputId": "c0ccf5d6-3553-4d1f-accd-dac6fd11bd6e"
   },
   "outputs": [
    {
     "data": {
      "text/plain": [
       "array(['Rs.'], dtype=object)"
      ]
     },
     "execution_count": 51,
     "metadata": {},
     "output_type": "execute_result"
    }
   ],
   "source": [
    "data['currency'].unique()"
   ]
  },
  {
   "cell_type": "code",
   "execution_count": 52,
   "metadata": {
    "colab": {
     "base_uri": "https://localhost:8080/"
    },
    "id": "MQfAXUO9yoM-",
    "outputId": "e64cff5b-65fa-408f-dce4-504ea6c62e15"
   },
   "outputs": [
    {
     "data": {
      "text/plain": [
       "1"
      ]
     },
     "execution_count": 52,
     "metadata": {},
     "output_type": "execute_result"
    }
   ],
   "source": [
    "len(data['currency'].unique())"
   ]
  },
  {
   "cell_type": "code",
   "execution_count": 53,
   "metadata": {
    "colab": {
     "base_uri": "https://localhost:8080/",
     "height": 458
    },
    "id": "-OcBD0xdyu9l",
    "outputId": "6dc313f4-119a-41f7-fa52-bb0fb18a3e52"
   },
   "outputs": [
    {
     "data": {
      "text/plain": [
       "0         ['Lunch', 'Takeaway Available', 'Credit Card',...\n",
       "1         ['Delivery', 'No Alcohol Available', 'Dinner',...\n",
       "2         ['No Alcohol Available', 'Dinner', 'Takeaway A...\n",
       "3         ['Takeaway Available', 'Credit Card', 'Lunch',...\n",
       "4         ['Lunch', 'Serves Alcohol', 'Cash', 'Credit Ca...\n",
       "                                ...                        \n",
       "211882    ['Cash', 'Takeaway Available', 'Delivery', 'In...\n",
       "211925    ['Dinner', 'Cash', 'Debit Card', 'Lunch', 'Tak...\n",
       "211926    ['Dinner', 'Cash', 'Credit Card', 'Lunch', 'Ta...\n",
       "211940    ['Dinner', 'Cash', 'Takeaway Available', 'Debi...\n",
       "211942    ['Dinner', 'Delivery', 'Credit Card', 'Lunch',...\n",
       "Name: highlights, Length: 55568, dtype: object"
      ]
     },
     "execution_count": 53,
     "metadata": {},
     "output_type": "execute_result"
    }
   ],
   "source": [
    "data['highlights']"
   ]
  },
  {
   "cell_type": "markdown",
   "metadata": {
    "id": "nx2exe-Ly3qk"
   },
   "source": [
    "19. Highlights - This feature represents the specialities of the restaurants and want to make their attention more in the market. Same like cuisines feature here also we need to follow the same steps and decompose the singe feature values, to find the unique values of this feature\n"
   ]
  },
  {
   "cell_type": "code",
   "execution_count": 54,
   "metadata": {
    "colab": {
     "base_uri": "https://localhost:8080/"
    },
    "id": "iZ6_kdmOy0Z-",
    "outputId": "2350b5d2-e5e1-483d-fdd6-ae4a56cd9b6e"
   },
   "outputs": [
    {
     "data": {
      "text/plain": [
       "array([\"['Lunch', 'Takeaway Available', 'Credit Card', 'Dinner', 'Cash', 'Air Conditioned', 'Indoor Seating', 'Pure Veg']\",\n",
       "       \"['Delivery', 'No Alcohol Available', 'Dinner', 'Takeaway Available', 'Lunch', 'Cash', 'Indoor Seating']\",\n",
       "       \"['No Alcohol Available', 'Dinner', 'Takeaway Available', 'Breakfast', 'Lunch', 'Cash', 'Delivery', 'Outdoor Seating', 'Air Conditioned', 'Self Service', 'Indoor Seating', 'Digital Payments Accepted', 'Pure Veg', 'Desserts and Bakes']\",\n",
       "       ...,\n",
       "       \"['Dinner', 'Delivery', 'Cash', 'Takeaway Available', 'Free Parking', 'Digital Payments Accepted', 'Pure Veg', 'Indoor Seating']\",\n",
       "       \"['Dinner', 'Cash', 'Takeaway Available', 'Lunch', 'Delivery', 'Free Parking', 'Indoor Seating', 'Air Conditioned', 'Outdoor Seating', 'Digital Payments Accepted', 'Catering Available', 'Pure Veg']\",\n",
       "       \"['Dinner', 'Cash', 'Takeaway Available', 'Debit Card', 'Delivery', 'Credit Card', 'Free Parking', 'Outdoor Seating']\"],\n",
       "      dtype=object)"
      ]
     },
     "execution_count": 54,
     "metadata": {},
     "output_type": "execute_result"
    }
   ],
   "source": [
    "data['highlights'].unique()"
   ]
  },
  {
   "cell_type": "code",
   "execution_count": 55,
   "metadata": {
    "colab": {
     "base_uri": "https://localhost:8080/"
    },
    "id": "mcjT4vctdkIC",
    "outputId": "44ea5a6a-7e18-4d8c-f2ec-a173a1d2ca4c"
   },
   "outputs": [
    {
     "data": {
      "text/plain": [
       "31228"
      ]
     },
     "execution_count": 55,
     "metadata": {},
     "output_type": "execute_result"
    }
   ],
   "source": [
    "data['highlights'].nunique()"
   ]
  },
  {
   "cell_type": "code",
   "execution_count": 56,
   "metadata": {
    "colab": {
     "base_uri": "https://localhost:8080/"
    },
    "id": "QLaT1ZUxdmtF",
    "outputId": "f1fb8f8b-ae00-4a44-e436-775dd633c081"
   },
   "outputs": [
    {
     "name": "stdout",
     "output_type": "stream",
     "text": [
      "Total unique highlights =   244\n"
     ]
    }
   ],
   "source": [
    "h1=[ ]\n",
    "data['highlights'].apply(lambda x:h1.extend(x.split(\",\")))\n",
    "h1=pd.Series(h1)\n",
    "print(\"Total unique highlights =  \", h1.nunique())"
   ]
  },
  {
   "cell_type": "markdown",
   "metadata": {
    "id": "PIOrI4Lcd7Ex"
   },
   "source": [
    "20. aggregate_rating - Rating that restaurant has\n",
    "\n",
    "21. rating_text = This can be taken in the form of bins using labels, we can use direct aggregate_rating in our analysis. So we can ignore this feature\n",
    "\n",
    "22. votes - Number of votes contribute the rating\n",
    "\n",
    "23. Photo_count - Number of photos uploaded at the time of reviews.\n",
    "\n",
    "\n",
    "All the above features (20,22,23) have int values, so we can perform some analysis for these features"
   ]
  },
  {
   "cell_type": "code",
   "execution_count": 57,
   "metadata": {
    "colab": {
     "base_uri": "https://localhost:8080/",
     "height": 300
    },
    "id": "8LRc2oxsd5TT",
    "outputId": "f492d6ca-73a8-4bcc-97c2-6bb07f15b37e"
   },
   "outputs": [
    {
     "data": {
      "text/html": [
       "<div>\n",
       "<style scoped>\n",
       "    .dataframe tbody tr th:only-of-type {\n",
       "        vertical-align: middle;\n",
       "    }\n",
       "\n",
       "    .dataframe tbody tr th {\n",
       "        vertical-align: top;\n",
       "    }\n",
       "\n",
       "    .dataframe thead th {\n",
       "        text-align: right;\n",
       "    }\n",
       "</style>\n",
       "<table border=\"1\" class=\"dataframe\">\n",
       "  <thead>\n",
       "    <tr style=\"text-align: right;\">\n",
       "      <th></th>\n",
       "      <th>aggregate_rating</th>\n",
       "      <th>votes</th>\n",
       "      <th>photo_count</th>\n",
       "    </tr>\n",
       "  </thead>\n",
       "  <tbody>\n",
       "    <tr>\n",
       "      <th>count</th>\n",
       "      <td>55568.000000</td>\n",
       "      <td>55568.000000</td>\n",
       "      <td>55568.000000</td>\n",
       "    </tr>\n",
       "    <tr>\n",
       "      <th>mean</th>\n",
       "      <td>2.958593</td>\n",
       "      <td>223.330352</td>\n",
       "      <td>160.974770</td>\n",
       "    </tr>\n",
       "    <tr>\n",
       "      <th>std</th>\n",
       "      <td>1.464576</td>\n",
       "      <td>618.224019</td>\n",
       "      <td>586.975382</td>\n",
       "    </tr>\n",
       "    <tr>\n",
       "      <th>min</th>\n",
       "      <td>0.000000</td>\n",
       "      <td>-18.000000</td>\n",
       "      <td>0.000000</td>\n",
       "    </tr>\n",
       "    <tr>\n",
       "      <th>25%</th>\n",
       "      <td>2.900000</td>\n",
       "      <td>6.000000</td>\n",
       "      <td>1.000000</td>\n",
       "    </tr>\n",
       "    <tr>\n",
       "      <th>50%</th>\n",
       "      <td>3.500000</td>\n",
       "      <td>35.000000</td>\n",
       "      <td>10.000000</td>\n",
       "    </tr>\n",
       "    <tr>\n",
       "      <th>75%</th>\n",
       "      <td>3.900000</td>\n",
       "      <td>175.000000</td>\n",
       "      <td>69.000000</td>\n",
       "    </tr>\n",
       "    <tr>\n",
       "      <th>max</th>\n",
       "      <td>4.900000</td>\n",
       "      <td>42539.000000</td>\n",
       "      <td>17702.000000</td>\n",
       "    </tr>\n",
       "  </tbody>\n",
       "</table>\n",
       "</div>"
      ],
      "text/plain": [
       "       aggregate_rating         votes   photo_count\n",
       "count      55568.000000  55568.000000  55568.000000\n",
       "mean           2.958593    223.330352    160.974770\n",
       "std            1.464576    618.224019    586.975382\n",
       "min            0.000000    -18.000000      0.000000\n",
       "25%            2.900000      6.000000      1.000000\n",
       "50%            3.500000     35.000000     10.000000\n",
       "75%            3.900000    175.000000     69.000000\n",
       "max            4.900000  42539.000000  17702.000000"
      ]
     },
     "execution_count": 57,
     "metadata": {},
     "output_type": "execute_result"
    }
   ],
   "source": [
    "data[['aggregate_rating', 'votes', 'photo_count']].describe()"
   ]
  },
  {
   "cell_type": "code",
   "execution_count": 58,
   "metadata": {
    "colab": {
     "base_uri": "https://localhost:8080/",
     "height": 143
    },
    "id": "e0FUkLbhd0Z1",
    "outputId": "7640f4b5-c258-488e-998e-3a733d571cce"
   },
   "outputs": [
    {
     "data": {
      "text/html": [
       "<div>\n",
       "<style scoped>\n",
       "    .dataframe tbody tr th:only-of-type {\n",
       "        vertical-align: middle;\n",
       "    }\n",
       "\n",
       "    .dataframe tbody tr th {\n",
       "        vertical-align: top;\n",
       "    }\n",
       "\n",
       "    .dataframe thead th {\n",
       "        text-align: right;\n",
       "    }\n",
       "</style>\n",
       "<table border=\"1\" class=\"dataframe\">\n",
       "  <thead>\n",
       "    <tr style=\"text-align: right;\">\n",
       "      <th></th>\n",
       "      <th>aggregate_rating</th>\n",
       "      <th>votes</th>\n",
       "      <th>photo_count</th>\n",
       "    </tr>\n",
       "  </thead>\n",
       "  <tbody>\n",
       "    <tr>\n",
       "      <th>mean</th>\n",
       "      <td>2.958593</td>\n",
       "      <td>223.330352</td>\n",
       "      <td>160.97477</td>\n",
       "    </tr>\n",
       "    <tr>\n",
       "      <th>max</th>\n",
       "      <td>4.900000</td>\n",
       "      <td>42539.000000</td>\n",
       "      <td>17702.00000</td>\n",
       "    </tr>\n",
       "    <tr>\n",
       "      <th>min</th>\n",
       "      <td>0.000000</td>\n",
       "      <td>-18.000000</td>\n",
       "      <td>0.00000</td>\n",
       "    </tr>\n",
       "  </tbody>\n",
       "</table>\n",
       "</div>"
      ],
      "text/plain": [
       "      aggregate_rating         votes  photo_count\n",
       "mean          2.958593    223.330352    160.97477\n",
       "max           4.900000  42539.000000  17702.00000\n",
       "min           0.000000    -18.000000      0.00000"
      ]
     },
     "execution_count": 58,
     "metadata": {},
     "output_type": "execute_result"
    }
   ],
   "source": [
    "data[['aggregate_rating', 'votes', 'photo_count']].describe().loc[['mean','max','min']]"
   ]
  },
  {
   "cell_type": "markdown",
   "metadata": {
    "id": "08B-blt4fVff"
   },
   "source": [
    "## From the above analysis we can say that:\n",
    "\n",
    "Zomato ratings are between 0 to 5\n",
    "\n",
    "Maximum number of votes for a restaurant in Zomato - 42539votes, while we are getting -18 minimum votes this might be an outlier.\n",
    "\n",
    "And there is one particular restaurant which is having maximum votes and maximum photos at the time of review ."
   ]
  },
  {
   "cell_type": "code",
   "execution_count": 59,
   "metadata": {
    "colab": {
     "base_uri": "https://localhost:8080/",
     "height": 458
    },
    "id": "W14fzf_VgXCh",
    "outputId": "10aa5a83-84fa-4288-ee0c-056153d91977"
   },
   "outputs": [
    {
     "data": {
      "text/plain": [
       "0         0.0\n",
       "1         0.0\n",
       "2         0.0\n",
       "3         0.0\n",
       "4         0.0\n",
       "         ... \n",
       "211882    0.0\n",
       "211925    0.0\n",
       "211926    0.0\n",
       "211940    0.0\n",
       "211942    0.0\n",
       "Name: opentable_support, Length: 55568, dtype: float64"
      ]
     },
     "execution_count": 59,
     "metadata": {},
     "output_type": "execute_result"
    }
   ],
   "source": [
    "data['opentable_support']"
   ]
  },
  {
   "cell_type": "code",
   "execution_count": 60,
   "metadata": {
    "colab": {
     "base_uri": "https://localhost:8080/",
     "height": 458
    },
    "id": "SU35PAshgv4h",
    "outputId": "a33155ae-0e96-4965-edb8-318fdd2e081e"
   },
   "outputs": [
    {
     "data": {
      "text/plain": [
       "0        -1\n",
       "1        -1\n",
       "2         1\n",
       "3         1\n",
       "4         1\n",
       "         ..\n",
       "211882    1\n",
       "211925   -1\n",
       "211926   -1\n",
       "211940    1\n",
       "211942    1\n",
       "Name: delivery, Length: 55568, dtype: int64"
      ]
     },
     "execution_count": 60,
     "metadata": {},
     "output_type": "execute_result"
    }
   ],
   "source": [
    "data['delivery']"
   ]
  },
  {
   "cell_type": "code",
   "execution_count": 61,
   "metadata": {
    "colab": {
     "base_uri": "https://localhost:8080/"
    },
    "id": "na4jwXllg0JQ",
    "outputId": "d26f2a19-0657-4b91-8243-8924ca826bee"
   },
   "outputs": [
    {
     "data": {
      "text/plain": [
       "array([-1,  1,  0], dtype=int64)"
      ]
     },
     "execution_count": 61,
     "metadata": {},
     "output_type": "execute_result"
    }
   ],
   "source": [
    "data['delivery'].unique()"
   ]
  },
  {
   "cell_type": "code",
   "execution_count": 62,
   "metadata": {
    "colab": {
     "base_uri": "https://localhost:8080/",
     "height": 458
    },
    "id": "xhlj0uHLhIHF",
    "outputId": "8453e5a6-da08-4ac2-b958-e882f1b661af"
   },
   "outputs": [
    {
     "data": {
      "text/plain": [
       "0        -1\n",
       "1        -1\n",
       "2        -1\n",
       "3        -1\n",
       "4        -1\n",
       "         ..\n",
       "211882   -1\n",
       "211925   -1\n",
       "211926   -1\n",
       "211940   -1\n",
       "211942   -1\n",
       "Name: takeaway, Length: 55568, dtype: int64"
      ]
     },
     "execution_count": 62,
     "metadata": {},
     "output_type": "execute_result"
    }
   ],
   "source": [
    "data['takeaway']"
   ]
  },
  {
   "cell_type": "code",
   "execution_count": 63,
   "metadata": {
    "colab": {
     "base_uri": "https://localhost:8080/"
    },
    "id": "BtIsR94ThJ_s",
    "outputId": "6027b907-522d-4510-9558-ce8a404f88b1"
   },
   "outputs": [
    {
     "data": {
      "text/plain": [
       "array([-1], dtype=int64)"
      ]
     },
     "execution_count": 63,
     "metadata": {},
     "output_type": "execute_result"
    }
   ],
   "source": [
    "data['takeaway'].unique()"
   ]
  },
  {
   "cell_type": "markdown",
   "metadata": {
    "id": "DV2eYoR0ggOd"
   },
   "source": [
    "24. opentable_support - we are not having any true value for this, better we ignore this.\n",
    "\n",
    "25. Delivery - This feature is having three classes, but there is no proper explanation for this classes, ignore this feature for now.\n",
    "\n",
    "26. takeaway - not useful as it is having only one class."
   ]
  },
  {
   "cell_type": "code",
   "execution_count": 64,
   "metadata": {
    "colab": {
     "base_uri": "https://localhost:8080/"
    },
    "id": "DpoqTbI9gcZ6",
    "outputId": "8a8eeb6f-8e76-4e72-c31d-45363a45b832"
   },
   "outputs": [
    {
     "data": {
      "text/plain": [
       "(55568, 26)"
      ]
     },
     "execution_count": 64,
     "metadata": {},
     "output_type": "execute_result"
    }
   ],
   "source": [
    "data.shape"
   ]
  },
  {
   "cell_type": "code",
   "execution_count": 65,
   "metadata": {
    "colab": {
     "base_uri": "https://localhost:8080/",
     "height": 458
    },
    "id": "ZyE4168boc4H",
    "outputId": "3fd9a292-c861-4055-d20a-ab2ee2829cdf"
   },
   "outputs": [
    {
     "data": {
      "text/plain": [
       "0             Quick Bites\n",
       "1             Quick Bites\n",
       "2             Quick Bites\n",
       "3             Quick Bites\n",
       "4           Casual Dining\n",
       "               ...       \n",
       "211882    Dessert Parlour\n",
       "211925      Casual Dining\n",
       "211926      Casual Dining\n",
       "211940        Quick Bites\n",
       "211942        Quick Bites\n",
       "Name: establishment, Length: 55568, dtype: object"
      ]
     },
     "execution_count": 65,
     "metadata": {},
     "output_type": "execute_result"
    }
   ],
   "source": [
    "data['establishment']"
   ]
  },
  {
   "cell_type": "code",
   "execution_count": 66,
   "metadata": {
    "colab": {
     "base_uri": "https://localhost:8080/"
    },
    "id": "c8Zp3qr2of6_",
    "outputId": "820b1d2e-c9e3-4a4c-a4bc-e0d7a5189c92"
   },
   "outputs": [
    {
     "data": {
      "text/plain": [
       "array(['Quick Bites', 'Casual Dining', 'Bakery', 'Café', 'Dhaba',\n",
       "       'Bhojanalya', 'Bar', 'Sweet Shop', 'Fine Dining', 'Food Truck',\n",
       "       'Dessert Parlour', 'Lounge', 'Pub', 'Beverage Shop', 'Kiosk',\n",
       "       'Paan Shop', 'Confectionery', 'NA', 'Shack', 'Club', 'Food Court',\n",
       "       'Mess', 'Butcher Shop', 'Microbrewery', 'Cocktail Bar', 'Pop up',\n",
       "       'Irani Cafe'], dtype=object)"
      ]
     },
     "execution_count": 66,
     "metadata": {},
     "output_type": "execute_result"
    }
   ],
   "source": [
    "data['establishment'].unique()"
   ]
  },
  {
   "cell_type": "markdown",
   "metadata": {
    "id": "FunuAMUDF7LV"
   },
   "source": [
    "#Exploratory Data Analysis\n",
    "\n",
    "Restaurant chains - represents restaurants having more than 1 outlet.\n",
    "\n",
    "### Chains V/S Outlets"
   ]
  },
  {
   "cell_type": "code",
   "execution_count": 67,
   "metadata": {
    "colab": {
     "base_uri": "https://localhost:8080/",
     "height": 458
    },
    "id": "IHTV3rUoojPw",
    "outputId": "64a9984a-ad45-45a5-ac3f-c7c130704543"
   },
   "outputs": [
    {
     "data": {
      "text/plain": [
       "0                            Bikanervala\n",
       "1         Mama Chicken Mama Franky House\n",
       "2                          Bhagat Halwai\n",
       "3                          Bhagat Halwai\n",
       "4            The Salt Cafe Kitchen & Bar\n",
       "                       ...              \n",
       "211882             Shree Janta Ice Cream\n",
       "211925                  The Grand Thakar\n",
       "211926                       Geeta lodge\n",
       "211940                        Raju Omlet\n",
       "211942                            Subway\n",
       "Name: name, Length: 55568, dtype: object"
      ]
     },
     "execution_count": 67,
     "metadata": {},
     "output_type": "execute_result"
    }
   ],
   "source": [
    "data['name']"
   ]
  },
  {
   "cell_type": "code",
   "execution_count": 68,
   "metadata": {
    "colab": {
     "base_uri": "https://localhost:8080/"
    },
    "id": "zqVK0qjbFveM",
    "outputId": "2f55f78c-1a5b-4c85-caa0-515890f5b97c"
   },
   "outputs": [
    {
     "data": {
      "text/plain": [
       "array(['Bikanervala', 'Mama Chicken Mama Franky House', 'Bhagat Halwai',\n",
       "       ..., 'Red China', 'Wah Ustad', 'Geeta lodge'], dtype=object)"
      ]
     },
     "execution_count": 68,
     "metadata": {},
     "output_type": "execute_result"
    }
   ],
   "source": [
    "data['name'].unique()"
   ]
  },
  {
   "cell_type": "code",
   "execution_count": 69,
   "metadata": {
    "colab": {
     "base_uri": "https://localhost:8080/"
    },
    "id": "eLSYapY8Fzjm",
    "outputId": "c6c197f0-96c0-4083-b62b-20cef62a763b"
   },
   "outputs": [
    {
     "data": {
      "text/plain": [
       "41100"
      ]
     },
     "execution_count": 69,
     "metadata": {},
     "output_type": "execute_result"
    }
   ],
   "source": [
    "data['name'].nunique()"
   ]
  },
  {
   "cell_type": "code",
   "execution_count": 70,
   "metadata": {
    "id": "3DDItwmwF3pz"
   },
   "outputs": [],
   "source": [
    "outlets = data['name'].value_counts()"
   ]
  },
  {
   "cell_type": "code",
   "execution_count": 71,
   "metadata": {
    "colab": {
     "base_uri": "https://localhost:8080/",
     "height": 490
    },
    "id": "8UankccZGV3W",
    "outputId": "c401a90d-86e4-4e1e-ad8e-a69cd204f847"
   },
   "outputs": [
    {
     "data": {
      "text/plain": [
       "name\n",
       "Domino's Pizza                           399\n",
       "Cafe Coffee Day                          315\n",
       "KFC                                      204\n",
       "Baskin Robbins                           202\n",
       "Keventers                                189\n",
       "                                        ... \n",
       "Boulevard 69                               1\n",
       "7-Eleven Restaurant                        1\n",
       "Food station                               1\n",
       "Silver Saloon - Taj Usha Kiran Palace      1\n",
       "Geeta lodge                                1\n",
       "Name: count, Length: 41100, dtype: int64"
      ]
     },
     "execution_count": 71,
     "metadata": {},
     "output_type": "execute_result"
    }
   ],
   "source": [
    "outlets"
   ]
  },
  {
   "cell_type": "code",
   "execution_count": 72,
   "metadata": {
    "id": "_139fqrQGXI3"
   },
   "outputs": [],
   "source": [
    "chains = outlets[outlets >= 2]\n",
    "single  = outlets[outlets == 1]"
   ]
  },
  {
   "cell_type": "code",
   "execution_count": 73,
   "metadata": {
    "colab": {
     "base_uri": "https://localhost:8080/",
     "height": 490
    },
    "id": "v5aodYD3GtUO",
    "outputId": "ace013ab-d30e-4779-d845-9309e657ac66"
   },
   "outputs": [
    {
     "data": {
      "text/plain": [
       "name\n",
       "Domino's Pizza              399\n",
       "Cafe Coffee Day             315\n",
       "KFC                         204\n",
       "Baskin Robbins              202\n",
       "Keventers                   189\n",
       "                           ... \n",
       "Santoor Restaurant            2\n",
       "The Ice House                 2\n",
       "Zaatar Arabic Restaurant      2\n",
       "Ashok & Ashok Meat Dhaba      2\n",
       "Hotel Tara                    2\n",
       "Name: count, Length: 4890, dtype: int64"
      ]
     },
     "execution_count": 73,
     "metadata": {},
     "output_type": "execute_result"
    }
   ],
   "source": [
    "chains"
   ]
  },
  {
   "cell_type": "code",
   "execution_count": 74,
   "metadata": {
    "colab": {
     "base_uri": "https://localhost:8080/"
    },
    "id": "gIz4LZLmGu48",
    "outputId": "05111341-107d-407d-ea54-7dfd412909d9"
   },
   "outputs": [
    {
     "data": {
      "text/plain": [
       "(55568, 26)"
      ]
     },
     "execution_count": 74,
     "metadata": {},
     "output_type": "execute_result"
    }
   ],
   "source": [
    "data.shape"
   ]
  },
  {
   "cell_type": "code",
   "execution_count": 75,
   "metadata": {
    "colab": {
     "base_uri": "https://localhost:8080/"
    },
    "id": "F_Q_otXWHBV-",
    "outputId": "d7975676-cff3-4ed5-853c-2b63e0f41b1c"
   },
   "outputs": [
    {
     "data": {
      "text/plain": [
       "(4890,)"
      ]
     },
     "execution_count": 75,
     "metadata": {},
     "output_type": "execute_result"
    }
   ],
   "source": [
    "chains.shape"
   ]
  },
  {
   "cell_type": "code",
   "execution_count": 76,
   "metadata": {
    "colab": {
     "base_uri": "https://localhost:8080/"
    },
    "id": "2CExMO6qHBhW",
    "outputId": "5626a8de-cdcf-42dd-94dd-34f15a0c9e70"
   },
   "outputs": [
    {
     "data": {
      "text/plain": [
       "(36210,)"
      ]
     },
     "execution_count": 76,
     "metadata": {},
     "output_type": "execute_result"
    }
   ],
   "source": [
    "single.shape"
   ]
  },
  {
   "cell_type": "code",
   "execution_count": 77,
   "metadata": {
    "colab": {
     "base_uri": "https://localhost:8080/"
    },
    "id": "39yEDJZpG04W",
    "outputId": "66a0171f-3261-4a53-c552-96d5eab86cc1"
   },
   "outputs": [
    {
     "name": "stdout",
     "output_type": "stream",
     "text": [
      "total restaurants in our data =  55568\n",
      "total restaurants that are part of some chain =  19358\n",
      "percentage of restaurants that are part of some chain =  35.0 %\n"
     ]
    }
   ],
   "source": [
    "print(\"total restaurants in our data = \", data.shape[0])\n",
    "\n",
    "print(\"total restaurants that are part of some chain = \", data.shape[0] - single.shape[0])\n",
    "\n",
    "print(\"percentage of restaurants that are part of some chain = \", np.round((data.shape[0] - single.shape[0]) / data.shape[0],2)*100, \"%\")\n",
    "\n",
    "#explanation:\n",
    "\n",
    "#data.shape[0] gives the total number of restaurants\n",
    "\n",
    "#single.shape[0] gives the single - location (non-chain) restaurants\n",
    "\n",
    "#we dive that by the total amount of restaurants and round to 2 decimal places"
   ]
  },
  {
   "cell_type": "markdown",
   "metadata": {
    "id": "6b81s7_RJClU"
   },
   "source": [
    "35% of the restaurants are the part of some kind of restaurant chain.\n",
    "\n",
    "\n",
    "### Top restaurant chains (by number of outlets)\n",
    "\n",
    "Let us plot horizontal bar graph at top 10 restaurant chains. For the colour scheme we are using a list of pre defined and selected colours to make the chart more appealing."
   ]
  },
  {
   "cell_type": "code",
   "execution_count": 78,
   "metadata": {
    "colab": {
     "base_uri": "https://localhost:8080/",
     "height": 272
    },
    "id": "gSJ_c-ghIQJN",
    "outputId": "8e7b4ae0-433e-489c-aa10-d2004812e553"
   },
   "outputs": [
    {
     "data": {
      "text/plain": [
       "name\n",
       "Domino's Pizza     399\n",
       "Cafe Coffee Day    315\n",
       "KFC                204\n",
       "Baskin Robbins     202\n",
       "Keventers          189\n",
       "Name: count, dtype: int64"
      ]
     },
     "execution_count": 78,
     "metadata": {},
     "output_type": "execute_result"
    }
   ],
   "source": [
    "chains.head()"
   ]
  },
  {
   "cell_type": "code",
   "execution_count": 79,
   "metadata": {
    "colab": {
     "base_uri": "https://localhost:8080/",
     "height": 429
    },
    "id": "R--KPcc2Jvpy",
    "outputId": "1edcf768-0911-46ed-e029-3f92a189646f"
   },
   "outputs": [
    {
     "data": {
      "text/plain": [
       "name\n",
       "Domino's Pizza     399\n",
       "Cafe Coffee Day    315\n",
       "KFC                204\n",
       "Baskin Robbins     202\n",
       "Keventers          189\n",
       "Subway             178\n",
       "McDonald's         130\n",
       "Pizza Hut          125\n",
       "Barbeque Nation    112\n",
       "Burger King        110\n",
       "Name: count, dtype: int64"
      ]
     },
     "execution_count": 79,
     "metadata": {},
     "output_type": "execute_result"
    }
   ],
   "source": [
    "chains.head(10)"
   ]
  },
  {
   "cell_type": "code",
   "execution_count": 80,
   "metadata": {
    "id": "qVg_F1H4JzzJ"
   },
   "outputs": [],
   "source": [
    "top10_foodchains = data['name'].value_counts()[:10].sort_values(ascending = True)"
   ]
  },
  {
   "cell_type": "code",
   "execution_count": 81,
   "metadata": {
    "colab": {
     "base_uri": "https://localhost:8080/",
     "height": 429
    },
    "id": "zri6BHFhKD6j",
    "outputId": "c80a61bf-d235-498c-e869-6b37f63c2164"
   },
   "outputs": [
    {
     "data": {
      "text/plain": [
       "name\n",
       "Burger King        110\n",
       "Barbeque Nation    112\n",
       "Pizza Hut          125\n",
       "McDonald's         130\n",
       "Subway             178\n",
       "Keventers          189\n",
       "Baskin Robbins     202\n",
       "KFC                204\n",
       "Cafe Coffee Day    315\n",
       "Domino's Pizza     399\n",
       "Name: count, dtype: int64"
      ]
     },
     "execution_count": 81,
     "metadata": {},
     "output_type": "execute_result"
    }
   ],
   "source": [
    "top10_foodchains"
   ]
  },
  {
   "cell_type": "code",
   "execution_count": 82,
   "metadata": {
    "colab": {
     "base_uri": "https://localhost:8080/",
     "height": 718
    },
    "id": "L1aHcjpIKFFI",
    "outputId": "226e0dc0-f658-4c3f-e611-4db9bd359cba"
   },
   "outputs": [
    {
     "data": {
      "image/png": "[encoded data removed]",
      "text/plain": [
       "<Figure size 1100x800 with 1 Axes>"
      ]
     },
     "metadata": {},
     "output_type": "display_data"
    }
   ],
   "source": [
    "height = top10_foodchains.values\n",
    "bars = top10_foodchains.index\n",
    "y_pos = np.arange(len(bars))\n",
    "\n",
    "fig = plt.figure(figsize = [11,8], frameon = False)\n",
    "ax = fig.gca()\n",
    "ax.spines['top'].set_visible(\"#424242\")\n",
    "ax.spines['right'].set_visible(False)\n",
    "ax.spines['left'].set_color(\"#424242\")\n",
    "ax.spines['bottom'].set_color(\"#424242\")\n",
    "\n",
    "colors = ['#f9cdac', '#f2a49f', '#ec7c92', '#e65586','#bc438b', '#933291','#692398','#551c7b','#41155e','#2d0f41']\n",
    "\n",
    "plt.barh(y_pos, height, color = colors)\n",
    "\n",
    "plt.xticks(color = \"#424242\")\n",
    "plt.yticks(y_pos, bars, color = \"#424242\")\n",
    "plt.xlabel(\"Number of outlets in India\")\n",
    "\n",
    "for i, v in enumerate(height):\n",
    "    plt.text(v + 3, i, str(v), color = 'black', fontweight = 'bold')\n",
    "plt.title(\"Top 10 restaurant chains in India\")\n",
    "plt.show()"
   ]
  },
  {
   "cell_type": "markdown",
   "metadata": {
    "id": "AlKh97Z0Mg9W"
   },
   "source": [
    "Goal of the Code:\n",
    "To create a horizontal bar chart showing the number of outlets of the top 10 restaurant chains in India, using custom colors and styled axes.\n",
    "\n",
    "## Step-by-Step Explanation:\n",
    "### Top10_foodchains is a pandas Series or DataFrame with names as index and outlet counts as values.\n",
    "\n",
    "--> y_pos gives vertical positions for each horizontal bar.\n",
    "\n",
    "--> figsize=[11,8]: Sets width and height of the figure (in inches).\n",
    "\n",
    "--> frameon=False: Removes outer frame around the figure.\n",
    "\n",
    "--> gca(): Gets current axes object to customize it.\n",
    "\n",
    "--> Spines are the borders around the plot area.\n",
    "\n",
    "--> Hides the top and right spines for a cleaner look.\n",
    "\n",
    "--> Colors the left and bottom spines with a dark gray shade.\n",
    "\n",
    "--> barh() plots horizontal bars.\n",
    "\n",
    "--> Each bar corresponds to a restaurant chain with a unique color.\n",
    "\n",
    "Changes the color of x and y-axis tick labels to match the dark gray theme.\n",
    "\n",
    "Adds restaurant names as labels on the y-axis.\n",
    "\n",
    "for i, v in enumerate(height):\n",
    "plt.text(v + 3, i, str(v), color='black', fontweight='bold')\n",
    "\n",
    "Iterates through each bar and places the actual value (number of outlets) at the end of each bar.\n",
    "\n",
    "v + 3 shifts the label slightly right to avoid overlap with the bar.\n",
    "\n",
    "\n",
    "\n",
    "plt.show()\n",
    "Renders the complete chart in your notebook or script output.\n",
    "\n",
    "\n",
    "\n",
    "\n"
   ]
  },
  {
   "cell_type": "code",
   "execution_count": 83,
   "metadata": {
    "colab": {
     "base_uri": "https://localhost:8080/",
     "height": 807
    },
    "id": "nJaoBjHJMDcl",
    "outputId": "a9b0439d-f228-49bb-a59d-5bc062c5f443"
   },
   "outputs": [
    {
     "data": {
      "image/png": "[encoded data removed]",
      "text/plain": [
       "<Figure size 1100x800 with 1 Axes>"
      ]
     },
     "metadata": {},
     "output_type": "display_data"
    }
   ],
   "source": [
    "#another code for graphical representation of top 10 chains\n",
    "\n",
    "height = top10_foodchains.values\n",
    "bars = top10_foodchains.index\n",
    "y_pos = np.arange(len(bars))\n",
    "\n",
    "fig = plt.figure(figsize=[11,8], frameon=False)\n",
    "ax = fig.gca()\n",
    "\n",
    "# Set spine colors\n",
    "ax.spines['top'].set_visible(False)\n",
    "ax.spines['right'].set_visible(False)\n",
    "ax.spines['left'].set_color(\"#424242\")\n",
    "ax.spines['bottom'].set_color(\"#424242\")\n",
    "\n",
    "colors = ['#f9cdac', '#f2a49f', '#ec7c92', '#e65586',\n",
    "          '#bc438b', '#933291', '#692398', '#551c7b', '#41155e', '#2d0f41']\n",
    "\n",
    "plt.barh(y_pos, height, color=colors)\n",
    "\n",
    "plt.xticks(color=\"#424242\")\n",
    "plt.yticks(y_pos, bars, color=\"#424242\")\n",
    "plt.xlabel(\"Number of Outlets in India\", fontsize=12, color=\"#424242\")\n",
    "plt.title(\"Top 10 Restaurant Chains in India\", fontsize=16, color=\"#424242\")\n",
    "\n",
    "for i, v in enumerate(height):\n",
    "    plt.text(v + 3, i, str(v), color='black', fontweight='bold')\n",
    "\n",
    "plt.xlim(0, max(height) + 20)  # Prevent clipping\n",
    "plt.tight_layout()\n",
    "plt.show()\n"
   ]
  },
  {
   "cell_type": "markdown",
   "metadata": {
    "id": "yBVWa2xVwpKd"
   },
   "source": [
    "#### Now we look over the ratings which are having high average rating\n",
    "\n",
    "We will look at the top chains by their average ratings. Here, that would be great if we conside number of outlest greater than 4. This helps us in remove some outliers and make our analsyis easy with out confusion ."
   ]
  },
  {
   "cell_type": "code",
   "execution_count": 84,
   "metadata": {
    "id": "Sb7mH70dOh5k"
   },
   "outputs": [],
   "source": [
    "outlets = data['name'].value_counts()"
   ]
  },
  {
   "cell_type": "code",
   "execution_count": 85,
   "metadata": {
    "colab": {
     "base_uri": "https://localhost:8080/",
     "height": 490
    },
    "id": "WTl34aCCxXDP",
    "outputId": "2e116c7f-92f0-4feb-af4e-918bde2cc9de"
   },
   "outputs": [
    {
     "data": {
      "text/plain": [
       "name\n",
       "Domino's Pizza                           399\n",
       "Cafe Coffee Day                          315\n",
       "KFC                                      204\n",
       "Baskin Robbins                           202\n",
       "Keventers                                189\n",
       "                                        ... \n",
       "Boulevard 69                               1\n",
       "7-Eleven Restaurant                        1\n",
       "Food station                               1\n",
       "Silver Saloon - Taj Usha Kiran Palace      1\n",
       "Geeta lodge                                1\n",
       "Name: count, Length: 41100, dtype: int64"
      ]
     },
     "execution_count": 85,
     "metadata": {},
     "output_type": "execute_result"
    }
   ],
   "source": [
    "outlets"
   ]
  },
  {
   "cell_type": "code",
   "execution_count": 86,
   "metadata": {
    "id": "MgCe3aRMxYYN"
   },
   "outputs": [],
   "source": [
    "Minimum_outlets = outlets[outlets > 4]"
   ]
  },
  {
   "cell_type": "code",
   "execution_count": 87,
   "metadata": {
    "colab": {
     "base_uri": "https://localhost:8080/",
     "height": 490
    },
    "id": "IIrI03HTxfOf",
    "outputId": "b98358a5-b050-4239-cfe5-2b0ce32ea815"
   },
   "outputs": [
    {
     "data": {
      "text/plain": [
       "name\n",
       "Domino's Pizza               399\n",
       "Cafe Coffee Day              315\n",
       "KFC                          204\n",
       "Baskin Robbins               202\n",
       "Keventers                    189\n",
       "                            ... \n",
       "Pasta Street                   5\n",
       "Red Chilli Snacks & Bakes      5\n",
       "Bake N Shake                   5\n",
       "Mahavir Ice Cream              5\n",
       "Hyderabad Biryani              5\n",
       "Name: count, Length: 743, dtype: int64"
      ]
     },
     "execution_count": 87,
     "metadata": {},
     "output_type": "execute_result"
    }
   ],
   "source": [
    "Minimum_outlets"
   ]
  },
  {
   "cell_type": "code",
   "execution_count": 88,
   "metadata": {
    "id": "oV3fScX4xubW"
   },
   "outputs": [],
   "source": [
    "top10_chains2 = data[\n",
    "    data[\"name\"].isin(Minimum_outlets.index)\n",
    "].groupby(\"name\")[\"aggregate_rating\"].mean().sort_values(ascending=False)[:10].sort_values(ascending=True)\n"
   ]
  },
  {
   "cell_type": "markdown",
   "metadata": {
    "id": "EMStT1UUy_v6"
   },
   "source": [
    "#### Steps for above code:\n",
    "1. Filter the Data for Specific Chains\n",
    "2. Group by Chain Name\n",
    "3. You now compute the average customer rating for each restaurant chain.\n",
    "\n",
    "\n"
   ]
  },
  {
   "cell_type": "code",
   "execution_count": 89,
   "metadata": {
    "colab": {
     "base_uri": "https://localhost:8080/",
     "height": 429
    },
    "id": "aAxHsjPSy0E8",
    "outputId": "2f6bded5-f2e8-4ccc-f1f5-cc8dc5768771"
   },
   "outputs": [
    {
     "data": {
      "text/plain": [
       "name\n",
       "The FML Lounge                  4.480000\n",
       "Mocha                           4.481818\n",
       "Pa Pa Ya                        4.500000\n",
       "Agent Jack's                    4.516667\n",
       "The Fisherman's Wharf           4.540000\n",
       "Momo I Am                       4.560000\n",
       "Chili's American Grill & Bar    4.620000\n",
       "Pirates of Grill                4.620000\n",
       "Chili's Grill & Bar             4.744444\n",
       "AB's - Absolute Barbecues       4.775000\n",
       "Name: aggregate_rating, dtype: float64"
      ]
     },
     "execution_count": 89,
     "metadata": {},
     "output_type": "execute_result"
    }
   ],
   "source": [
    "top10_chains2"
   ]
  },
  {
   "cell_type": "code",
   "execution_count": 90,
   "metadata": {
    "colab": {
     "base_uri": "https://localhost:8080/",
     "height": 641
    },
    "id": "oEYVhnj9y4P7",
    "outputId": "65c4c0e7-e773-4361-9d92-89c3133a91e6"
   },
   "outputs": [
    {
     "data": {
      "image/png": "[encoded data removed]",
      "text/plain": [
       "<Figure size 1100x700 with 1 Axes>"
      ]
     },
     "metadata": {},
     "output_type": "display_data"
    }
   ],
   "source": [
    "height = pd.Series(top10_chains2.values).map(lambda x : np.round(x, 2))\n",
    "bars = top10_chains2.index\n",
    "y_pos = np.arange(len(bars))\n",
    "\n",
    "fig = plt.figure(figsize=[11,7], frameon=False)\n",
    "ax = fig.gca()\n",
    "ax.spines[\"top\"].set_visible(\"#424242\")\n",
    "ax.spines[\"right\"].set_visible(False)\n",
    "ax.spines[\"left\"].set_color(\"#424242\")\n",
    "ax.spines[\"bottom\"].set_color(\"#424242\")\n",
    "\n",
    "colors = [\"green\",\"blue\",\"magenta\",\"cyan\",\"gray\",\"yellow\",\"purple\",\"violet\",\"orange\",\"red\",\"maroon\"]\n",
    "random.shuffle(colors)\n",
    "\n",
    "#colors = ['#fded86', '#fce36b', '#f7c65d', '#f1a84f', '#ec8c41', '#e76f34', '#e25328', '#b04829', '#7e3e2b', '#4c3430']\n",
    "plt.barh(y_pos, height, color=colors)\n",
    "\n",
    "plt.xlim(3)\n",
    "plt.xticks(color=\"#424242\")\n",
    "plt.yticks(y_pos, bars, color=\"#424242\")\n",
    "plt.xlabel(\"Number of outlets in India\")\n",
    "\n",
    "for i, v in enumerate(height):\n",
    "    ax.text(v + 0.01, i, str(v), color='#424242')\n",
    "plt.title(\"Top 10 Restaurant chain in India (by average Rating)\")\n",
    "\n",
    "\n",
    "plt.show()\n"
   ]
  },
  {
   "cell_type": "code",
   "execution_count": null,
   "metadata": {
    "id": "UiVlpXyG0GbP"
   },
   "outputs": [],
   "source": []
  },
  {
   "cell_type": "markdown",
   "metadata": {
    "id": "A3P1le060XH7"
   },
   "source": [
    "### Crazy analysis from Top 10 Restaurant chains in India and by their rating\n",
    "\n",
    "Interestingly rating of the chains that have more outlets are low when we compare with the less outlets one.\n",
    "\n",
    "By this we can say that, in food business opening of huge number of outlets doesn't directly increase our rating."
   ]
  },
  {
   "cell_type": "code",
   "execution_count": null,
   "metadata": {
    "id": "edmNYBn00382"
   },
   "outputs": [],
   "source": []
  },
  {
   "cell_type": "markdown",
   "metadata": {
    "id": "82APsvIj1AlZ"
   },
   "source": [
    "Now, we look into establishment"
   ]
  },
  {
   "cell_type": "code",
   "execution_count": 91,
   "metadata": {
    "colab": {
     "base_uri": "https://localhost:8080/",
     "height": 458
    },
    "id": "tVOJ5qJT1HEQ",
    "outputId": "222bc642-8c9f-4df1-a56b-db2fb022b87a"
   },
   "outputs": [
    {
     "data": {
      "text/plain": [
       "0             Quick Bites\n",
       "1             Quick Bites\n",
       "2             Quick Bites\n",
       "3             Quick Bites\n",
       "4           Casual Dining\n",
       "               ...       \n",
       "211882    Dessert Parlour\n",
       "211925      Casual Dining\n",
       "211926      Casual Dining\n",
       "211940        Quick Bites\n",
       "211942        Quick Bites\n",
       "Name: establishment, Length: 55568, dtype: object"
      ]
     },
     "execution_count": 91,
     "metadata": {},
     "output_type": "execute_result"
    }
   ],
   "source": [
    "data['establishment']"
   ]
  },
  {
   "cell_type": "code",
   "execution_count": 92,
   "metadata": {
    "colab": {
     "base_uri": "https://localhost:8080/",
     "height": 487
    },
    "id": "tLhwp_Ui1IfG",
    "outputId": "22653979-1dd8-4b4f-f5fd-39881ceb6a22"
   },
   "outputs": [
    {
     "data": {
      "image/png": "[encoded data removed]",
      "text/plain": [
       "<Figure size 800x500 with 1 Axes>"
      ]
     },
     "metadata": {},
     "output_type": "display_data"
    }
   ],
   "source": [
    "establishment_count = data.groupby(\"establishment\").count()[\"res_id\"].sort_values(ascending=False)[:5]\n",
    "\n",
    "fig = plt.figure(figsize=[8,5], frameon=False)\n",
    "ax = fig.gca()\n",
    "ax.spines[\"top\"].set_visible(False)\n",
    "ax.spines[\"right\"].set_visible(False)\n",
    "ax.spines[\"left\"].set_color(\"#424242\")\n",
    "ax.spines[\"bottom\"].set_color(\"#424242\")\n",
    "\n",
    "colors = [\"green\",\"blue\",\"magenta\",\"cyan\",\"gray\",\"yellow\",\"purple\",\"violet\",\"orange\",\"red\",\"maroon\"]\n",
    "random.shuffle(colors)\n",
    "plt.bar(establishment_count.index, establishment_count.values, color=colors)\n",
    "\n",
    "plt.xticks(range(0, 6), color=\"#424242\")\n",
    "plt.yticks(range(0, 25000, 5000), color=\"#424242\")\n",
    "plt.xlabel(\"Top 5 establishment types\")\n",
    "\n",
    "for i, v in enumerate(establishment_count):\n",
    "    ax.text(i-0.2, v+500, str(v), color='#424242')\n",
    "plt.title(\"Number of restaurants (by establishment type)\")\n",
    "\n",
    "\n",
    "plt.show()\n"
   ]
  },
  {
   "cell_type": "markdown",
   "metadata": {
    "id": "rnCRux5k1zp3"
   },
   "source": [
    "By this we can say that top 3 are the kind of Quickbites, casual dining and cafe types in zomato. So in zomato more of quickbites kind of restaurants are present.\n"
   ]
  },
  {
   "cell_type": "code",
   "execution_count": null,
   "metadata": {
    "id": "YGuvYCh91dYN"
   },
   "outputs": [],
   "source": []
  },
  {
   "cell_type": "markdown",
   "metadata": {
    "id": "DNcsquPa2Y5z"
   },
   "source": [
    "Now, looking into average rating, votes, photos(Taking establishmnet into consideration)"
   ]
  },
  {
   "cell_type": "code",
   "execution_count": 93,
   "metadata": {
    "colab": {
     "base_uri": "https://localhost:8080/",
     "height": 429
    },
    "id": "UjEllnOx1zbK",
    "outputId": "a7baecc5-b85b-4cfa-fe16-80ec15ca3dfd"
   },
   "outputs": [
    {
     "data": {
      "text/plain": [
       "establishment\n",
       "Microbrewery     4.268182\n",
       "Pub              3.758263\n",
       "Cocktail Bar     3.531250\n",
       "Fine Dining      3.436547\n",
       "Lounge           3.436463\n",
       "Club             3.378571\n",
       "Irani Cafe       3.321429\n",
       "Casual Dining    3.238680\n",
       "Café             3.212345\n",
       "Butcher Shop     3.110390\n",
       "Name: aggregate_rating, dtype: float64"
      ]
     },
     "execution_count": 93,
     "metadata": {},
     "output_type": "execute_result"
    }
   ],
   "source": [
    "rating_establishment = data.groupby(\"establishment\")[\"aggregate_rating\"].mean().sort_values(ascending=False)[:10]\n",
    "rating_establishment\n"
   ]
  },
  {
   "cell_type": "code",
   "execution_count": 94,
   "metadata": {
    "colab": {
     "base_uri": "https://localhost:8080/",
     "height": 429
    },
    "id": "j8wWLxqY2u4u",
    "outputId": "b4feb201-8f79-4e53-81e3-9b9665bef605"
   },
   "outputs": [
    {
     "data": {
      "text/plain": [
       "establishment\n",
       "Microbrewery     1992.300000\n",
       "Pub               880.274510\n",
       "Bar               500.613295\n",
       "Lounge            494.509756\n",
       "Casual Dining     396.339935\n",
       "Cocktail Bar      309.625000\n",
       "Club              300.544643\n",
       "Fine Dining       293.126384\n",
       "Café              276.558574\n",
       "Irani Cafe        178.714286\n",
       "Name: votes, dtype: float64"
      ]
     },
     "execution_count": 94,
     "metadata": {},
     "output_type": "execute_result"
    }
   ],
   "source": [
    "data.groupby(\"establishment\")[\"votes\"].mean().sort_values(ascending=False)[:10]\n"
   ]
  },
  {
   "cell_type": "code",
   "execution_count": 95,
   "metadata": {
    "colab": {
     "base_uri": "https://localhost:8080/",
     "height": 429
    },
    "id": "94GrzwOS25af",
    "outputId": "f76973bf-c9cb-470e-bc62-166ddf91cb4e"
   },
   "outputs": [
    {
     "data": {
      "text/plain": [
       "establishment\n",
       "Microbrewery     2042.054545\n",
       "Pub               652.955182\n",
       "Cocktail Bar      555.625000\n",
       "Lounge            514.687805\n",
       "Bar               513.321658\n",
       "Fine Dining       364.817590\n",
       "Café              331.935969\n",
       "Casual Dining     291.550448\n",
       "Irani Cafe        173.000000\n",
       "Club              107.089286\n",
       "Name: photo_count, dtype: float64"
      ]
     },
     "execution_count": 95,
     "metadata": {},
     "output_type": "execute_result"
    }
   ],
   "source": [
    "data.groupby(\"establishment\")[\"photo_count\"].mean().sort_values(ascending=False)[:10]\n"
   ]
  },
  {
   "cell_type": "markdown",
   "metadata": {
    "id": "69rLuekR3N5x"
   },
   "source": [
    "We can conclude from here that the places or restaurants serving alcohol and adult juices are having highest rating, highest votes and photos"
   ]
  },
  {
   "cell_type": "code",
   "execution_count": null,
   "metadata": {
    "id": "1XdgjsO13E3A"
   },
   "outputs": [],
   "source": []
  },
  {
   "cell_type": "markdown",
   "metadata": {
    "id": "eV8m7lXP3dbS"
   },
   "source": [
    "### Number of restaurants are present in cities"
   ]
  },
  {
   "cell_type": "code",
   "execution_count": 96,
   "metadata": {
    "colab": {
     "base_uri": "https://localhost:8080/",
     "height": 641
    },
    "id": "kDkaWcti3jBj",
    "outputId": "f6c1652c-29aa-429a-ff5b-c965e9607a4f"
   },
   "outputs": [
    {
     "data": {
      "image/png": "[encoded data removed]",
      "text/plain": [
       "<Figure size 1100x700 with 1 Axes>"
      ]
     },
     "metadata": {},
     "output_type": "display_data"
    }
   ],
   "source": [
    "city_restaurants = data.groupby(\"city\").count()[\"res_id\"].sort_values(ascending=True)[-10:]\n",
    "\n",
    "height = pd.Series(city_restaurants.values)\n",
    "bars = city_restaurants.index\n",
    "y_pos = np.arange(len(bars))\n",
    "\n",
    "fig = plt.figure(figsize=[11,7], frameon=False)\n",
    "ax = fig.gca()\n",
    "ax.spines[\"top\"].set_visible(\"#424242\")\n",
    "ax.spines[\"right\"].set_visible(False)\n",
    "ax.spines[\"left\"].set_color(\"#424242\")\n",
    "ax.spines[\"bottom\"].set_color(\"#424242\")\n",
    "\n",
    "colors = [\"green\",\"blue\",\"magenta\",\"cyan\",\"gray\",\"yellow\",\"purple\",\"violet\",\"orange\",\"red\",\"maroon\"]\n",
    "#random.shuffle(colors)\n",
    "\n",
    "#colors = ['#dcecc9', '#aadacc', '#78c6d0', '#48b3d3', '#3e94c0', '#3474ac', '#2a5599', '#203686', '#18216b', '#11174b']\n",
    "plt.barh(y_pos, height, color=colors)\n",
    "\n",
    "plt.xlim(3)\n",
    "plt.xticks(color=\"#424242\")\n",
    "plt.yticks(y_pos, bars, color=\"#424242\")\n",
    "plt.xlabel(\"Number of outlets\")\n",
    "\n",
    "for i, v in enumerate(height):\n",
    "    ax.text(v + 20, i, str(v), color='#424242')\n",
    "plt.title(\"Number of restaurants (by city)\")\n",
    "\n",
    "\n",
    "plt.show()"
   ]
  },
  {
   "cell_type": "code",
   "execution_count": null,
   "metadata": {
    "id": "b5wTEzcC3zIa"
   },
   "outputs": [],
   "source": []
  },
  {
   "cell_type": "markdown",
   "metadata": {
    "id": "_VOcM5vj3-nv"
   },
   "source": [
    "We can say from here that, metro cities are having highest number of restaurants"
   ]
  },
  {
   "cell_type": "code",
   "execution_count": null,
   "metadata": {
    "id": "jNJb3Gtl4IfA"
   },
   "outputs": [],
   "source": []
  },
  {
   "cell_type": "markdown",
   "metadata": {
    "id": "uwlBUIGi4OzA"
   },
   "source": [
    "### Previously we have perfomed average_rating, votes and photos by consdiering establishment, now we will perform with cities as consideration."
   ]
  },
  {
   "cell_type": "code",
   "execution_count": 97,
   "metadata": {
    "colab": {
     "base_uri": "https://localhost:8080/",
     "height": 429
    },
    "id": "goqQMs984as0",
    "outputId": "1c686d34-d6f9-4398-ec2e-9e700cce39ba"
   },
   "outputs": [
    {
     "data": {
      "text/plain": [
       "city\n",
       "Gurgaon         3.828525\n",
       "Secunderabad    3.822222\n",
       "Hyderabad       3.755839\n",
       "Kolkata         3.751947\n",
       "New Delhi       3.727347\n",
       "Mumbai          3.709298\n",
       "Bangalore       3.698175\n",
       "Noida           3.620307\n",
       "Chennai         3.597701\n",
       "Pune            3.509224\n",
       "Name: aggregate_rating, dtype: float64"
      ]
     },
     "execution_count": 97,
     "metadata": {},
     "output_type": "execute_result"
    }
   ],
   "source": [
    "rating_city = data.groupby(\"city\")[\"aggregate_rating\"].mean().sort_values(ascending=False)[:10]\n",
    "rating_city\n"
   ]
  },
  {
   "cell_type": "code",
   "execution_count": 98,
   "metadata": {
    "colab": {
     "base_uri": "https://localhost:8080/",
     "height": 490
    },
    "id": "k2bwNX4f4jZ8",
    "outputId": "25048662-6fc1-4758-ddcd-0a10a0994dd9"
   },
   "outputs": [
    {
     "data": {
      "text/plain": [
       "city\n",
       "Hyderabad       955.549878\n",
       "Secunderabad    955.433333\n",
       "Mumbai          797.158259\n",
       "Bangalore       724.940365\n",
       "New Delhi       711.116197\n",
       "                   ...    \n",
       "Amravati          2.102632\n",
       "Palakkad          1.947368\n",
       "Junagadh          1.427835\n",
       "Alappuzha         0.815686\n",
       "Kharagpur         0.469388\n",
       "Name: votes, Length: 99, dtype: float64"
      ]
     },
     "execution_count": 98,
     "metadata": {},
     "output_type": "execute_result"
    }
   ],
   "source": [
    "data.groupby(\"city\")['votes'].mean().sort_values(ascending=False)"
   ]
  },
  {
   "cell_type": "code",
   "execution_count": 99,
   "metadata": {
    "colab": {
     "base_uri": "https://localhost:8080/",
     "height": 272
    },
    "id": "3GYu-1Gc4zEk",
    "outputId": "8d26cb13-2e30-4e52-b3f7-4cf15d22300e"
   },
   "outputs": [
    {
     "data": {
      "text/plain": [
       "city\n",
       "Mumbai         882.273492\n",
       "New Delhi      764.258216\n",
       "Gurgaon        678.491803\n",
       "Kolkata        667.558413\n",
       "Navi Mumbai    547.323671\n",
       "Name: photo_count, dtype: float64"
      ]
     },
     "execution_count": 99,
     "metadata": {},
     "output_type": "execute_result"
    }
   ],
   "source": [
    "data.groupby('city')['photo_count'].mean().sort_values(ascending=False)[:5]"
   ]
  },
  {
   "cell_type": "code",
   "execution_count": null,
   "metadata": {
    "id": "xhYfdy7H4-_O"
   },
   "outputs": [],
   "source": []
  },
  {
   "cell_type": "markdown",
   "metadata": {
    "id": "FSFuMKZu6WCn"
   },
   "source": [
    "### Highlights/Features of restaurants\n",
    "### Unique highlights\n"
   ]
  },
  {
   "cell_type": "code",
   "execution_count": 100,
   "metadata": {
    "colab": {
     "base_uri": "https://localhost:8080/"
    },
    "id": "XZasqqNG7Btd",
    "outputId": "623a9b25-eb4a-4283-e67f-6c7dd2062005"
   },
   "outputs": [
    {
     "name": "stdout",
     "output_type": "stream",
     "text": [
      "31228\n"
     ]
    }
   ],
   "source": [
    "print(data['highlights'].nunique())"
   ]
  },
  {
   "cell_type": "code",
   "execution_count": 101,
   "metadata": {
    "colab": {
     "base_uri": "https://localhost:8080/",
     "height": 458
    },
    "id": "cDnOx8NE6mYd",
    "outputId": "2a13586e-1ae5-4a72-b451-50c33202c01b"
   },
   "outputs": [
    {
     "data": {
      "text/plain": [
       "0         ['Lunch', 'Takeaway Available', 'Credit Card',...\n",
       "1         ['Delivery', 'No Alcohol Available', 'Dinner',...\n",
       "2         ['No Alcohol Available', 'Dinner', 'Takeaway A...\n",
       "3         ['Takeaway Available', 'Credit Card', 'Lunch',...\n",
       "4         ['Lunch', 'Serves Alcohol', 'Cash', 'Credit Ca...\n",
       "                                ...                        \n",
       "211882    ['Cash', 'Takeaway Available', 'Delivery', 'In...\n",
       "211925    ['Dinner', 'Cash', 'Debit Card', 'Lunch', 'Tak...\n",
       "211926    ['Dinner', 'Cash', 'Credit Card', 'Lunch', 'Ta...\n",
       "211940    ['Dinner', 'Cash', 'Takeaway Available', 'Debi...\n",
       "211942    ['Dinner', 'Delivery', 'Credit Card', 'Lunch',...\n",
       "Name: highlights, Length: 55568, dtype: object"
      ]
     },
     "execution_count": 101,
     "metadata": {},
     "output_type": "execute_result"
    }
   ],
   "source": [
    "data['highlights']"
   ]
  },
  {
   "cell_type": "code",
   "execution_count": 102,
   "metadata": {
    "colab": {
     "base_uri": "https://localhost:8080/"
    },
    "id": "xBILXLQG6xjS",
    "outputId": "ba5aa804-27e4-43f5-d86d-b9bae3428eaa"
   },
   "outputs": [
    {
     "name": "stdout",
     "output_type": "stream",
     "text": [
      "Total number of unique highlights =  104\n"
     ]
    }
   ],
   "source": [
    "h = []\n",
    "data[\"highlights\"].apply(lambda x : h.extend(x[2:-2].split(\"', '\")))\n",
    "h = pd.Series(h)\n",
    "print(\"Total number of unique highlights = \", h.nunique())\n"
   ]
  },
  {
   "cell_type": "code",
   "execution_count": 103,
   "metadata": {
    "colab": {
     "base_uri": "https://localhost:8080/",
     "height": 564
    },
    "id": "EzUShss47Ytr",
    "outputId": "4cdc40de-b17c-47b3-c46a-871cdfeac0e7"
   },
   "outputs": [
    {
     "data": {
      "image/png": "[encoded data removed]",
      "text/plain": [
       "<Figure size 1000x600 with 1 Axes>"
      ]
     },
     "metadata": {},
     "output_type": "display_data"
    }
   ],
   "source": [
    "h_count = h.value_counts()[:5]\n",
    "\n",
    "fig = plt.figure(figsize=[10,6], frameon=False)\n",
    "ax = fig.gca()\n",
    "ax.spines[\"top\"].set_visible(False)\n",
    "ax.spines[\"right\"].set_visible(False)\n",
    "ax.spines[\"left\"].set_color(\"#424242\")\n",
    "ax.spines[\"bottom\"].set_color(\"#424242\")\n",
    "\n",
    "colors = [\"green\",\"blue\",\"magenta\",\"cyan\",\"gray\",\"yellow\",\"purple\",\"violet\",\"orange\",\"red\",\"maroon\"]\n",
    "#random.shuffle(colors)\n",
    "#colors = ['#11174b', '#2a5599', '#3e94c0', '#78c6d0', '#dcecc9']\n",
    "plt.bar(h_count.index, h_count.values, color=colors)\n",
    "\n",
    "plt.xticks(range(0, 6), color=\"#424242\")\n",
    "plt.yticks(range(0, 70000, 10000), color=\"#424242\")\n",
    "plt.xlabel(\"Top 5 highlights\")\n",
    "\n",
    "for i, v in enumerate(h_count):\n",
    "    ax.text(i-0.2, v+500, str(v), color='#424242')\n",
    "plt.title(\"Number of restaurants (by highlights)\")\n",
    "\n",
    "\n",
    "plt.show()\n"
   ]
  },
  {
   "cell_type": "code",
   "execution_count": null,
   "metadata": {
    "id": "Km3dqsr-7hX3"
   },
   "outputs": [],
   "source": []
  },
  {
   "cell_type": "markdown",
   "metadata": {
    "id": "xWZjY1yi7sQI"
   },
   "source": [
    "We can say that the top features, doesn't say more about the highlights as they are common in every restaurant"
   ]
  },
  {
   "cell_type": "markdown",
   "metadata": {
    "id": "FEi359nv8Lx9"
   },
   "source": [
    "## Highest Rated Highlights among restaurants in Zomato India"
   ]
  },
  {
   "cell_type": "code",
   "execution_count": 104,
   "metadata": {
    "colab": {
     "base_uri": "https://localhost:8080/",
     "height": 35
    },
    "id": "yJb9_sdK716t",
    "outputId": "32d3bde1-32db-4fd1-e7d1-ec0a48a1abec"
   },
   "outputs": [
    {
     "data": {
      "text/plain": [
       "\"['Lunch', 'Takeaway Available', 'Credit Card', 'Dinner', 'Cash', 'Air Conditioned', 'Indoor Seating', 'Pure Veg']\""
      ]
     },
     "execution_count": 104,
     "metadata": {},
     "output_type": "execute_result"
    }
   ],
   "source": [
    "data[\"highlights\"][0]\n"
   ]
  },
  {
   "cell_type": "code",
   "execution_count": 105,
   "metadata": {
    "id": "oG64wX4H8V4Y"
   },
   "outputs": [],
   "source": [
    "data[\"highlights2\"] = data['highlights'].apply(lambda x : x[2:-2].split(\"', '\"))\n",
    "\n",
    "h_list = h.unique().tolist()\n",
    "zeros = np.zeros(shape=(len(h_list),2))\n",
    "h_and_r = pd.DataFrame(zeros, index=h_list, columns=[\"Sum\",\"Total\"])\n"
   ]
  },
  {
   "cell_type": "code",
   "execution_count": 106,
   "metadata": {
    "colab": {
     "base_uri": "https://localhost:8080/",
     "height": 424
    },
    "id": "ckc9aAud8de_",
    "outputId": "13d11cb2-fb5c-4b7f-8c4b-f3720f6d0ce4"
   },
   "outputs": [
    {
     "data": {
      "text/html": [
       "<div>\n",
       "<style scoped>\n",
       "    .dataframe tbody tr th:only-of-type {\n",
       "        vertical-align: middle;\n",
       "    }\n",
       "\n",
       "    .dataframe tbody tr th {\n",
       "        vertical-align: top;\n",
       "    }\n",
       "\n",
       "    .dataframe thead th {\n",
       "        text-align: right;\n",
       "    }\n",
       "</style>\n",
       "<table border=\"1\" class=\"dataframe\">\n",
       "  <thead>\n",
       "    <tr style=\"text-align: right;\">\n",
       "      <th></th>\n",
       "      <th>Sum</th>\n",
       "      <th>Total</th>\n",
       "      <th>Mean</th>\n",
       "    </tr>\n",
       "  </thead>\n",
       "  <tbody>\n",
       "    <tr>\n",
       "      <th>Lunch</th>\n",
       "      <td>0.0</td>\n",
       "      <td>0.0</td>\n",
       "      <td>NaN</td>\n",
       "    </tr>\n",
       "    <tr>\n",
       "      <th>Takeaway Available</th>\n",
       "      <td>0.0</td>\n",
       "      <td>0.0</td>\n",
       "      <td>NaN</td>\n",
       "    </tr>\n",
       "    <tr>\n",
       "      <th>Credit Card</th>\n",
       "      <td>0.0</td>\n",
       "      <td>0.0</td>\n",
       "      <td>NaN</td>\n",
       "    </tr>\n",
       "    <tr>\n",
       "      <th>Dinner</th>\n",
       "      <td>0.0</td>\n",
       "      <td>0.0</td>\n",
       "      <td>NaN</td>\n",
       "    </tr>\n",
       "    <tr>\n",
       "      <th>Cash</th>\n",
       "      <td>0.0</td>\n",
       "      <td>0.0</td>\n",
       "      <td>NaN</td>\n",
       "    </tr>\n",
       "    <tr>\n",
       "      <th>...</th>\n",
       "      <td>...</td>\n",
       "      <td>...</td>\n",
       "      <td>...</td>\n",
       "    </tr>\n",
       "    <tr>\n",
       "      <th>Celebrity Frequented</th>\n",
       "      <td>0.0</td>\n",
       "      <td>0.0</td>\n",
       "      <td>NaN</td>\n",
       "    </tr>\n",
       "    <tr>\n",
       "      <th>Alipay Accepted</th>\n",
       "      <td>0.0</td>\n",
       "      <td>0.0</td>\n",
       "      <td>NaN</td>\n",
       "    </tr>\n",
       "    <tr>\n",
       "      <th>Subscription Available</th>\n",
       "      <td>0.0</td>\n",
       "      <td>0.0</td>\n",
       "      <td>NaN</td>\n",
       "    </tr>\n",
       "    <tr>\n",
       "      <th>Subscription Required</th>\n",
       "      <td>0.0</td>\n",
       "      <td>0.0</td>\n",
       "      <td>NaN</td>\n",
       "    </tr>\n",
       "    <tr>\n",
       "      <th>Bira 91 Beer</th>\n",
       "      <td>0.0</td>\n",
       "      <td>0.0</td>\n",
       "      <td>NaN</td>\n",
       "    </tr>\n",
       "  </tbody>\n",
       "</table>\n",
       "<p>104 rows × 3 columns</p>\n",
       "</div>"
      ],
      "text/plain": [
       "                        Sum  Total  Mean\n",
       "Lunch                   0.0    0.0   NaN\n",
       "Takeaway Available      0.0    0.0   NaN\n",
       "Credit Card             0.0    0.0   NaN\n",
       "Dinner                  0.0    0.0   NaN\n",
       "Cash                    0.0    0.0   NaN\n",
       "...                     ...    ...   ...\n",
       "Celebrity Frequented    0.0    0.0   NaN\n",
       "Alipay Accepted         0.0    0.0   NaN\n",
       "Subscription Available  0.0    0.0   NaN\n",
       "Subscription Required   0.0    0.0   NaN\n",
       "Bira 91 Beer            0.0    0.0   NaN\n",
       "\n",
       "[104 rows x 3 columns]"
      ]
     },
     "execution_count": 106,
     "metadata": {},
     "output_type": "execute_result"
    }
   ],
   "source": [
    "h_and_r[\"Mean\"] = h_and_r[\"Sum\"] / h_and_r[\"Total\"]\n",
    "h_and_r\n"
   ]
  },
  {
   "cell_type": "code",
   "execution_count": 107,
   "metadata": {
    "colab": {
     "base_uri": "https://localhost:8080/",
     "height": 363
    },
    "id": "rr4tS3Vd8iMR",
    "outputId": "97d882a4-a4ff-48e0-8412-2f8a3f8781d4"
   },
   "outputs": [
    {
     "data": {
      "text/html": [
       "<div>\n",
       "<style scoped>\n",
       "    .dataframe tbody tr th:only-of-type {\n",
       "        vertical-align: middle;\n",
       "    }\n",
       "\n",
       "    .dataframe tbody tr th {\n",
       "        vertical-align: top;\n",
       "    }\n",
       "\n",
       "    .dataframe thead th {\n",
       "        text-align: right;\n",
       "    }\n",
       "</style>\n",
       "<table border=\"1\" class=\"dataframe\">\n",
       "  <thead>\n",
       "    <tr style=\"text-align: right;\">\n",
       "      <th></th>\n",
       "      <th>Mean</th>\n",
       "      <th>Total</th>\n",
       "    </tr>\n",
       "  </thead>\n",
       "  <tbody>\n",
       "    <tr>\n",
       "      <th>Lunch</th>\n",
       "      <td>NaN</td>\n",
       "      <td>0.0</td>\n",
       "    </tr>\n",
       "    <tr>\n",
       "      <th>Takeaway Available</th>\n",
       "      <td>NaN</td>\n",
       "      <td>0.0</td>\n",
       "    </tr>\n",
       "    <tr>\n",
       "      <th>Credit Card</th>\n",
       "      <td>NaN</td>\n",
       "      <td>0.0</td>\n",
       "    </tr>\n",
       "    <tr>\n",
       "      <th>Dinner</th>\n",
       "      <td>NaN</td>\n",
       "      <td>0.0</td>\n",
       "    </tr>\n",
       "    <tr>\n",
       "      <th>Cash</th>\n",
       "      <td>NaN</td>\n",
       "      <td>0.0</td>\n",
       "    </tr>\n",
       "    <tr>\n",
       "      <th>Air Conditioned</th>\n",
       "      <td>NaN</td>\n",
       "      <td>0.0</td>\n",
       "    </tr>\n",
       "    <tr>\n",
       "      <th>Indoor Seating</th>\n",
       "      <td>NaN</td>\n",
       "      <td>0.0</td>\n",
       "    </tr>\n",
       "    <tr>\n",
       "      <th>Pure Veg</th>\n",
       "      <td>NaN</td>\n",
       "      <td>0.0</td>\n",
       "    </tr>\n",
       "    <tr>\n",
       "      <th>Delivery</th>\n",
       "      <td>NaN</td>\n",
       "      <td>0.0</td>\n",
       "    </tr>\n",
       "    <tr>\n",
       "      <th>No Alcohol Available</th>\n",
       "      <td>NaN</td>\n",
       "      <td>0.0</td>\n",
       "    </tr>\n",
       "  </tbody>\n",
       "</table>\n",
       "</div>"
      ],
      "text/plain": [
       "                      Mean  Total\n",
       "Lunch                  NaN    0.0\n",
       "Takeaway Available     NaN    0.0\n",
       "Credit Card            NaN    0.0\n",
       "Dinner                 NaN    0.0\n",
       "Cash                   NaN    0.0\n",
       "Air Conditioned        NaN    0.0\n",
       "Indoor Seating         NaN    0.0\n",
       "Pure Veg               NaN    0.0\n",
       "Delivery               NaN    0.0\n",
       "No Alcohol Available   NaN    0.0"
      ]
     },
     "execution_count": 107,
     "metadata": {},
     "output_type": "execute_result"
    }
   ],
   "source": [
    "h_and_r[[\"Mean\",\"Total\"]].sort_values(by=\"Mean\", ascending=False)[:10]\n"
   ]
  },
  {
   "cell_type": "code",
   "execution_count": null,
   "metadata": {
    "id": "6n1aCmDr8_qf"
   },
   "outputs": [],
   "source": []
  },
  {
   "cell_type": "markdown",
   "metadata": {
    "id": "DeAWU0ox9Did"
   },
   "source": [
    "Features like Gastro pub, Craft beer, Romantic dining and Sneakpeek are well received among customers.\n",
    "\n"
   ]
  },
  {
   "cell_type": "markdown",
   "metadata": {
    "id": "kyGKvxwB9dts"
   },
   "source": [
    "#Let us create word cloud of top highlights"
   ]
  },
  {
   "cell_type": "code",
   "execution_count": 108,
   "metadata": {
    "colab": {
     "base_uri": "https://localhost:8080/",
     "height": 579
    },
    "id": "-XMov-iW9VYS",
    "outputId": "bbbc8afd-1c2c-4064-f301-23d388cc96e7"
   },
   "outputs": [
    {
     "name": "stderr",
     "output_type": "stream",
     "text": [
      "C:\\Users\\SHOBHA REDDY\\AppData\\Local\\Temp\\ipykernel_6120\\1006744165.py:3: FutureWarning: \n",
      "\n",
      "`shade` is now deprecated in favor of `fill`; setting `fill=True`.\n",
      "This will become an error in seaborn v0.14.0; please update your code.\n",
      "\n",
      "  sns.kdeplot(data['aggregate_rating'], shade=True)\n"
     ]
    },
    {
     "data": {
      "image/png": "[encoded data removed]",
      "text/plain": [
       "<Figure size 640x480 with 1 Axes>"
      ]
     },
     "metadata": {},
     "output_type": "display_data"
    }
   ],
   "source": [
    "# rating vs Cost distribution\n",
    "\n",
    "sns.kdeplot(data['aggregate_rating'], shade=True)\n",
    "plt.title(\"Ratings distribution\")\n",
    "plt.show()\n",
    "\n",
    "#There is a huge spike at 0 which might account for newly opened or unrated restaurants. On average, majority of restaurants have rating between 3 to 4 with fewer restaurants managing to go beyond 4.\n",
    "\n"
   ]
  },
  {
   "cell_type": "code",
   "execution_count": 109,
   "metadata": {
    "colab": {
     "base_uri": "https://localhost:8080/",
     "height": 579
    },
    "id": "iNVnaTPE9iti",
    "outputId": "d7827d51-e88c-4517-a2c8-2a99e375abea"
   },
   "outputs": [
    {
     "name": "stderr",
     "output_type": "stream",
     "text": [
      "C:\\Users\\SHOBHA REDDY\\AppData\\Local\\Temp\\ipykernel_6120\\2260240071.py:2: FutureWarning: \n",
      "\n",
      "`shade` is now deprecated in favor of `fill`; setting `fill=True`.\n",
      "This will become an error in seaborn v0.14.0; please update your code.\n",
      "\n",
      "  sns.kdeplot(data['average_cost_for_two'], shade=True)\n"
     ]
    },
    {
     "data": {
      "image/png": "[encoded data removed]",
      "text/plain": [
       "<Figure size 640x480 with 1 Axes>"
      ]
     },
     "metadata": {},
     "output_type": "display_data"
    }
   ],
   "source": [
    "#Average cost of two\n",
    "sns.kdeplot(data['average_cost_for_two'], shade=True)\n",
    "plt.title(\"Average cost for 2 distribution\")\n",
    "plt.show()\n"
   ]
  },
  {
   "cell_type": "code",
   "execution_count": 110,
   "metadata": {
    "colab": {
     "base_uri": "https://localhost:8080/",
     "height": 579
    },
    "id": "8he0FCmx-M9A",
    "outputId": "a27aff99-0d6b-48a5-d6bd-1ec22ccdb50b"
   },
   "outputs": [
    {
     "name": "stderr",
     "output_type": "stream",
     "text": [
      "C:\\Users\\SHOBHA REDDY\\AppData\\Local\\Temp\\ipykernel_6120\\339298703.py:1: FutureWarning: \n",
      "\n",
      "`shade` is now deprecated in favor of `fill`; setting `fill=True`.\n",
      "This will become an error in seaborn v0.14.0; please update your code.\n",
      "\n",
      "  sns.kdeplot(data['average_cost_for_two'], shade=True)\n"
     ]
    },
    {
     "data": {
      "image/png": "[encoded data removed]",
      "text/plain": [
       "<Figure size 640x480 with 1 Axes>"
      ]
     },
     "metadata": {},
     "output_type": "display_data"
    }
   ],
   "source": [
    "sns.kdeplot(data['average_cost_for_two'], shade=True)\n",
    "plt.xlim([0, 6000])\n",
    "plt.xticks(range(0,6000,500))\n",
    "plt.title(\"Average cost for 2 distribution\")\n",
    "plt.show()\n"
   ]
  },
  {
   "cell_type": "markdown",
   "metadata": {
    "id": "Uop270Ft-b3q"
   },
   "source": [
    "Most of the restaurants are budget friendly with amount ranging between 500"
   ]
  },
  {
   "cell_type": "code",
   "execution_count": null,
   "metadata": {
    "id": "Wp5PUose-Vs_"
   },
   "outputs": [],
   "source": []
  },
  {
   "cell_type": "markdown",
   "metadata": {
    "id": "19Se8G_l-p9W"
   },
   "source": [
    "### Number of restaurants with their price range"
   ]
  },
  {
   "cell_type": "code",
   "execution_count": 111,
   "metadata": {
    "colab": {
     "base_uri": "https://localhost:8080/",
     "height": 487
    },
    "id": "Ckw1TOyL-uVM",
    "outputId": "bafd5457-a5c4-42e5-8026-6d65fbbd3e2a"
   },
   "outputs": [
    {
     "data": {
      "image/png": "[encoded data removed]",
      "text/plain": [
       "<Figure size 800x500 with 1 Axes>"
      ]
     },
     "metadata": {},
     "output_type": "display_data"
    }
   ],
   "source": [
    "price_count = data.groupby(\"price_range\").count()[\"name\"]\n",
    "\n",
    "fig = plt.figure(figsize=[8,5], frameon=False)\n",
    "ax = fig.gca()\n",
    "ax.spines[\"top\"].set_visible(False)\n",
    "ax.spines[\"right\"].set_visible(False)\n",
    "ax.spines[\"left\"].set_color(\"#424242\")\n",
    "ax.spines[\"bottom\"].set_color(\"#424242\")\n",
    "\n",
    "#colors = [\"green\",\"blue\",\"magenta\",\"cyan\",\"gray\",\"yellow\",\"purple\",\"violet\",\"orange\",\"red\",\"maroon\"]\n",
    "#random.shuffle(colors)\n",
    "colors = [\"#2d0f41\",'#933291',\"#f2a49f\",\"#f9cdac\"]\n",
    "plt.bar(price_count.index, price_count.values, color=colors)\n",
    "\n",
    "plt.xticks(range(0, 5), color=\"#424242\")\n",
    "plt.yticks(range(0, 40000, 5000), color=\"#424242\")\n",
    "plt.xlabel(\"Price Ranges\")\n",
    "\n",
    "for i, v in enumerate(price_count):\n",
    "    ax.text(i+0.85, v+700, str(v), color='#424242')\n",
    "plt.title(\"Number of restaurants (by price ranges)\")\n",
    "\n",
    "\n",
    "plt.show()\n"
   ]
  },
  {
   "cell_type": "code",
   "execution_count": null,
   "metadata": {
    "id": "7YPRqpFq-31P"
   },
   "outputs": [],
   "source": []
  },
  {
   "cell_type": "markdown",
   "metadata": {
    "id": "8THOXZW9-8Ig"
   },
   "source": [
    "We can note something interesting here, as the price range increases, the number of restaurants having high price are low."
   ]
  },
  {
   "cell_type": "code",
   "execution_count": 112,
   "metadata": {
    "colab": {
     "base_uri": "https://localhost:8080/"
    },
    "id": "C0JqkABj_Hx1",
    "outputId": "02c15034-0d2d-4524-d9ca-6ce671be7c0b"
   },
   "outputs": [
    {
     "name": "stderr",
     "output_type": "stream",
     "text": [
      "C:\\Users\\SHOBHA REDDY\\AppData\\Local\\Temp\\ipykernel_6120\\302086780.py:3: FutureWarning: Series.__getitem__ treating keys as positions is deprecated. In a future version, integer keys will always be treated as labels (consistent with DataFrame behavior). To access a value by position, use `ser.iloc[pos]`\n",
      "  np.round(data[[\"price_range\",\"aggregate_rating\"]].corr()[\"price_range\"][1],2)\n"
     ]
    },
    {
     "data": {
      "text/plain": [
       "0.25"
      ]
     },
     "execution_count": 112,
     "metadata": {},
     "output_type": "execute_result"
    }
   ],
   "source": [
    "#relation between price_range and rating\n",
    "\n",
    "np.round(data[[\"price_range\",\"aggregate_rating\"]].corr()[\"price_range\"][1],2)\n",
    "\n",
    "#they are positively correlated\n"
   ]
  },
  {
   "cell_type": "code",
   "execution_count": 113,
   "metadata": {
    "colab": {
     "base_uri": "https://localhost:8080/",
     "height": 472
    },
    "id": "4NRSU2IX_Zez",
    "outputId": "11525ccc-94d6-43d8-b9a8-5d823740d901"
   },
   "outputs": [
    {
     "data": {
      "image/png": "[encoded data removed]",
      "text/plain": [
       "<Figure size 640x480 with 1 Axes>"
      ]
     },
     "metadata": {},
     "output_type": "display_data"
    }
   ],
   "source": [
    "sns.boxplot(x='price_range', y='aggregate_rating', data=data)\n",
    "plt.ylim(1)\n",
    "plt.title(\"Relationship between Price range and Ratings\")\n",
    "plt.show()\n",
    "#Now, it is clear. The higher the price a restaurant charges, more services they provide and hence more chances of getting good ratings from their customers.\n",
    "\n"
   ]
  },
  {
   "cell_type": "markdown",
   "metadata": {
    "id": "wg06WaMh_2cE"
   },
   "source": [
    "#Conclusions:\n",
    "After working on this data, we can conclude the following things:-\n",
    "\n",
    "1. 35% of restaurants in India are part of some chain\n",
    "2. Domino's Pizza, Cafe Coffee Day, KFC are the biggest fast food chains in the country with most number of outlets\n",
    "3. Barbecues and Grill food chains have highest average ratings than other type of restaurants\n",
    "4. Quick bites and casual dining type of establishment have most number of outlets\n",
    "5.Establishments with alcohol availability have highest average ratings, votes and photo uploads\n",
    "6. Banglore has most number of restaurants\n",
    "7. Gurgaon has highest rated restaurants (average 3.83) whereas Hyderabad has more number of critics (votes). Mumbai and New Delhi dominates for most photo uploads per outlet\n",
    "8. Gastro pub, Romantic Dining and Craft Beer features are well rated by customers\n",
    "9. Most restaurants are rated between 3 and 4\n",
    "10. There are less number of restaurants at higher price ranges\n",
    "11. As the average cost of two increases, the chance of a restaurant having higher rating increases\n"
   ]
  },
  {
   "cell_type": "code",
   "execution_count": null,
   "metadata": {
    "id": "612y-wp-_8-0"
   },
   "outputs": [],
   "source": []
  }
 ],
 "metadata": {
  "colab": {
   "provenance": [],
   "toc_visible": true
  },
  "kernelspec": {
   "display_name": "Python 3 (ipykernel)",
   "language": "python",
   "name": "python3"
  },
  "language_info": {
   "codemirror_mode": {
    "name": "ipython",
    "version": 3
   },
   "file_extension": ".py",
   "mimetype": "text/x-python",
   "name": "python",
   "nbconvert_exporter": "python",
   "pygments_lexer": "ipython3",
   "version": "3.12.3"
  }
 },
 "nbformat": 4,
 "nbformat_minor": 4
}
